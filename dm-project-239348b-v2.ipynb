{
 "cells": [
  {
   "cell_type": "markdown",
   "id": "a2a775f1",
   "metadata": {
    "_cell_guid": "b1076dfc-b9ad-4769-8c92-a6c4dae69d19",
    "_uuid": "8f2839f25d086af736a60e9eeb907d3b93b6e0e5",
    "execution": {
     "iopub.execute_input": "2023-11-09T19:52:42.886211Z",
     "iopub.status.busy": "2023-11-09T19:52:42.885873Z",
     "iopub.status.idle": "2023-11-09T19:52:43.219464Z",
     "shell.execute_reply": "2023-11-09T19:52:43.218590Z",
     "shell.execute_reply.started": "2023-11-09T19:52:42.886181Z"
    },
    "papermill": {
     "duration": 0.018607,
     "end_time": "2023-12-03T20:57:29.022758",
     "exception": false,
     "start_time": "2023-12-03T20:57:29.004151",
     "status": "completed"
    },
    "tags": []
   },
   "source": [
    "# CS5227 - Data Mining"
   ]
  },
  {
   "cell_type": "markdown",
   "id": "308ac455",
   "metadata": {
    "papermill": {
     "duration": 0.017582,
     "end_time": "2023-12-03T20:57:29.058732",
     "exception": false,
     "start_time": "2023-12-03T20:57:29.041150",
     "status": "completed"
    },
    "tags": []
   },
   "source": [
    "## Group 9"
   ]
  },
  {
   "cell_type": "markdown",
   "id": "064792c4",
   "metadata": {
    "papermill": {
     "duration": 0.017839,
     "end_time": "2023-12-03T20:57:29.095730",
     "exception": false,
     "start_time": "2023-12-03T20:57:29.077891",
     "status": "completed"
    },
    "tags": []
   },
   "source": [
    "### Kokularaj B. (239329T)\n",
    "### Banujan C. (239306V)\n",
    "### Ramsan M.M.M. (239348B)\n",
    "### Lakmal D.K.D.L. (229415U)"
   ]
  },
  {
   "cell_type": "code",
   "execution_count": 1,
   "id": "00e044b3",
   "metadata": {
    "execution": {
     "iopub.execute_input": "2023-12-03T20:57:29.136299Z",
     "iopub.status.busy": "2023-12-03T20:57:29.135631Z",
     "iopub.status.idle": "2023-12-03T20:57:30.031733Z",
     "shell.execute_reply": "2023-12-03T20:57:30.030558Z"
    },
    "papermill": {
     "duration": 0.919346,
     "end_time": "2023-12-03T20:57:30.033964",
     "exception": false,
     "start_time": "2023-12-03T20:57:29.114618",
     "status": "completed"
    },
    "tags": []
   },
   "outputs": [
    {
     "name": "stdout",
     "output_type": "stream",
     "text": [
      "/kaggle/input/child-mind-institute-detect-sleep-states/train_series.parquet\n",
      "/kaggle/input/child-mind-institute-detect-sleep-states/sample_submission.csv\n",
      "/kaggle/input/child-mind-institute-detect-sleep-states/train_events.csv\n",
      "/kaggle/input/child-mind-institute-detect-sleep-states/test_series.parquet\n"
     ]
    }
   ],
   "source": [
    "# This Python 3 environment comes with many helpful analytics libraries installed\n",
    "# It is defined by the kaggle/python Docker image: https://github.com/kaggle/docker-python\n",
    "# For example, here's several helpful packages to load\n",
    "\n",
    "import numpy as np # linear algebra\n",
    "import pandas as pd # data processing, CSV file I/O (e.g. pd.read_csv)\n",
    "\n",
    "# Input data files are available in the read-only \"../input/\" directory\n",
    "# For example, running this (by clicking run or pressing Shift+Enter) will list all files under the input directory\n",
    "\n",
    "import os\n",
    "for dirname, _, filenames in os.walk('/kaggle/input'):\n",
    "    for filename in filenames:\n",
    "        print(os.path.join(dirname, filename))\n",
    "\n",
    "# You can write up to 20GB to the current directory (/kaggle/working/) that gets preserved as output when you create a version using \"Save & Run All\" \n",
    "# You can also write temporary files to /kaggle/temp/, but they won't be saved outside of the current session"
   ]
  },
  {
   "cell_type": "code",
   "execution_count": 2,
   "id": "ccf858b7",
   "metadata": {
    "execution": {
     "iopub.execute_input": "2023-12-03T20:57:30.074668Z",
     "iopub.status.busy": "2023-12-03T20:57:30.073951Z",
     "iopub.status.idle": "2023-12-03T20:57:32.966018Z",
     "shell.execute_reply": "2023-12-03T20:57:32.964745Z"
    },
    "papermill": {
     "duration": 2.915758,
     "end_time": "2023-12-03T20:57:32.968586",
     "exception": false,
     "start_time": "2023-12-03T20:57:30.052828",
     "status": "completed"
    },
    "tags": []
   },
   "outputs": [],
   "source": [
    "import numpy as np\n",
    "from datetime import datetime as dt\n",
    "from datetime import timedelta\n",
    "from pathlib import Path\n",
    "from datetime import datetime\n",
    "from datetime import time as tm\n",
    "import pyarrow.parquet as pq\n",
    "\n",
    "#from tqdm import tqdm\n",
    "#from rich.progress import Progress\n",
    "#import swifter\n",
    "\n",
    "import dask.dataframe as dd\n",
    "from dask.diagnostics import ProgressBar\n",
    "\n",
    "\n",
    "import joblib\n",
    "\n",
    "import polars as pl\n",
    "from matplotlib.dates import date2num\n",
    "from matplotlib import pyplot as plt\n",
    "from tqdm.auto import tqdm\n",
    "from io import StringIO\n",
    "\n",
    "from sklearn.preprocessing import MinMaxScaler\n",
    "import gc\n",
    "from sklearn.preprocessing import LabelEncoder\n",
    "\n",
    "from xgboost import XGBClassifier"
   ]
  },
  {
   "cell_type": "markdown",
   "id": "afae8f2e",
   "metadata": {
    "papermill": {
     "duration": 0.07269,
     "end_time": "2023-12-03T20:57:33.060304",
     "exception": false,
     "start_time": "2023-12-03T20:57:32.987614",
     "status": "completed"
    },
    "tags": []
   },
   "source": [
    "#### Input Data"
   ]
  },
  {
   "cell_type": "code",
   "execution_count": 3,
   "id": "c968a268",
   "metadata": {
    "execution": {
     "iopub.execute_input": "2023-12-03T20:57:33.099297Z",
     "iopub.status.busy": "2023-12-03T20:57:33.098143Z",
     "iopub.status.idle": "2023-12-03T20:57:33.104081Z",
     "shell.execute_reply": "2023-12-03T20:57:33.102855Z"
    },
    "papermill": {
     "duration": 0.027505,
     "end_time": "2023-12-03T20:57:33.106063",
     "exception": false,
     "start_time": "2023-12-03T20:57:33.078558",
     "status": "completed"
    },
    "tags": []
   },
   "outputs": [],
   "source": [
    "DATA_PATH = Path(\"/kaggle/input/child-mind-institute-detect-sleep-states\")\n",
    "TRAIN_EVENTS_PATH = DATA_PATH / \"train_events.csv\"\n",
    "TRAIN_SERIES_PATH = DATA_PATH / \"train_series.parquet\"\n",
    "TEST_SERIES_PATH = DATA_PATH / \"test_series.parquet\"\n",
    "SAMPLE_SUBMISSION_PATH = DATA_PATH / \"sample_submission.csv\""
   ]
  },
  {
   "cell_type": "code",
   "execution_count": 4,
   "id": "4ce5afb2",
   "metadata": {
    "execution": {
     "iopub.execute_input": "2023-12-03T20:57:33.144746Z",
     "iopub.status.busy": "2023-12-03T20:57:33.144368Z",
     "iopub.status.idle": "2023-12-03T20:57:33.183928Z",
     "shell.execute_reply": "2023-12-03T20:57:33.182757Z"
    },
    "papermill": {
     "duration": 0.061841,
     "end_time": "2023-12-03T20:57:33.186357",
     "exception": false,
     "start_time": "2023-12-03T20:57:33.124516",
     "status": "completed"
    },
    "tags": []
   },
   "outputs": [],
   "source": [
    "train_event_DF=pd.read_csv(TRAIN_EVENTS_PATH)"
   ]
  },
  {
   "cell_type": "code",
   "execution_count": 5,
   "id": "e17a8ac4",
   "metadata": {
    "execution": {
     "iopub.execute_input": "2023-12-03T20:57:33.226832Z",
     "iopub.status.busy": "2023-12-03T20:57:33.226294Z",
     "iopub.status.idle": "2023-12-03T20:57:33.249790Z",
     "shell.execute_reply": "2023-12-03T20:57:33.248885Z"
    },
    "papermill": {
     "duration": 0.046084,
     "end_time": "2023-12-03T20:57:33.251778",
     "exception": false,
     "start_time": "2023-12-03T20:57:33.205694",
     "status": "completed"
    },
    "tags": []
   },
   "outputs": [
    {
     "data": {
      "text/html": [
       "<div>\n",
       "<style scoped>\n",
       "    .dataframe tbody tr th:only-of-type {\n",
       "        vertical-align: middle;\n",
       "    }\n",
       "\n",
       "    .dataframe tbody tr th {\n",
       "        vertical-align: top;\n",
       "    }\n",
       "\n",
       "    .dataframe thead th {\n",
       "        text-align: right;\n",
       "    }\n",
       "</style>\n",
       "<table border=\"1\" class=\"dataframe\">\n",
       "  <thead>\n",
       "    <tr style=\"text-align: right;\">\n",
       "      <th></th>\n",
       "      <th>series_id</th>\n",
       "      <th>night</th>\n",
       "      <th>event</th>\n",
       "      <th>step</th>\n",
       "      <th>timestamp</th>\n",
       "    </tr>\n",
       "  </thead>\n",
       "  <tbody>\n",
       "    <tr>\n",
       "      <th>0</th>\n",
       "      <td>038441c925bb</td>\n",
       "      <td>1</td>\n",
       "      <td>onset</td>\n",
       "      <td>4992.0</td>\n",
       "      <td>2018-08-14T22:26:00-0400</td>\n",
       "    </tr>\n",
       "    <tr>\n",
       "      <th>1</th>\n",
       "      <td>038441c925bb</td>\n",
       "      <td>1</td>\n",
       "      <td>wakeup</td>\n",
       "      <td>10932.0</td>\n",
       "      <td>2018-08-15T06:41:00-0400</td>\n",
       "    </tr>\n",
       "    <tr>\n",
       "      <th>2</th>\n",
       "      <td>038441c925bb</td>\n",
       "      <td>2</td>\n",
       "      <td>onset</td>\n",
       "      <td>20244.0</td>\n",
       "      <td>2018-08-15T19:37:00-0400</td>\n",
       "    </tr>\n",
       "    <tr>\n",
       "      <th>3</th>\n",
       "      <td>038441c925bb</td>\n",
       "      <td>2</td>\n",
       "      <td>wakeup</td>\n",
       "      <td>27492.0</td>\n",
       "      <td>2018-08-16T05:41:00-0400</td>\n",
       "    </tr>\n",
       "    <tr>\n",
       "      <th>4</th>\n",
       "      <td>038441c925bb</td>\n",
       "      <td>3</td>\n",
       "      <td>onset</td>\n",
       "      <td>39996.0</td>\n",
       "      <td>2018-08-16T23:03:00-0400</td>\n",
       "    </tr>\n",
       "    <tr>\n",
       "      <th>5</th>\n",
       "      <td>038441c925bb</td>\n",
       "      <td>3</td>\n",
       "      <td>wakeup</td>\n",
       "      <td>44400.0</td>\n",
       "      <td>2018-08-17T05:10:00-0400</td>\n",
       "    </tr>\n",
       "    <tr>\n",
       "      <th>6</th>\n",
       "      <td>038441c925bb</td>\n",
       "      <td>4</td>\n",
       "      <td>onset</td>\n",
       "      <td>57240.0</td>\n",
       "      <td>2018-08-17T23:00:00-0400</td>\n",
       "    </tr>\n",
       "    <tr>\n",
       "      <th>7</th>\n",
       "      <td>038441c925bb</td>\n",
       "      <td>4</td>\n",
       "      <td>wakeup</td>\n",
       "      <td>62856.0</td>\n",
       "      <td>2018-08-18T06:48:00-0400</td>\n",
       "    </tr>\n",
       "    <tr>\n",
       "      <th>8</th>\n",
       "      <td>038441c925bb</td>\n",
       "      <td>5</td>\n",
       "      <td>onset</td>\n",
       "      <td>NaN</td>\n",
       "      <td>NaN</td>\n",
       "    </tr>\n",
       "    <tr>\n",
       "      <th>9</th>\n",
       "      <td>038441c925bb</td>\n",
       "      <td>5</td>\n",
       "      <td>wakeup</td>\n",
       "      <td>NaN</td>\n",
       "      <td>NaN</td>\n",
       "    </tr>\n",
       "  </tbody>\n",
       "</table>\n",
       "</div>"
      ],
      "text/plain": [
       "      series_id  night   event     step                 timestamp\n",
       "0  038441c925bb      1   onset   4992.0  2018-08-14T22:26:00-0400\n",
       "1  038441c925bb      1  wakeup  10932.0  2018-08-15T06:41:00-0400\n",
       "2  038441c925bb      2   onset  20244.0  2018-08-15T19:37:00-0400\n",
       "3  038441c925bb      2  wakeup  27492.0  2018-08-16T05:41:00-0400\n",
       "4  038441c925bb      3   onset  39996.0  2018-08-16T23:03:00-0400\n",
       "5  038441c925bb      3  wakeup  44400.0  2018-08-17T05:10:00-0400\n",
       "6  038441c925bb      4   onset  57240.0  2018-08-17T23:00:00-0400\n",
       "7  038441c925bb      4  wakeup  62856.0  2018-08-18T06:48:00-0400\n",
       "8  038441c925bb      5   onset      NaN                       NaN\n",
       "9  038441c925bb      5  wakeup      NaN                       NaN"
      ]
     },
     "execution_count": 5,
     "metadata": {},
     "output_type": "execute_result"
    }
   ],
   "source": [
    "train_event_DF.head(10)"
   ]
  },
  {
   "cell_type": "code",
   "execution_count": 6,
   "id": "e20ea853",
   "metadata": {
    "execution": {
     "iopub.execute_input": "2023-12-03T20:57:33.292130Z",
     "iopub.status.busy": "2023-12-03T20:57:33.291756Z",
     "iopub.status.idle": "2023-12-03T20:57:33.297663Z",
     "shell.execute_reply": "2023-12-03T20:57:33.296369Z"
    },
    "papermill": {
     "duration": 0.028516,
     "end_time": "2023-12-03T20:57:33.299557",
     "exception": false,
     "start_time": "2023-12-03T20:57:33.271041",
     "status": "completed"
    },
    "tags": []
   },
   "outputs": [
    {
     "data": {
      "text/plain": [
       "(14508, 5)"
      ]
     },
     "execution_count": 6,
     "metadata": {},
     "output_type": "execute_result"
    }
   ],
   "source": [
    "train_event_DF.shape"
   ]
  },
  {
   "cell_type": "code",
   "execution_count": 7,
   "id": "b6ea2554",
   "metadata": {
    "execution": {
     "iopub.execute_input": "2023-12-03T20:57:33.340068Z",
     "iopub.status.busy": "2023-12-03T20:57:33.339436Z",
     "iopub.status.idle": "2023-12-03T20:57:33.351033Z",
     "shell.execute_reply": "2023-12-03T20:57:33.349465Z"
    },
    "papermill": {
     "duration": 0.0347,
     "end_time": "2023-12-03T20:57:33.353708",
     "exception": false,
     "start_time": "2023-12-03T20:57:33.319008",
     "status": "completed"
    },
    "tags": []
   },
   "outputs": [
    {
     "data": {
      "text/html": [
       "<div>\n",
       "<style scoped>\n",
       "    .dataframe tbody tr th:only-of-type {\n",
       "        vertical-align: middle;\n",
       "    }\n",
       "\n",
       "    .dataframe tbody tr th {\n",
       "        vertical-align: top;\n",
       "    }\n",
       "\n",
       "    .dataframe thead th {\n",
       "        text-align: right;\n",
       "    }\n",
       "</style>\n",
       "<table border=\"1\" class=\"dataframe\">\n",
       "  <thead>\n",
       "    <tr style=\"text-align: right;\">\n",
       "      <th></th>\n",
       "      <th>series_id</th>\n",
       "      <th>night</th>\n",
       "      <th>event</th>\n",
       "      <th>step</th>\n",
       "      <th>timestamp</th>\n",
       "    </tr>\n",
       "  </thead>\n",
       "  <tbody>\n",
       "    <tr>\n",
       "      <th>0</th>\n",
       "      <td>038441c925bb</td>\n",
       "      <td>1</td>\n",
       "      <td>onset</td>\n",
       "      <td>4992.0</td>\n",
       "      <td>2018-08-14T22:26:00-0400</td>\n",
       "    </tr>\n",
       "    <tr>\n",
       "      <th>1</th>\n",
       "      <td>038441c925bb</td>\n",
       "      <td>1</td>\n",
       "      <td>wakeup</td>\n",
       "      <td>10932.0</td>\n",
       "      <td>2018-08-15T06:41:00-0400</td>\n",
       "    </tr>\n",
       "    <tr>\n",
       "      <th>2</th>\n",
       "      <td>038441c925bb</td>\n",
       "      <td>2</td>\n",
       "      <td>onset</td>\n",
       "      <td>20244.0</td>\n",
       "      <td>2018-08-15T19:37:00-0400</td>\n",
       "    </tr>\n",
       "    <tr>\n",
       "      <th>3</th>\n",
       "      <td>038441c925bb</td>\n",
       "      <td>2</td>\n",
       "      <td>wakeup</td>\n",
       "      <td>27492.0</td>\n",
       "      <td>2018-08-16T05:41:00-0400</td>\n",
       "    </tr>\n",
       "    <tr>\n",
       "      <th>4</th>\n",
       "      <td>038441c925bb</td>\n",
       "      <td>3</td>\n",
       "      <td>onset</td>\n",
       "      <td>39996.0</td>\n",
       "      <td>2018-08-16T23:03:00-0400</td>\n",
       "    </tr>\n",
       "    <tr>\n",
       "      <th>5</th>\n",
       "      <td>038441c925bb</td>\n",
       "      <td>3</td>\n",
       "      <td>wakeup</td>\n",
       "      <td>44400.0</td>\n",
       "      <td>2018-08-17T05:10:00-0400</td>\n",
       "    </tr>\n",
       "    <tr>\n",
       "      <th>6</th>\n",
       "      <td>038441c925bb</td>\n",
       "      <td>4</td>\n",
       "      <td>onset</td>\n",
       "      <td>57240.0</td>\n",
       "      <td>2018-08-17T23:00:00-0400</td>\n",
       "    </tr>\n",
       "    <tr>\n",
       "      <th>7</th>\n",
       "      <td>038441c925bb</td>\n",
       "      <td>4</td>\n",
       "      <td>wakeup</td>\n",
       "      <td>62856.0</td>\n",
       "      <td>2018-08-18T06:48:00-0400</td>\n",
       "    </tr>\n",
       "    <tr>\n",
       "      <th>8</th>\n",
       "      <td>038441c925bb</td>\n",
       "      <td>5</td>\n",
       "      <td>onset</td>\n",
       "      <td>NaN</td>\n",
       "      <td>NaN</td>\n",
       "    </tr>\n",
       "    <tr>\n",
       "      <th>9</th>\n",
       "      <td>038441c925bb</td>\n",
       "      <td>5</td>\n",
       "      <td>wakeup</td>\n",
       "      <td>NaN</td>\n",
       "      <td>NaN</td>\n",
       "    </tr>\n",
       "  </tbody>\n",
       "</table>\n",
       "</div>"
      ],
      "text/plain": [
       "      series_id  night   event     step                 timestamp\n",
       "0  038441c925bb      1   onset   4992.0  2018-08-14T22:26:00-0400\n",
       "1  038441c925bb      1  wakeup  10932.0  2018-08-15T06:41:00-0400\n",
       "2  038441c925bb      2   onset  20244.0  2018-08-15T19:37:00-0400\n",
       "3  038441c925bb      2  wakeup  27492.0  2018-08-16T05:41:00-0400\n",
       "4  038441c925bb      3   onset  39996.0  2018-08-16T23:03:00-0400\n",
       "5  038441c925bb      3  wakeup  44400.0  2018-08-17T05:10:00-0400\n",
       "6  038441c925bb      4   onset  57240.0  2018-08-17T23:00:00-0400\n",
       "7  038441c925bb      4  wakeup  62856.0  2018-08-18T06:48:00-0400\n",
       "8  038441c925bb      5   onset      NaN                       NaN\n",
       "9  038441c925bb      5  wakeup      NaN                       NaN"
      ]
     },
     "execution_count": 7,
     "metadata": {},
     "output_type": "execute_result"
    }
   ],
   "source": [
    "train_event_DF.head(10)"
   ]
  },
  {
   "cell_type": "code",
   "execution_count": 8,
   "id": "b02cce3f",
   "metadata": {
    "execution": {
     "iopub.execute_input": "2023-12-03T20:57:33.395571Z",
     "iopub.status.busy": "2023-12-03T20:57:33.395052Z",
     "iopub.status.idle": "2023-12-03T20:57:33.402434Z",
     "shell.execute_reply": "2023-12-03T20:57:33.401030Z"
    },
    "papermill": {
     "duration": 0.031188,
     "end_time": "2023-12-03T20:57:33.404735",
     "exception": false,
     "start_time": "2023-12-03T20:57:33.373547",
     "status": "completed"
    },
    "tags": []
   },
   "outputs": [
    {
     "data": {
      "text/plain": [
       "series_id     object\n",
       "night          int64\n",
       "event         object\n",
       "step         float64\n",
       "timestamp     object\n",
       "dtype: object"
      ]
     },
     "execution_count": 8,
     "metadata": {},
     "output_type": "execute_result"
    }
   ],
   "source": [
    "train_event_DF.dtypes"
   ]
  },
  {
   "cell_type": "code",
   "execution_count": 9,
   "id": "abc6ddcd",
   "metadata": {
    "execution": {
     "iopub.execute_input": "2023-12-03T20:57:33.446702Z",
     "iopub.status.busy": "2023-12-03T20:57:33.445418Z",
     "iopub.status.idle": "2023-12-03T20:58:27.502793Z",
     "shell.execute_reply": "2023-12-03T20:58:27.501902Z"
    },
    "papermill": {
     "duration": 54.080706,
     "end_time": "2023-12-03T20:58:27.505118",
     "exception": false,
     "start_time": "2023-12-03T20:57:33.424412",
     "status": "completed"
    },
    "tags": []
   },
   "outputs": [],
   "source": [
    "train_series_DF=pd.read_parquet(TRAIN_SERIES_PATH)"
   ]
  },
  {
   "cell_type": "code",
   "execution_count": 10,
   "id": "eb6188dc",
   "metadata": {
    "execution": {
     "iopub.execute_input": "2023-12-03T20:58:27.545884Z",
     "iopub.status.busy": "2023-12-03T20:58:27.545188Z",
     "iopub.status.idle": "2023-12-03T20:58:27.552270Z",
     "shell.execute_reply": "2023-12-03T20:58:27.550882Z"
    },
    "papermill": {
     "duration": 0.03026,
     "end_time": "2023-12-03T20:58:27.554695",
     "exception": false,
     "start_time": "2023-12-03T20:58:27.524435",
     "status": "completed"
    },
    "tags": []
   },
   "outputs": [
    {
     "data": {
      "text/plain": [
       "pandas.core.frame.DataFrame"
      ]
     },
     "execution_count": 10,
     "metadata": {},
     "output_type": "execute_result"
    }
   ],
   "source": [
    "type(train_series_DF.head(10))"
   ]
  },
  {
   "cell_type": "code",
   "execution_count": 11,
   "id": "37aee581",
   "metadata": {
    "execution": {
     "iopub.execute_input": "2023-12-03T20:58:27.596401Z",
     "iopub.status.busy": "2023-12-03T20:58:27.595477Z",
     "iopub.status.idle": "2023-12-03T20:58:27.602626Z",
     "shell.execute_reply": "2023-12-03T20:58:27.601408Z"
    },
    "papermill": {
     "duration": 0.030847,
     "end_time": "2023-12-03T20:58:27.605090",
     "exception": false,
     "start_time": "2023-12-03T20:58:27.574243",
     "status": "completed"
    },
    "tags": []
   },
   "outputs": [
    {
     "data": {
      "text/plain": [
       "(127946340, 5)"
      ]
     },
     "execution_count": 11,
     "metadata": {},
     "output_type": "execute_result"
    }
   ],
   "source": [
    "train_series_DF.shape"
   ]
  },
  {
   "cell_type": "code",
   "execution_count": 12,
   "id": "1d9456ff",
   "metadata": {
    "execution": {
     "iopub.execute_input": "2023-12-03T20:58:27.646913Z",
     "iopub.status.busy": "2023-12-03T20:58:27.646258Z",
     "iopub.status.idle": "2023-12-03T20:58:27.659805Z",
     "shell.execute_reply": "2023-12-03T20:58:27.658445Z"
    },
    "papermill": {
     "duration": 0.037303,
     "end_time": "2023-12-03T20:58:27.662475",
     "exception": false,
     "start_time": "2023-12-03T20:58:27.625172",
     "status": "completed"
    },
    "tags": []
   },
   "outputs": [],
   "source": [
    "test_series_DF=pd.read_parquet(TEST_SERIES_PATH)"
   ]
  },
  {
   "cell_type": "code",
   "execution_count": 13,
   "id": "c2d3bcac",
   "metadata": {
    "execution": {
     "iopub.execute_input": "2023-12-03T20:58:27.706378Z",
     "iopub.status.busy": "2023-12-03T20:58:27.706000Z",
     "iopub.status.idle": "2023-12-03T20:58:27.718700Z",
     "shell.execute_reply": "2023-12-03T20:58:27.717483Z"
    },
    "papermill": {
     "duration": 0.039057,
     "end_time": "2023-12-03T20:58:27.721214",
     "exception": false,
     "start_time": "2023-12-03T20:58:27.682157",
     "status": "completed"
    },
    "tags": []
   },
   "outputs": [
    {
     "data": {
      "text/html": [
       "<div>\n",
       "<style scoped>\n",
       "    .dataframe tbody tr th:only-of-type {\n",
       "        vertical-align: middle;\n",
       "    }\n",
       "\n",
       "    .dataframe tbody tr th {\n",
       "        vertical-align: top;\n",
       "    }\n",
       "\n",
       "    .dataframe thead th {\n",
       "        text-align: right;\n",
       "    }\n",
       "</style>\n",
       "<table border=\"1\" class=\"dataframe\">\n",
       "  <thead>\n",
       "    <tr style=\"text-align: right;\">\n",
       "      <th></th>\n",
       "      <th>series_id</th>\n",
       "      <th>step</th>\n",
       "      <th>timestamp</th>\n",
       "      <th>anglez</th>\n",
       "      <th>enmo</th>\n",
       "    </tr>\n",
       "  </thead>\n",
       "  <tbody>\n",
       "    <tr>\n",
       "      <th>0</th>\n",
       "      <td>038441c925bb</td>\n",
       "      <td>0</td>\n",
       "      <td>2018-08-14T15:30:00-0400</td>\n",
       "      <td>2.6367</td>\n",
       "      <td>0.0217</td>\n",
       "    </tr>\n",
       "    <tr>\n",
       "      <th>1</th>\n",
       "      <td>038441c925bb</td>\n",
       "      <td>1</td>\n",
       "      <td>2018-08-14T15:30:05-0400</td>\n",
       "      <td>2.6368</td>\n",
       "      <td>0.0215</td>\n",
       "    </tr>\n",
       "    <tr>\n",
       "      <th>2</th>\n",
       "      <td>038441c925bb</td>\n",
       "      <td>2</td>\n",
       "      <td>2018-08-14T15:30:10-0400</td>\n",
       "      <td>2.6370</td>\n",
       "      <td>0.0216</td>\n",
       "    </tr>\n",
       "    <tr>\n",
       "      <th>3</th>\n",
       "      <td>038441c925bb</td>\n",
       "      <td>3</td>\n",
       "      <td>2018-08-14T15:30:15-0400</td>\n",
       "      <td>2.6368</td>\n",
       "      <td>0.0213</td>\n",
       "    </tr>\n",
       "    <tr>\n",
       "      <th>4</th>\n",
       "      <td>038441c925bb</td>\n",
       "      <td>4</td>\n",
       "      <td>2018-08-14T15:30:20-0400</td>\n",
       "      <td>2.6368</td>\n",
       "      <td>0.0215</td>\n",
       "    </tr>\n",
       "  </tbody>\n",
       "</table>\n",
       "</div>"
      ],
      "text/plain": [
       "      series_id  step                 timestamp  anglez    enmo\n",
       "0  038441c925bb     0  2018-08-14T15:30:00-0400  2.6367  0.0217\n",
       "1  038441c925bb     1  2018-08-14T15:30:05-0400  2.6368  0.0215\n",
       "2  038441c925bb     2  2018-08-14T15:30:10-0400  2.6370  0.0216\n",
       "3  038441c925bb     3  2018-08-14T15:30:15-0400  2.6368  0.0213\n",
       "4  038441c925bb     4  2018-08-14T15:30:20-0400  2.6368  0.0215"
      ]
     },
     "execution_count": 13,
     "metadata": {},
     "output_type": "execute_result"
    }
   ],
   "source": [
    "test_series_DF.head()"
   ]
  },
  {
   "cell_type": "code",
   "execution_count": 14,
   "id": "8e28e652",
   "metadata": {
    "execution": {
     "iopub.execute_input": "2023-12-03T20:58:27.762555Z",
     "iopub.status.busy": "2023-12-03T20:58:27.762074Z",
     "iopub.status.idle": "2023-12-03T20:58:27.779491Z",
     "shell.execute_reply": "2023-12-03T20:58:27.778578Z"
    },
    "papermill": {
     "duration": 0.040494,
     "end_time": "2023-12-03T20:58:27.781484",
     "exception": false,
     "start_time": "2023-12-03T20:58:27.740990",
     "status": "completed"
    },
    "tags": []
   },
   "outputs": [
    {
     "data": {
      "text/html": [
       "<div>\n",
       "<style scoped>\n",
       "    .dataframe tbody tr th:only-of-type {\n",
       "        vertical-align: middle;\n",
       "    }\n",
       "\n",
       "    .dataframe tbody tr th {\n",
       "        vertical-align: top;\n",
       "    }\n",
       "\n",
       "    .dataframe thead th {\n",
       "        text-align: right;\n",
       "    }\n",
       "</style>\n",
       "<table border=\"1\" class=\"dataframe\">\n",
       "  <thead>\n",
       "    <tr style=\"text-align: right;\">\n",
       "      <th></th>\n",
       "      <th>row_id</th>\n",
       "      <th>series_id</th>\n",
       "      <th>step</th>\n",
       "      <th>event</th>\n",
       "      <th>score</th>\n",
       "    </tr>\n",
       "  </thead>\n",
       "  <tbody>\n",
       "    <tr>\n",
       "      <th>0</th>\n",
       "      <td>0</td>\n",
       "      <td>038441c925bb</td>\n",
       "      <td>100</td>\n",
       "      <td>onset</td>\n",
       "      <td>0.0</td>\n",
       "    </tr>\n",
       "    <tr>\n",
       "      <th>1</th>\n",
       "      <td>1</td>\n",
       "      <td>038441c925bb</td>\n",
       "      <td>105</td>\n",
       "      <td>wakeup</td>\n",
       "      <td>0.0</td>\n",
       "    </tr>\n",
       "    <tr>\n",
       "      <th>2</th>\n",
       "      <td>2</td>\n",
       "      <td>03d92c9f6f8a</td>\n",
       "      <td>80</td>\n",
       "      <td>onset</td>\n",
       "      <td>0.5</td>\n",
       "    </tr>\n",
       "    <tr>\n",
       "      <th>3</th>\n",
       "      <td>3</td>\n",
       "      <td>03d92c9f6f8a</td>\n",
       "      <td>110</td>\n",
       "      <td>wakeup</td>\n",
       "      <td>0.5</td>\n",
       "    </tr>\n",
       "    <tr>\n",
       "      <th>4</th>\n",
       "      <td>4</td>\n",
       "      <td>0402a003dae9</td>\n",
       "      <td>90</td>\n",
       "      <td>onset</td>\n",
       "      <td>1.0</td>\n",
       "    </tr>\n",
       "    <tr>\n",
       "      <th>5</th>\n",
       "      <td>5</td>\n",
       "      <td>0402a003dae9</td>\n",
       "      <td>120</td>\n",
       "      <td>wakeup</td>\n",
       "      <td>1.0</td>\n",
       "    </tr>\n",
       "  </tbody>\n",
       "</table>\n",
       "</div>"
      ],
      "text/plain": [
       "   row_id     series_id  step   event  score\n",
       "0       0  038441c925bb   100   onset    0.0\n",
       "1       1  038441c925bb   105  wakeup    0.0\n",
       "2       2  03d92c9f6f8a    80   onset    0.5\n",
       "3       3  03d92c9f6f8a   110  wakeup    0.5\n",
       "4       4  0402a003dae9    90   onset    1.0\n",
       "5       5  0402a003dae9   120  wakeup    1.0"
      ]
     },
     "execution_count": 14,
     "metadata": {},
     "output_type": "execute_result"
    }
   ],
   "source": [
    "sample_submisstion_DF=pd.read_csv(SAMPLE_SUBMISSION_PATH)\n",
    "sample_submisstion_DF.head(50)"
   ]
  },
  {
   "cell_type": "markdown",
   "id": "1eae1558",
   "metadata": {
    "papermill": {
     "duration": 0.022361,
     "end_time": "2023-12-03T20:58:27.824193",
     "exception": false,
     "start_time": "2023-12-03T20:58:27.801832",
     "status": "completed"
    },
    "tags": []
   },
   "source": [
    "### Data Cleansing and preprossing"
   ]
  },
  {
   "cell_type": "code",
   "execution_count": 15,
   "id": "abdf8bbc",
   "metadata": {
    "execution": {
     "iopub.execute_input": "2023-12-03T20:58:27.865942Z",
     "iopub.status.busy": "2023-12-03T20:58:27.865552Z",
     "iopub.status.idle": "2023-12-03T20:58:27.874465Z",
     "shell.execute_reply": "2023-12-03T20:58:27.872788Z"
    },
    "papermill": {
     "duration": 0.03211,
     "end_time": "2023-12-03T20:58:27.876311",
     "exception": false,
     "start_time": "2023-12-03T20:58:27.844201",
     "status": "completed"
    },
    "tags": []
   },
   "outputs": [
    {
     "name": "stdout",
     "output_type": "stream",
     "text": [
      "series_id       0\n",
      "night           0\n",
      "event           0\n",
      "step         4923\n",
      "timestamp    4923\n",
      "dtype: int64\n"
     ]
    }
   ],
   "source": [
    "# For the train event Data frame\n",
    "missing_values_Train_event= train_event_DF.isna().sum()\n",
    "print(missing_values_Train_event)"
   ]
  },
  {
   "cell_type": "code",
   "execution_count": 16,
   "id": "1e0cccdd",
   "metadata": {
    "execution": {
     "iopub.execute_input": "2023-12-03T20:58:27.918195Z",
     "iopub.status.busy": "2023-12-03T20:58:27.917521Z",
     "iopub.status.idle": "2023-12-03T20:58:27.924684Z",
     "shell.execute_reply": "2023-12-03T20:58:27.923603Z"
    },
    "papermill": {
     "duration": 0.030072,
     "end_time": "2023-12-03T20:58:27.926376",
     "exception": false,
     "start_time": "2023-12-03T20:58:27.896304",
     "status": "completed"
    },
    "tags": []
   },
   "outputs": [
    {
     "name": "stdout",
     "output_type": "stream",
     "text": [
      "The percentage of missing data in Train Event is 33.93 %\n"
     ]
    }
   ],
   "source": [
    "print('The percentage of missing data in Train Event is {} %'.format(round((missing_values_Train_event['timestamp'] / train_event_DF.shape[0]) * 100, 2)))"
   ]
  },
  {
   "cell_type": "code",
   "execution_count": 17,
   "id": "11779462",
   "metadata": {
    "execution": {
     "iopub.execute_input": "2023-12-03T20:58:27.968971Z",
     "iopub.status.busy": "2023-12-03T20:58:27.967870Z",
     "iopub.status.idle": "2023-12-03T20:58:35.671650Z",
     "shell.execute_reply": "2023-12-03T20:58:35.670069Z"
    },
    "papermill": {
     "duration": 7.728059,
     "end_time": "2023-12-03T20:58:35.674026",
     "exception": false,
     "start_time": "2023-12-03T20:58:27.945967",
     "status": "completed"
    },
    "tags": []
   },
   "outputs": [
    {
     "name": "stdout",
     "output_type": "stream",
     "text": [
      "series_id    0\n",
      "step         0\n",
      "timestamp    0\n",
      "anglez       0\n",
      "enmo         0\n",
      "dtype: int64\n"
     ]
    }
   ],
   "source": [
    "# For the train series Data frame\n",
    "missing_values_Train_Series= train_series_DF.isna().sum()\n",
    "print(missing_values_Train_Series)"
   ]
  },
  {
   "cell_type": "code",
   "execution_count": 18,
   "id": "a47dcb80",
   "metadata": {
    "execution": {
     "iopub.execute_input": "2023-12-03T20:58:35.716487Z",
     "iopub.status.busy": "2023-12-03T20:58:35.716142Z",
     "iopub.status.idle": "2023-12-03T20:58:35.723207Z",
     "shell.execute_reply": "2023-12-03T20:58:35.721708Z"
    },
    "papermill": {
     "duration": 0.031339,
     "end_time": "2023-12-03T20:58:35.725259",
     "exception": false,
     "start_time": "2023-12-03T20:58:35.693920",
     "status": "completed"
    },
    "tags": []
   },
   "outputs": [
    {
     "name": "stdout",
     "output_type": "stream",
     "text": [
      "series_id    0\n",
      "step         0\n",
      "timestamp    0\n",
      "anglez       0\n",
      "enmo         0\n",
      "dtype: int64\n"
     ]
    }
   ],
   "source": [
    "# For the test series Data frame\n",
    "missing_values_Test_Series= test_series_DF.isna().sum()\n",
    "print(missing_values_Test_Series)"
   ]
  },
  {
   "cell_type": "markdown",
   "id": "029aa1e6",
   "metadata": {
    "papermill": {
     "duration": 0.01987,
     "end_time": "2023-12-03T20:58:35.765238",
     "exception": false,
     "start_time": "2023-12-03T20:58:35.745368",
     "status": "completed"
    },
    "tags": []
   },
   "source": [
    "#### Fill the NAN value of Train Data event data frame"
   ]
  },
  {
   "cell_type": "code",
   "execution_count": 19,
   "id": "529a16ea",
   "metadata": {
    "execution": {
     "iopub.execute_input": "2023-12-03T20:58:35.808162Z",
     "iopub.status.busy": "2023-12-03T20:58:35.807809Z",
     "iopub.status.idle": "2023-12-03T20:58:35.814678Z",
     "shell.execute_reply": "2023-12-03T20:58:35.813446Z"
    },
    "papermill": {
     "duration": 0.030895,
     "end_time": "2023-12-03T20:58:35.817205",
     "exception": false,
     "start_time": "2023-12-03T20:58:35.786310",
     "status": "completed"
    },
    "tags": []
   },
   "outputs": [
    {
     "data": {
      "text/plain": [
       "(14508, 5)"
      ]
     },
     "execution_count": 19,
     "metadata": {},
     "output_type": "execute_result"
    }
   ],
   "source": [
    "train_event_DF.shape"
   ]
  },
  {
   "cell_type": "code",
   "execution_count": 20,
   "id": "9829b40f",
   "metadata": {
    "execution": {
     "iopub.execute_input": "2023-12-03T20:58:35.859213Z",
     "iopub.status.busy": "2023-12-03T20:58:35.858825Z",
     "iopub.status.idle": "2023-12-03T20:58:35.986872Z",
     "shell.execute_reply": "2023-12-03T20:58:35.985246Z"
    },
    "papermill": {
     "duration": 0.152042,
     "end_time": "2023-12-03T20:58:35.989316",
     "exception": false,
     "start_time": "2023-12-03T20:58:35.837274",
     "status": "completed"
    },
    "tags": []
   },
   "outputs": [],
   "source": [
    "train_event_DF['timestamp'] = pd.to_datetime(train_event_DF['timestamp'], format='mixed', errors='coerce', dayfirst=True)"
   ]
  },
  {
   "cell_type": "code",
   "execution_count": 21,
   "id": "4f4e3973",
   "metadata": {
    "execution": {
     "iopub.execute_input": "2023-12-03T20:58:36.031476Z",
     "iopub.status.busy": "2023-12-03T20:58:36.031109Z",
     "iopub.status.idle": "2023-12-03T20:58:36.085661Z",
     "shell.execute_reply": "2023-12-03T20:58:36.084460Z"
    },
    "papermill": {
     "duration": 0.07863,
     "end_time": "2023-12-03T20:58:36.088450",
     "exception": false,
     "start_time": "2023-12-03T20:58:36.009820",
     "status": "completed"
    },
    "tags": []
   },
   "outputs": [],
   "source": [
    "train_event_DF['timestamp'] = pd.to_datetime(train_event_DF['timestamp'], format='mixed', errors='coerce', dayfirst=True)"
   ]
  },
  {
   "cell_type": "code",
   "execution_count": 22,
   "id": "2046528a",
   "metadata": {
    "execution": {
     "iopub.execute_input": "2023-12-03T20:58:36.131545Z",
     "iopub.status.busy": "2023-12-03T20:58:36.131167Z",
     "iopub.status.idle": "2023-12-03T20:58:36.146311Z",
     "shell.execute_reply": "2023-12-03T20:58:36.145364Z"
    },
    "papermill": {
     "duration": 0.039571,
     "end_time": "2023-12-03T20:58:36.148762",
     "exception": false,
     "start_time": "2023-12-03T20:58:36.109191",
     "status": "completed"
    },
    "tags": []
   },
   "outputs": [
    {
     "data": {
      "text/html": [
       "<div>\n",
       "<style scoped>\n",
       "    .dataframe tbody tr th:only-of-type {\n",
       "        vertical-align: middle;\n",
       "    }\n",
       "\n",
       "    .dataframe tbody tr th {\n",
       "        vertical-align: top;\n",
       "    }\n",
       "\n",
       "    .dataframe thead th {\n",
       "        text-align: right;\n",
       "    }\n",
       "</style>\n",
       "<table border=\"1\" class=\"dataframe\">\n",
       "  <thead>\n",
       "    <tr style=\"text-align: right;\">\n",
       "      <th></th>\n",
       "      <th>series_id</th>\n",
       "      <th>night</th>\n",
       "      <th>event</th>\n",
       "      <th>step</th>\n",
       "      <th>timestamp</th>\n",
       "    </tr>\n",
       "  </thead>\n",
       "  <tbody>\n",
       "    <tr>\n",
       "      <th>0</th>\n",
       "      <td>038441c925bb</td>\n",
       "      <td>1</td>\n",
       "      <td>onset</td>\n",
       "      <td>4992.0</td>\n",
       "      <td>2018-08-14 22:26:00-04:00</td>\n",
       "    </tr>\n",
       "    <tr>\n",
       "      <th>1</th>\n",
       "      <td>038441c925bb</td>\n",
       "      <td>1</td>\n",
       "      <td>wakeup</td>\n",
       "      <td>10932.0</td>\n",
       "      <td>2018-08-15 06:41:00-04:00</td>\n",
       "    </tr>\n",
       "    <tr>\n",
       "      <th>2</th>\n",
       "      <td>038441c925bb</td>\n",
       "      <td>2</td>\n",
       "      <td>onset</td>\n",
       "      <td>20244.0</td>\n",
       "      <td>2018-08-15 19:37:00-04:00</td>\n",
       "    </tr>\n",
       "    <tr>\n",
       "      <th>3</th>\n",
       "      <td>038441c925bb</td>\n",
       "      <td>2</td>\n",
       "      <td>wakeup</td>\n",
       "      <td>27492.0</td>\n",
       "      <td>2018-08-16 05:41:00-04:00</td>\n",
       "    </tr>\n",
       "    <tr>\n",
       "      <th>4</th>\n",
       "      <td>038441c925bb</td>\n",
       "      <td>3</td>\n",
       "      <td>onset</td>\n",
       "      <td>39996.0</td>\n",
       "      <td>2018-08-16 23:03:00-04:00</td>\n",
       "    </tr>\n",
       "  </tbody>\n",
       "</table>\n",
       "</div>"
      ],
      "text/plain": [
       "      series_id  night   event     step                 timestamp\n",
       "0  038441c925bb      1   onset   4992.0 2018-08-14 22:26:00-04:00\n",
       "1  038441c925bb      1  wakeup  10932.0 2018-08-15 06:41:00-04:00\n",
       "2  038441c925bb      2   onset  20244.0 2018-08-15 19:37:00-04:00\n",
       "3  038441c925bb      2  wakeup  27492.0 2018-08-16 05:41:00-04:00\n",
       "4  038441c925bb      3   onset  39996.0 2018-08-16 23:03:00-04:00"
      ]
     },
     "execution_count": 22,
     "metadata": {},
     "output_type": "execute_result"
    }
   ],
   "source": [
    "train_event_DF.head()"
   ]
  },
  {
   "cell_type": "code",
   "execution_count": 23,
   "id": "b5642cbb",
   "metadata": {
    "execution": {
     "iopub.execute_input": "2023-12-03T20:58:36.192103Z",
     "iopub.status.busy": "2023-12-03T20:58:36.191510Z",
     "iopub.status.idle": "2023-12-03T20:58:36.202852Z",
     "shell.execute_reply": "2023-12-03T20:58:36.201912Z"
    },
    "papermill": {
     "duration": 0.036036,
     "end_time": "2023-12-03T20:58:36.205443",
     "exception": false,
     "start_time": "2023-12-03T20:58:36.169407",
     "status": "completed"
    },
    "tags": []
   },
   "outputs": [],
   "source": [
    "train_event_DF['Date'] = train_event_DF['timestamp'].dt.date\n",
    "train_event_DF['Time'] = train_event_DF['timestamp'].dt.time"
   ]
  },
  {
   "cell_type": "markdown",
   "id": "160b8127",
   "metadata": {
    "papermill": {
     "duration": 0.019419,
     "end_time": "2023-12-03T20:58:36.245437",
     "exception": false,
     "start_time": "2023-12-03T20:58:36.226018",
     "status": "completed"
    },
    "tags": []
   },
   "source": [
    "#### Onset time distribution curve"
   ]
  },
  {
   "cell_type": "code",
   "execution_count": 24,
   "id": "306330b3",
   "metadata": {
    "execution": {
     "iopub.execute_input": "2023-12-03T20:58:36.288268Z",
     "iopub.status.busy": "2023-12-03T20:58:36.287924Z",
     "iopub.status.idle": "2023-12-03T20:58:36.585336Z",
     "shell.execute_reply": "2023-12-03T20:58:36.584126Z"
    },
    "papermill": {
     "duration": 0.32131,
     "end_time": "2023-12-03T20:58:36.587350",
     "exception": false,
     "start_time": "2023-12-03T20:58:36.266040",
     "status": "completed"
    },
    "tags": []
   },
   "outputs": [
    {
     "data": {
      "image/png": "[encoded data removed]",
      "text/plain": [
       "<Figure size 640x480 with 1 Axes>"
      ]
     },
     "metadata": {},
     "output_type": "display_data"
    }
   ],
   "source": [
    "# Filter rows where the event is 'onset' and extract the hour component\n",
    "onset_times = train_event_DF[train_event_DF['event'] == 'onset']['timestamp'].dropna().dt.hour\n",
    "\n",
    "# Plot the onset time distribution\n",
    "plt.hist(onset_times, bins=24, edgecolor='black')\n",
    "plt.title('Onset time Distribution')\n",
    "plt.xlabel('Hour of the Day')\n",
    "plt.ylabel('Frequency')\n",
    "\n",
    "# Plot mean and median as vertical lines\n",
    "onset_mean_time = onset_times.mean()\n",
    "onset_median_time = onset_times.median()\n",
    "\n",
    "plt.axvline(onset_mean_time, color='red', linestyle='dashed', linewidth=2, label=f'Mean: {onset_mean_time:.2f}')\n",
    "plt.axvline(onset_median_time, color='green', linestyle='dashed', linewidth=2, label=f'Median: {onset_median_time:.2f}')\n",
    "\n",
    "plt.legend()\n",
    "plt.show()"
   ]
  },
  {
   "cell_type": "code",
   "execution_count": 25,
   "id": "33c17571",
   "metadata": {
    "execution": {
     "iopub.execute_input": "2023-12-03T20:58:36.631356Z",
     "iopub.status.busy": "2023-12-03T20:58:36.631011Z",
     "iopub.status.idle": "2023-12-03T20:58:36.770649Z",
     "shell.execute_reply": "2023-12-03T20:58:36.769830Z"
    },
    "papermill": {
     "duration": 0.164348,
     "end_time": "2023-12-03T20:58:36.772618",
     "exception": false,
     "start_time": "2023-12-03T20:58:36.608270",
     "status": "completed"
    },
    "tags": []
   },
   "outputs": [
    {
     "data": {
      "image/png": "[encoded data removed]",
      "text/plain": [
       "<Figure size 640x480 with 1 Axes>"
      ]
     },
     "metadata": {},
     "output_type": "display_data"
    }
   ],
   "source": [
    "# Create a box plot\n",
    "plt.boxplot(onset_times, vert=False)\n",
    "plt.title('Box Plot of Sleep Time Distribution')\n",
    "plt.xlabel('Hour of the Day')\n",
    "\n",
    "plt.show()"
   ]
  },
  {
   "cell_type": "markdown",
   "id": "6b7dd14e",
   "metadata": {
    "papermill": {
     "duration": 0.020019,
     "end_time": "2023-12-03T20:58:36.815768",
     "exception": false,
     "start_time": "2023-12-03T20:58:36.795749",
     "status": "completed"
    },
    "tags": []
   },
   "source": [
    "* The onset distribution look like skewed"
   ]
  },
  {
   "cell_type": "markdown",
   "id": "0e8866d1",
   "metadata": {
    "papermill": {
     "duration": 0.020858,
     "end_time": "2023-12-03T20:58:36.857590",
     "exception": false,
     "start_time": "2023-12-03T20:58:36.836732",
     "status": "completed"
    },
    "tags": []
   },
   "source": [
    "#### Handling Outliers"
   ]
  },
  {
   "cell_type": "code",
   "execution_count": 26,
   "id": "44ededd5",
   "metadata": {
    "execution": {
     "iopub.execute_input": "2023-12-03T20:58:36.900924Z",
     "iopub.status.busy": "2023-12-03T20:58:36.900384Z",
     "iopub.status.idle": "2023-12-03T20:58:37.167774Z",
     "shell.execute_reply": "2023-12-03T20:58:37.166881Z"
    },
    "papermill": {
     "duration": 0.291852,
     "end_time": "2023-12-03T20:58:37.170009",
     "exception": false,
     "start_time": "2023-12-03T20:58:36.878157",
     "status": "completed"
    },
    "tags": []
   },
   "outputs": [
    {
     "data": {
      "image/png": "[encoded data removed]",
      "text/plain": [
       "<Figure size 640x480 with 1 Axes>"
      ]
     },
     "metadata": {},
     "output_type": "display_data"
    }
   ],
   "source": [
    "# Calculate the interquartile range (IQR)\n",
    "onset_Q1 = onset_times.quantile(0.25)\n",
    "onset_Q3 = onset_times.quantile(0.75)\n",
    "onset_IQR = onset_Q3 - onset_Q1\n",
    "\n",
    "# Define the lower and upper bounds to identify outliers\n",
    "onset_lower_bound = onset_Q1 - 1.5 * onset_IQR\n",
    "onset_upper_bound = onset_Q3 + 1.5 * onset_IQR\n",
    "\n",
    "# Identify outliers\n",
    "onset_outliers = (onset_times < onset_lower_bound) | (onset_times > onset_upper_bound)\n",
    "\n",
    "# Remove outliers\n",
    "onset_times_no_outliers = onset_times[~onset_outliers]\n",
    "\n",
    "\n",
    "\n",
    "# Plot the onset time distribution\n",
    "plt.hist(onset_times_no_outliers, bins=24, edgecolor='black')\n",
    "plt.title('Onset time Distribution')\n",
    "plt.xlabel('Hour of the Day')\n",
    "plt.ylabel('Frequency')\n",
    "\n",
    "\n",
    "# Plot mean and median as vertical lines\n",
    "onset_no_outliers_mean_time = onset_times_no_outliers.mean()\n",
    "onset_no_outliers_median_time = onset_times_no_outliers.median()\n",
    "\n",
    "plt.axvline(onset_no_outliers_mean_time, color='red', linestyle='dashed', linewidth=2, label=f'Mean: {onset_no_outliers_mean_time:.2f}')\n",
    "plt.axvline(onset_no_outliers_median_time, color='green', linestyle='dashed', linewidth=2, label=f'Median: {onset_no_outliers_median_time:.2f}')\n",
    "\n",
    "plt.legend()\n",
    "plt.show()\n"
   ]
  },
  {
   "cell_type": "code",
   "execution_count": 27,
   "id": "56121e1a",
   "metadata": {
    "execution": {
     "iopub.execute_input": "2023-12-03T20:58:37.214479Z",
     "iopub.status.busy": "2023-12-03T20:58:37.213677Z",
     "iopub.status.idle": "2023-12-03T20:58:37.453618Z",
     "shell.execute_reply": "2023-12-03T20:58:37.452476Z"
    },
    "papermill": {
     "duration": 0.265022,
     "end_time": "2023-12-03T20:58:37.456387",
     "exception": false,
     "start_time": "2023-12-03T20:58:37.191365",
     "status": "completed"
    },
    "tags": []
   },
   "outputs": [
    {
     "data": {
      "image/png": "[encoded data removed]",
      "text/plain": [
       "<Figure size 640x480 with 1 Axes>"
      ]
     },
     "metadata": {},
     "output_type": "display_data"
    }
   ],
   "source": [
    "# Create a box plot without outliers\n",
    "plt.boxplot(onset_times_no_outliers, vert=False)\n",
    "plt.title('Box Plot of Onset Time Distribution (Without Outliers)')\n",
    "plt.xlabel('Hour of the Day')\n",
    "\n",
    "plt.show()"
   ]
  },
  {
   "cell_type": "markdown",
   "id": "55e53a24",
   "metadata": {
    "papermill": {
     "duration": 0.021295,
     "end_time": "2023-12-03T20:58:37.499892",
     "exception": false,
     "start_time": "2023-12-03T20:58:37.478597",
     "status": "completed"
    },
    "tags": []
   },
   "source": [
    "* Lakmal D.K.D.L. (229415U) proposed to fill the NA value with mean value\n",
    "* Banujan C. (239306V) tried on Z-Score,but its not given proper output\n",
    "* Ramsan M.M.M. (239348B) tried on winsorize,but its not given proper output\n",
    "* Kokularaj B.(239329T) tried on quantile and the outcome satisfied\n",
    "* Therefore we prefer the above method for the outlier capping\n",
    "* The mean value of above plot is taken for to fill the NA value on the Train Data event"
   ]
  },
  {
   "cell_type": "code",
   "execution_count": 28,
   "id": "1dbacaad",
   "metadata": {
    "execution": {
     "iopub.execute_input": "2023-12-03T20:58:37.544287Z",
     "iopub.status.busy": "2023-12-03T20:58:37.543949Z",
     "iopub.status.idle": "2023-12-03T20:58:37.549831Z",
     "shell.execute_reply": "2023-12-03T20:58:37.548559Z"
    },
    "papermill": {
     "duration": 0.031032,
     "end_time": "2023-12-03T20:58:37.552477",
     "exception": false,
     "start_time": "2023-12-03T20:58:37.521445",
     "status": "completed"
    },
    "tags": []
   },
   "outputs": [
    {
     "name": "stdout",
     "output_type": "stream",
     "text": [
      "The mean onset time is 21 : 31 :24 \n"
     ]
    }
   ],
   "source": [
    "# Convert decimal hours to timedelta\n",
    "onset_time_delta = timedelta(hours=onset_no_outliers_mean_time)\n",
    "\n",
    "#Extract hours, minutes, and seconds from the timedelta\n",
    "onset_hours, onset_remainder = divmod(onset_time_delta.seconds, 3600)\n",
    "onset_minutes, onset_seconds = divmod(onset_remainder, 60)\n",
    "\n",
    "print('The mean onset time is {} : {} :{} '.format(onset_hours,onset_minutes,onset_seconds))"
   ]
  },
  {
   "cell_type": "markdown",
   "id": "2378e904",
   "metadata": {
    "execution": {
     "iopub.execute_input": "2023-11-09T17:23:23.165008Z",
     "iopub.status.busy": "2023-11-09T17:23:23.164610Z",
     "iopub.status.idle": "2023-11-09T17:23:23.174118Z",
     "shell.execute_reply": "2023-11-09T17:23:23.173118Z",
     "shell.execute_reply.started": "2023-11-09T17:23:23.164975Z"
    },
    "papermill": {
     "duration": 0.021807,
     "end_time": "2023-12-03T20:58:37.596303",
     "exception": false,
     "start_time": "2023-12-03T20:58:37.574496",
     "status": "completed"
    },
    "tags": []
   },
   "source": [
    "#### Wakeup time distribution curve"
   ]
  },
  {
   "cell_type": "code",
   "execution_count": 29,
   "id": "5f534c0d",
   "metadata": {
    "execution": {
     "iopub.execute_input": "2023-12-03T20:58:37.641915Z",
     "iopub.status.busy": "2023-12-03T20:58:37.641489Z",
     "iopub.status.idle": "2023-12-03T20:58:37.900232Z",
     "shell.execute_reply": "2023-12-03T20:58:37.899242Z"
    },
    "papermill": {
     "duration": 0.284054,
     "end_time": "2023-12-03T20:58:37.902567",
     "exception": false,
     "start_time": "2023-12-03T20:58:37.618513",
     "status": "completed"
    },
    "tags": []
   },
   "outputs": [
    {
     "data": {
      "image/png": "[encoded data removed]",
      "text/plain": [
       "<Figure size 640x480 with 1 Axes>"
      ]
     },
     "metadata": {},
     "output_type": "display_data"
    }
   ],
   "source": [
    "# Filter rows where the event is 'wakeup' and extract the hour component\n",
    "wakeup_times = train_event_DF[train_event_DF['event'] == 'wakeup']['timestamp'].dropna().dt.hour\n",
    "\n",
    "# Plot the sleep time distribution\n",
    "plt.hist(wakeup_times, bins=24, edgecolor='black')\n",
    "plt.title('Wake Time Distribution')\n",
    "plt.xlabel('Hour of the Day')\n",
    "plt.ylabel('Frequency')\n",
    "\n",
    "# Plot mean and median as vertical lines\n",
    "wakeup_mean_time = wakeup_times.mean()\n",
    "wakeup_median_time = wakeup_times.median()\n",
    "\n",
    "plt.axvline(wakeup_mean_time, color='red', linestyle='dashed', linewidth=2, label=f'Mean: {wakeup_mean_time:.2f}')\n",
    "plt.axvline(wakeup_median_time, color='green', linestyle='dashed', linewidth=2, label=f'Median: {wakeup_median_time:.2f}')\n",
    "\n",
    "plt.legend()\n",
    "plt.show()"
   ]
  },
  {
   "cell_type": "code",
   "execution_count": 30,
   "id": "9a86e837",
   "metadata": {
    "execution": {
     "iopub.execute_input": "2023-12-03T20:58:37.949160Z",
     "iopub.status.busy": "2023-12-03T20:58:37.948588Z",
     "iopub.status.idle": "2023-12-03T20:58:38.111245Z",
     "shell.execute_reply": "2023-12-03T20:58:38.109692Z"
    },
    "papermill": {
     "duration": 0.188604,
     "end_time": "2023-12-03T20:58:38.113673",
     "exception": false,
     "start_time": "2023-12-03T20:58:37.925069",
     "status": "completed"
    },
    "tags": []
   },
   "outputs": [
    {
     "data": {
      "image/png": "[encoded data removed]",
      "text/plain": [
       "<Figure size 640x480 with 1 Axes>"
      ]
     },
     "metadata": {},
     "output_type": "display_data"
    }
   ],
   "source": [
    "# Create a box plot\n",
    "plt.boxplot(wakeup_times, vert=False)\n",
    "plt.title('Box Plot of Sleep Time Distribution')\n",
    "plt.xlabel('Hour of the Day')\n",
    "\n",
    "plt.show()"
   ]
  },
  {
   "cell_type": "markdown",
   "id": "a0d9c622",
   "metadata": {
    "papermill": {
     "duration": 0.021959,
     "end_time": "2023-12-03T20:58:38.158717",
     "exception": false,
     "start_time": "2023-12-03T20:58:38.136758",
     "status": "completed"
    },
    "tags": []
   },
   "source": [
    "* The distribution of wake-up times resembles a normal distribution\n",
    "* The mean value of above plot is taken for to fill the NA value on the Train Data event"
   ]
  },
  {
   "cell_type": "code",
   "execution_count": 31,
   "id": "020fb209",
   "metadata": {
    "execution": {
     "iopub.execute_input": "2023-12-03T20:58:38.205165Z",
     "iopub.status.busy": "2023-12-03T20:58:38.204168Z",
     "iopub.status.idle": "2023-12-03T20:58:38.210620Z",
     "shell.execute_reply": "2023-12-03T20:58:38.209195Z"
    },
    "papermill": {
     "duration": 0.032263,
     "end_time": "2023-12-03T20:58:38.213177",
     "exception": false,
     "start_time": "2023-12-03T20:58:38.180914",
     "status": "completed"
    },
    "tags": []
   },
   "outputs": [
    {
     "name": "stdout",
     "output_type": "stream",
     "text": [
      "The mean wakeup time is 6 : 51 :32 \n"
     ]
    }
   ],
   "source": [
    "# Convert decimal hours to timedelta\n",
    "wakeup_time_delta = timedelta(hours=wakeup_mean_time)\n",
    "\n",
    "#Extract hours, minutes, and seconds from the timedelta\n",
    "wakeup_hours, wakup_remainder = divmod(wakeup_time_delta.seconds, 3600)\n",
    "wakeup_minutes, wakeup_seconds = divmod(wakup_remainder, 60)\n",
    "\n",
    "print('The mean wakeup time is {} : {} :{} '.format(wakeup_hours,wakeup_minutes,wakeup_seconds))"
   ]
  },
  {
   "cell_type": "markdown",
   "id": "bbebddd8",
   "metadata": {
    "papermill": {
     "duration": 0.022108,
     "end_time": "2023-12-03T20:58:38.258409",
     "exception": false,
     "start_time": "2023-12-03T20:58:38.236301",
     "status": "completed"
    },
    "tags": []
   },
   "source": [
    "### Fill the NA values in and Coloumns Time column in train_event_DF"
   ]
  },
  {
   "cell_type": "code",
   "execution_count": 32,
   "id": "8d5274ce",
   "metadata": {
    "execution": {
     "iopub.execute_input": "2023-12-03T20:58:38.305003Z",
     "iopub.status.busy": "2023-12-03T20:58:38.304610Z",
     "iopub.status.idle": "2023-12-03T20:58:38.318691Z",
     "shell.execute_reply": "2023-12-03T20:58:38.317514Z"
    },
    "papermill": {
     "duration": 0.039611,
     "end_time": "2023-12-03T20:58:38.320803",
     "exception": false,
     "start_time": "2023-12-03T20:58:38.281192",
     "status": "completed"
    },
    "tags": []
   },
   "outputs": [
    {
     "data": {
      "text/html": [
       "<div>\n",
       "<style scoped>\n",
       "    .dataframe tbody tr th:only-of-type {\n",
       "        vertical-align: middle;\n",
       "    }\n",
       "\n",
       "    .dataframe tbody tr th {\n",
       "        vertical-align: top;\n",
       "    }\n",
       "\n",
       "    .dataframe thead th {\n",
       "        text-align: right;\n",
       "    }\n",
       "</style>\n",
       "<table border=\"1\" class=\"dataframe\">\n",
       "  <thead>\n",
       "    <tr style=\"text-align: right;\">\n",
       "      <th></th>\n",
       "      <th>series_id</th>\n",
       "      <th>night</th>\n",
       "      <th>event</th>\n",
       "      <th>step</th>\n",
       "      <th>timestamp</th>\n",
       "      <th>Date</th>\n",
       "      <th>Time</th>\n",
       "    </tr>\n",
       "  </thead>\n",
       "  <tbody>\n",
       "    <tr>\n",
       "      <th>0</th>\n",
       "      <td>038441c925bb</td>\n",
       "      <td>1</td>\n",
       "      <td>onset</td>\n",
       "      <td>4992.0</td>\n",
       "      <td>2018-08-14 22:26:00-04:00</td>\n",
       "      <td>2018-08-14</td>\n",
       "      <td>22:26:00</td>\n",
       "    </tr>\n",
       "    <tr>\n",
       "      <th>1</th>\n",
       "      <td>038441c925bb</td>\n",
       "      <td>1</td>\n",
       "      <td>wakeup</td>\n",
       "      <td>10932.0</td>\n",
       "      <td>2018-08-15 06:41:00-04:00</td>\n",
       "      <td>2018-08-15</td>\n",
       "      <td>06:41:00</td>\n",
       "    </tr>\n",
       "    <tr>\n",
       "      <th>2</th>\n",
       "      <td>038441c925bb</td>\n",
       "      <td>2</td>\n",
       "      <td>onset</td>\n",
       "      <td>20244.0</td>\n",
       "      <td>2018-08-15 19:37:00-04:00</td>\n",
       "      <td>2018-08-15</td>\n",
       "      <td>19:37:00</td>\n",
       "    </tr>\n",
       "    <tr>\n",
       "      <th>3</th>\n",
       "      <td>038441c925bb</td>\n",
       "      <td>2</td>\n",
       "      <td>wakeup</td>\n",
       "      <td>27492.0</td>\n",
       "      <td>2018-08-16 05:41:00-04:00</td>\n",
       "      <td>2018-08-16</td>\n",
       "      <td>05:41:00</td>\n",
       "    </tr>\n",
       "    <tr>\n",
       "      <th>4</th>\n",
       "      <td>038441c925bb</td>\n",
       "      <td>3</td>\n",
       "      <td>onset</td>\n",
       "      <td>39996.0</td>\n",
       "      <td>2018-08-16 23:03:00-04:00</td>\n",
       "      <td>2018-08-16</td>\n",
       "      <td>23:03:00</td>\n",
       "    </tr>\n",
       "    <tr>\n",
       "      <th>5</th>\n",
       "      <td>038441c925bb</td>\n",
       "      <td>3</td>\n",
       "      <td>wakeup</td>\n",
       "      <td>44400.0</td>\n",
       "      <td>2018-08-17 05:10:00-04:00</td>\n",
       "      <td>2018-08-17</td>\n",
       "      <td>05:10:00</td>\n",
       "    </tr>\n",
       "    <tr>\n",
       "      <th>6</th>\n",
       "      <td>038441c925bb</td>\n",
       "      <td>4</td>\n",
       "      <td>onset</td>\n",
       "      <td>57240.0</td>\n",
       "      <td>2018-08-17 23:00:00-04:00</td>\n",
       "      <td>2018-08-17</td>\n",
       "      <td>23:00:00</td>\n",
       "    </tr>\n",
       "    <tr>\n",
       "      <th>7</th>\n",
       "      <td>038441c925bb</td>\n",
       "      <td>4</td>\n",
       "      <td>wakeup</td>\n",
       "      <td>62856.0</td>\n",
       "      <td>2018-08-18 06:48:00-04:00</td>\n",
       "      <td>2018-08-18</td>\n",
       "      <td>06:48:00</td>\n",
       "    </tr>\n",
       "    <tr>\n",
       "      <th>8</th>\n",
       "      <td>038441c925bb</td>\n",
       "      <td>5</td>\n",
       "      <td>onset</td>\n",
       "      <td>NaN</td>\n",
       "      <td>NaT</td>\n",
       "      <td>NaT</td>\n",
       "      <td>NaT</td>\n",
       "    </tr>\n",
       "    <tr>\n",
       "      <th>9</th>\n",
       "      <td>038441c925bb</td>\n",
       "      <td>5</td>\n",
       "      <td>wakeup</td>\n",
       "      <td>NaN</td>\n",
       "      <td>NaT</td>\n",
       "      <td>NaT</td>\n",
       "      <td>NaT</td>\n",
       "    </tr>\n",
       "  </tbody>\n",
       "</table>\n",
       "</div>"
      ],
      "text/plain": [
       "      series_id  night   event     step                 timestamp        Date  \\\n",
       "0  038441c925bb      1   onset   4992.0 2018-08-14 22:26:00-04:00  2018-08-14   \n",
       "1  038441c925bb      1  wakeup  10932.0 2018-08-15 06:41:00-04:00  2018-08-15   \n",
       "2  038441c925bb      2   onset  20244.0 2018-08-15 19:37:00-04:00  2018-08-15   \n",
       "3  038441c925bb      2  wakeup  27492.0 2018-08-16 05:41:00-04:00  2018-08-16   \n",
       "4  038441c925bb      3   onset  39996.0 2018-08-16 23:03:00-04:00  2018-08-16   \n",
       "5  038441c925bb      3  wakeup  44400.0 2018-08-17 05:10:00-04:00  2018-08-17   \n",
       "6  038441c925bb      4   onset  57240.0 2018-08-17 23:00:00-04:00  2018-08-17   \n",
       "7  038441c925bb      4  wakeup  62856.0 2018-08-18 06:48:00-04:00  2018-08-18   \n",
       "8  038441c925bb      5   onset      NaN                       NaT         NaT   \n",
       "9  038441c925bb      5  wakeup      NaN                       NaT         NaT   \n",
       "\n",
       "       Time  \n",
       "0  22:26:00  \n",
       "1  06:41:00  \n",
       "2  19:37:00  \n",
       "3  05:41:00  \n",
       "4  23:03:00  \n",
       "5  05:10:00  \n",
       "6  23:00:00  \n",
       "7  06:48:00  \n",
       "8       NaT  \n",
       "9       NaT  "
      ]
     },
     "execution_count": 32,
     "metadata": {},
     "output_type": "execute_result"
    }
   ],
   "source": [
    "train_event_DF.head(10)"
   ]
  },
  {
   "cell_type": "code",
   "execution_count": 33,
   "id": "fa2b0a8b",
   "metadata": {
    "execution": {
     "iopub.execute_input": "2023-12-03T20:58:38.367341Z",
     "iopub.status.busy": "2023-12-03T20:58:38.367006Z",
     "iopub.status.idle": "2023-12-03T20:58:38.373423Z",
     "shell.execute_reply": "2023-12-03T20:58:38.371822Z"
    },
    "papermill": {
     "duration": 0.032098,
     "end_time": "2023-12-03T20:58:38.375422",
     "exception": false,
     "start_time": "2023-12-03T20:58:38.343324",
     "status": "completed"
    },
    "tags": []
   },
   "outputs": [],
   "source": [
    "#Find mean time in a time series\n",
    "def meanTime(time_series):\n",
    "    time_series = pd.to_datetime(time_series)\n",
    "    # Convert datetime.time objects to total seconds since midnight\n",
    "    time_series_seconds = time_series.apply(lambda x: x.hour * 3600 + x.minute * 60 + x.second)\n",
    "\n",
    "    # Calculate the mean\n",
    "    mean_seconds = time_series_seconds.mean()\n",
    "\n",
    "    # Convert the mean back to datetime.time\n",
    "    mean_time = datetime.utcfromtimestamp(mean_seconds).time()\n",
    "    \n",
    "    return mean_time\n"
   ]
  },
  {
   "cell_type": "code",
   "execution_count": 34,
   "id": "62e9efe4",
   "metadata": {
    "execution": {
     "iopub.execute_input": "2023-12-03T20:58:38.422456Z",
     "iopub.status.busy": "2023-12-03T20:58:38.422129Z",
     "iopub.status.idle": "2023-12-03T20:58:38.429875Z",
     "shell.execute_reply": "2023-12-03T20:58:38.428697Z"
    },
    "papermill": {
     "duration": 0.033669,
     "end_time": "2023-12-03T20:58:38.431878",
     "exception": false,
     "start_time": "2023-12-03T20:58:38.398209",
     "status": "completed"
    },
    "tags": []
   },
   "outputs": [],
   "source": [
    "time_format = \"%H:%M:%S\"\n",
    "#onset_time and wakeup_time\n",
    "mean_onset_time=pd.to_datetime(f\"{onset_hours}:{onset_minutes}:{onset_seconds}\", format=time_format).strftime(time_format)\n",
    "mean_wakeup_time=pd.to_datetime(f\"{wakeup_hours}:{wakeup_minutes}:{wakeup_seconds}\", format=time_format).strftime(time_format)"
   ]
  },
  {
   "cell_type": "code",
   "execution_count": 35,
   "id": "a6927771",
   "metadata": {
    "execution": {
     "iopub.execute_input": "2023-12-03T20:58:38.478258Z",
     "iopub.status.busy": "2023-12-03T20:58:38.477917Z",
     "iopub.status.idle": "2023-12-03T20:58:41.376625Z",
     "shell.execute_reply": "2023-12-03T20:58:41.375512Z"
    },
    "papermill": {
     "duration": 2.924639,
     "end_time": "2023-12-03T20:58:41.378906",
     "exception": false,
     "start_time": "2023-12-03T20:58:38.454267",
     "status": "completed"
    },
    "tags": []
   },
   "outputs": [],
   "source": [
    "events={\n",
    "    'onset':mean_onset_time,\n",
    "    'wakeup':mean_wakeup_time\n",
    "}\n",
    "\n",
    "for i in range(2,train_event_DF.shape[0]):\n",
    "    if pd.isna(train_event_DF.loc[i,'timestamp']):\n",
    "        #Fill the Date Column\n",
    "        if train_event_DF.loc[i-1,'Date']==train_event_DF.loc[i-2,'Date']:\n",
    "            train_event_DF.loc[i,'Date']=train_event_DF.loc[i-1,'Date']+timedelta(days=1)\n",
    "        else:\n",
    "            train_event_DF.loc[i,'Date']=train_event_DF.loc[i-1,'Date']\n",
    "        #Fill the time column  \n",
    "        if train_event_DF.loc[i,'event']=='onset':\n",
    "            train_event_DF.loc[i,'Time']=events['onset']\n",
    "        elif train_event_DF.loc[i,'event']=='wakeup':\n",
    "            train_event_DF.loc[i,'Time']=events['wakeup']\n",
    "        "
   ]
  },
  {
   "cell_type": "code",
   "execution_count": 36,
   "id": "ad19a678",
   "metadata": {
    "execution": {
     "iopub.execute_input": "2023-12-03T20:58:41.429295Z",
     "iopub.status.busy": "2023-12-03T20:58:41.428915Z",
     "iopub.status.idle": "2023-12-03T20:58:41.442276Z",
     "shell.execute_reply": "2023-12-03T20:58:41.441448Z"
    },
    "papermill": {
     "duration": 0.0422,
     "end_time": "2023-12-03T20:58:41.444086",
     "exception": false,
     "start_time": "2023-12-03T20:58:41.401886",
     "status": "completed"
    },
    "tags": []
   },
   "outputs": [
    {
     "data": {
      "text/html": [
       "<div>\n",
       "<style scoped>\n",
       "    .dataframe tbody tr th:only-of-type {\n",
       "        vertical-align: middle;\n",
       "    }\n",
       "\n",
       "    .dataframe tbody tr th {\n",
       "        vertical-align: top;\n",
       "    }\n",
       "\n",
       "    .dataframe thead th {\n",
       "        text-align: right;\n",
       "    }\n",
       "</style>\n",
       "<table border=\"1\" class=\"dataframe\">\n",
       "  <thead>\n",
       "    <tr style=\"text-align: right;\">\n",
       "      <th></th>\n",
       "      <th>series_id</th>\n",
       "      <th>night</th>\n",
       "      <th>event</th>\n",
       "      <th>Date</th>\n",
       "      <th>Time</th>\n",
       "    </tr>\n",
       "  </thead>\n",
       "  <tbody>\n",
       "    <tr>\n",
       "      <th>0</th>\n",
       "      <td>038441c925bb</td>\n",
       "      <td>1</td>\n",
       "      <td>onset</td>\n",
       "      <td>2018-08-14</td>\n",
       "      <td>22:26:00</td>\n",
       "    </tr>\n",
       "    <tr>\n",
       "      <th>1</th>\n",
       "      <td>038441c925bb</td>\n",
       "      <td>1</td>\n",
       "      <td>wakeup</td>\n",
       "      <td>2018-08-15</td>\n",
       "      <td>06:41:00</td>\n",
       "    </tr>\n",
       "    <tr>\n",
       "      <th>2</th>\n",
       "      <td>038441c925bb</td>\n",
       "      <td>2</td>\n",
       "      <td>onset</td>\n",
       "      <td>2018-08-15</td>\n",
       "      <td>19:37:00</td>\n",
       "    </tr>\n",
       "    <tr>\n",
       "      <th>3</th>\n",
       "      <td>038441c925bb</td>\n",
       "      <td>2</td>\n",
       "      <td>wakeup</td>\n",
       "      <td>2018-08-16</td>\n",
       "      <td>05:41:00</td>\n",
       "    </tr>\n",
       "    <tr>\n",
       "      <th>4</th>\n",
       "      <td>038441c925bb</td>\n",
       "      <td>3</td>\n",
       "      <td>onset</td>\n",
       "      <td>2018-08-16</td>\n",
       "      <td>23:03:00</td>\n",
       "    </tr>\n",
       "  </tbody>\n",
       "</table>\n",
       "</div>"
      ],
      "text/plain": [
       "      series_id  night   event        Date      Time\n",
       "0  038441c925bb      1   onset  2018-08-14  22:26:00\n",
       "1  038441c925bb      1  wakeup  2018-08-15  06:41:00\n",
       "2  038441c925bb      2   onset  2018-08-15  19:37:00\n",
       "3  038441c925bb      2  wakeup  2018-08-16  05:41:00\n",
       "4  038441c925bb      3   onset  2018-08-16  23:03:00"
      ]
     },
     "execution_count": 36,
     "metadata": {},
     "output_type": "execute_result"
    }
   ],
   "source": [
    "train_event_DF_cp=train_event_DF.copy()\n",
    "train_event_DF_cp=train_event_DF_cp.drop(['step','timestamp'],axis=1)\n",
    "train_event_DF_cp.head()"
   ]
  },
  {
   "cell_type": "code",
   "execution_count": 37,
   "id": "0a10fb06",
   "metadata": {
    "execution": {
     "iopub.execute_input": "2023-12-03T20:58:41.491584Z",
     "iopub.status.busy": "2023-12-03T20:58:41.490327Z",
     "iopub.status.idle": "2023-12-03T20:58:46.018983Z",
     "shell.execute_reply": "2023-12-03T20:58:46.017828Z"
    },
    "papermill": {
     "duration": 4.589419,
     "end_time": "2023-12-03T20:58:46.056103",
     "exception": false,
     "start_time": "2023-12-03T20:58:41.466684",
     "status": "completed"
    },
    "tags": []
   },
   "outputs": [
    {
     "data": {
      "application/vnd.jupyter.widget-view+json": {
       "model_id": "143d62e4f7cc475bb2a1869f30a2d83e",
       "version_major": 2,
       "version_minor": 0
      },
      "text/plain": [
       "Processing Dates:   0%|          | 0/678 [00:00<?, ?it/s]"
      ]
     },
     "metadata": {},
     "output_type": "display_data"
    }
   ],
   "source": [
    "event_Dates = tqdm(train_event_DF['Date'].unique(), desc=\"Processing Dates\")\n",
    "sleepMem = {}\n",
    "\n",
    "for date in event_Dates:\n",
    "    onsetSeries = train_event_DF_cp[(train_event_DF_cp['Date'] == date) & (train_event_DF_cp['event'] == 'onset')]['Time']\n",
    "    \n",
    "    if not onsetSeries.empty:\n",
    "        onsetSeries = pd.to_datetime(onsetSeries, format='%H:%M:%S').dt.time\n",
    "        onsetSeries = onsetSeries.apply(lambda x: x.hour * 3600 + x.minute * 60 + x.second)\n",
    "        onset_mean_time_seconds = onsetSeries.mean()\n",
    "        onset_mean_time = tm(second=int(onset_mean_time_seconds % 60), minute=int((onset_mean_time_seconds // 60) % 60), hour=int(onset_mean_time_seconds // 3600))\n",
    "    else:\n",
    "        onset_mean_time = tm()\n",
    "\n",
    "    wakeupSeries = train_event_DF_cp[(train_event_DF_cp['Date'] == date) & (train_event_DF_cp['event'] == 'wakeup')]['Time']\n",
    "    \n",
    "    if not wakeupSeries.empty:\n",
    "        wakeupSeries = pd.to_datetime(wakeupSeries, format='%H:%M:%S').dt.time\n",
    "        wakeupSeries = wakeupSeries.apply(lambda x: x.hour * 3600 + x.minute * 60 + x.second)\n",
    "        wakeup_mean_time_seconds = wakeupSeries.mean()\n",
    "        wakeup_mean_time = tm(second=int(wakeup_mean_time_seconds % 60), minute=int((wakeup_mean_time_seconds // 60) % 60), hour=int(wakeup_mean_time_seconds // 3600))\n",
    "    else:\n",
    "        wakeup_mean_time = tm()\n",
    "\n",
    "    sleepMem[date] = {'onset': onset_mean_time, 'wakeup': wakeup_mean_time}"
   ]
  },
  {
   "cell_type": "markdown",
   "id": "78980d7a",
   "metadata": {
    "papermill": {
     "duration": 0.02247,
     "end_time": "2023-12-03T20:58:46.101912",
     "exception": false,
     "start_time": "2023-12-03T20:58:46.079442",
     "status": "completed"
    },
    "tags": []
   },
   "source": [
    "## Feature Engineering"
   ]
  },
  {
   "cell_type": "markdown",
   "id": "df10a49f",
   "metadata": {
    "papermill": {
     "duration": 0.022567,
     "end_time": "2023-12-03T20:58:46.147198",
     "exception": false,
     "start_time": "2023-12-03T20:58:46.124631",
     "status": "completed"
    },
    "tags": []
   },
   "source": [
    "* Use 1 set 1 million data in Train_Series for training"
   ]
  },
  {
   "cell_type": "code",
   "execution_count": 38,
   "id": "475110d9",
   "metadata": {
    "execution": {
     "iopub.execute_input": "2023-12-03T20:58:46.193738Z",
     "iopub.status.busy": "2023-12-03T20:58:46.193358Z",
     "iopub.status.idle": "2023-12-03T20:58:46.220734Z",
     "shell.execute_reply": "2023-12-03T20:58:46.219343Z"
    },
    "papermill": {
     "duration": 0.053412,
     "end_time": "2023-12-03T20:58:46.223293",
     "exception": false,
     "start_time": "2023-12-03T20:58:46.169881",
     "status": "completed"
    },
    "tags": []
   },
   "outputs": [],
   "source": [
    "cropedRows=round(train_series_DF.shape[0]*.01)\n",
    "cropedTrainSeriesData=train_series_DF[:cropedRows].copy()\n"
   ]
  },
  {
   "cell_type": "code",
   "execution_count": 39,
   "id": "261b20b3",
   "metadata": {
    "execution": {
     "iopub.execute_input": "2023-12-03T20:58:46.275277Z",
     "iopub.status.busy": "2023-12-03T20:58:46.274897Z",
     "iopub.status.idle": "2023-12-03T20:58:46.282413Z",
     "shell.execute_reply": "2023-12-03T20:58:46.280262Z"
    },
    "papermill": {
     "duration": 0.036223,
     "end_time": "2023-12-03T20:58:46.285575",
     "exception": false,
     "start_time": "2023-12-03T20:58:46.249352",
     "status": "completed"
    },
    "tags": []
   },
   "outputs": [
    {
     "data": {
      "text/plain": [
       "(1279463, 5)"
      ]
     },
     "execution_count": 39,
     "metadata": {},
     "output_type": "execute_result"
    }
   ],
   "source": [
    "cropedTrainSeriesData.shape"
   ]
  },
  {
   "cell_type": "code",
   "execution_count": 40,
   "id": "644cb59c",
   "metadata": {
    "execution": {
     "iopub.execute_input": "2023-12-03T20:58:46.336988Z",
     "iopub.status.busy": "2023-12-03T20:58:46.335386Z",
     "iopub.status.idle": "2023-12-03T20:58:46.349699Z",
     "shell.execute_reply": "2023-12-03T20:58:46.348632Z"
    },
    "papermill": {
     "duration": 0.042361,
     "end_time": "2023-12-03T20:58:46.351575",
     "exception": false,
     "start_time": "2023-12-03T20:58:46.309214",
     "status": "completed"
    },
    "tags": []
   },
   "outputs": [
    {
     "data": {
      "text/html": [
       "<div>\n",
       "<style scoped>\n",
       "    .dataframe tbody tr th:only-of-type {\n",
       "        vertical-align: middle;\n",
       "    }\n",
       "\n",
       "    .dataframe tbody tr th {\n",
       "        vertical-align: top;\n",
       "    }\n",
       "\n",
       "    .dataframe thead th {\n",
       "        text-align: right;\n",
       "    }\n",
       "</style>\n",
       "<table border=\"1\" class=\"dataframe\">\n",
       "  <thead>\n",
       "    <tr style=\"text-align: right;\">\n",
       "      <th></th>\n",
       "      <th>series_id</th>\n",
       "      <th>step</th>\n",
       "      <th>timestamp</th>\n",
       "      <th>anglez</th>\n",
       "      <th>enmo</th>\n",
       "    </tr>\n",
       "  </thead>\n",
       "  <tbody>\n",
       "    <tr>\n",
       "      <th>0</th>\n",
       "      <td>038441c925bb</td>\n",
       "      <td>0</td>\n",
       "      <td>2018-08-14T15:30:00-0400</td>\n",
       "      <td>2.6367</td>\n",
       "      <td>0.0217</td>\n",
       "    </tr>\n",
       "    <tr>\n",
       "      <th>1</th>\n",
       "      <td>038441c925bb</td>\n",
       "      <td>1</td>\n",
       "      <td>2018-08-14T15:30:05-0400</td>\n",
       "      <td>2.6368</td>\n",
       "      <td>0.0215</td>\n",
       "    </tr>\n",
       "    <tr>\n",
       "      <th>2</th>\n",
       "      <td>038441c925bb</td>\n",
       "      <td>2</td>\n",
       "      <td>2018-08-14T15:30:10-0400</td>\n",
       "      <td>2.6370</td>\n",
       "      <td>0.0216</td>\n",
       "    </tr>\n",
       "    <tr>\n",
       "      <th>3</th>\n",
       "      <td>038441c925bb</td>\n",
       "      <td>3</td>\n",
       "      <td>2018-08-14T15:30:15-0400</td>\n",
       "      <td>2.6368</td>\n",
       "      <td>0.0213</td>\n",
       "    </tr>\n",
       "    <tr>\n",
       "      <th>4</th>\n",
       "      <td>038441c925bb</td>\n",
       "      <td>4</td>\n",
       "      <td>2018-08-14T15:30:20-0400</td>\n",
       "      <td>2.6368</td>\n",
       "      <td>0.0215</td>\n",
       "    </tr>\n",
       "  </tbody>\n",
       "</table>\n",
       "</div>"
      ],
      "text/plain": [
       "      series_id  step                 timestamp  anglez    enmo\n",
       "0  038441c925bb     0  2018-08-14T15:30:00-0400  2.6367  0.0217\n",
       "1  038441c925bb     1  2018-08-14T15:30:05-0400  2.6368  0.0215\n",
       "2  038441c925bb     2  2018-08-14T15:30:10-0400  2.6370  0.0216\n",
       "3  038441c925bb     3  2018-08-14T15:30:15-0400  2.6368  0.0213\n",
       "4  038441c925bb     4  2018-08-14T15:30:20-0400  2.6368  0.0215"
      ]
     },
     "execution_count": 40,
     "metadata": {},
     "output_type": "execute_result"
    }
   ],
   "source": [
    "cropedTrainSeriesData.head()"
   ]
  },
  {
   "cell_type": "code",
   "execution_count": 41,
   "id": "90095fd8",
   "metadata": {
    "execution": {
     "iopub.execute_input": "2023-12-03T20:58:46.402795Z",
     "iopub.status.busy": "2023-12-03T20:58:46.401502Z",
     "iopub.status.idle": "2023-12-03T20:58:46.410567Z",
     "shell.execute_reply": "2023-12-03T20:58:46.409347Z"
    },
    "papermill": {
     "duration": 0.03615,
     "end_time": "2023-12-03T20:58:46.412577",
     "exception": false,
     "start_time": "2023-12-03T20:58:46.376427",
     "status": "completed"
    },
    "tags": []
   },
   "outputs": [
    {
     "data": {
      "text/plain": [
       "series_id     object\n",
       "step          uint32\n",
       "timestamp     object\n",
       "anglez       float32\n",
       "enmo         float32\n",
       "dtype: object"
      ]
     },
     "execution_count": 41,
     "metadata": {},
     "output_type": "execute_result"
    }
   ],
   "source": [
    "cropedTrainSeriesData.dtypes"
   ]
  },
  {
   "cell_type": "code",
   "execution_count": 42,
   "id": "bbb48556",
   "metadata": {
    "execution": {
     "iopub.execute_input": "2023-12-03T20:58:46.461088Z",
     "iopub.status.busy": "2023-12-03T20:58:46.460688Z",
     "iopub.status.idle": "2023-12-03T20:58:52.007323Z",
     "shell.execute_reply": "2023-12-03T20:58:52.006305Z"
    },
    "papermill": {
     "duration": 5.574251,
     "end_time": "2023-12-03T20:58:52.010000",
     "exception": false,
     "start_time": "2023-12-03T20:58:46.435749",
     "status": "completed"
    },
    "tags": []
   },
   "outputs": [],
   "source": [
    "cropedTrainSeriesData['timestamp'] = pd.to_datetime(cropedTrainSeriesData['timestamp'],utc=True)"
   ]
  },
  {
   "cell_type": "code",
   "execution_count": 43,
   "id": "5ebf7452",
   "metadata": {
    "execution": {
     "iopub.execute_input": "2023-12-03T20:58:52.059126Z",
     "iopub.status.busy": "2023-12-03T20:58:52.058745Z",
     "iopub.status.idle": "2023-12-03T20:58:52.315863Z",
     "shell.execute_reply": "2023-12-03T20:58:52.314028Z"
    },
    "papermill": {
     "duration": 0.284675,
     "end_time": "2023-12-03T20:58:52.318547",
     "exception": false,
     "start_time": "2023-12-03T20:58:52.033872",
     "status": "completed"
    },
    "tags": []
   },
   "outputs": [],
   "source": [
    "cropedTrainSeriesData['Date'] = cropedTrainSeriesData['timestamp'].dt.date\n"
   ]
  },
  {
   "cell_type": "code",
   "execution_count": 44,
   "id": "a5ab1d93",
   "metadata": {
    "execution": {
     "iopub.execute_input": "2023-12-03T20:58:52.367881Z",
     "iopub.status.busy": "2023-12-03T20:58:52.367518Z",
     "iopub.status.idle": "2023-12-03T20:58:52.380525Z",
     "shell.execute_reply": "2023-12-03T20:58:52.379289Z"
    },
    "papermill": {
     "duration": 0.040712,
     "end_time": "2023-12-03T20:58:52.382643",
     "exception": false,
     "start_time": "2023-12-03T20:58:52.341931",
     "status": "completed"
    },
    "tags": []
   },
   "outputs": [
    {
     "data": {
      "text/html": [
       "<div>\n",
       "<style scoped>\n",
       "    .dataframe tbody tr th:only-of-type {\n",
       "        vertical-align: middle;\n",
       "    }\n",
       "\n",
       "    .dataframe tbody tr th {\n",
       "        vertical-align: top;\n",
       "    }\n",
       "\n",
       "    .dataframe thead th {\n",
       "        text-align: right;\n",
       "    }\n",
       "</style>\n",
       "<table border=\"1\" class=\"dataframe\">\n",
       "  <thead>\n",
       "    <tr style=\"text-align: right;\">\n",
       "      <th></th>\n",
       "      <th>series_id</th>\n",
       "      <th>step</th>\n",
       "      <th>timestamp</th>\n",
       "      <th>anglez</th>\n",
       "      <th>enmo</th>\n",
       "      <th>Date</th>\n",
       "    </tr>\n",
       "  </thead>\n",
       "  <tbody>\n",
       "    <tr>\n",
       "      <th>0</th>\n",
       "      <td>038441c925bb</td>\n",
       "      <td>0</td>\n",
       "      <td>2018-08-14 19:30:00+00:00</td>\n",
       "      <td>2.6367</td>\n",
       "      <td>0.0217</td>\n",
       "      <td>2018-08-14</td>\n",
       "    </tr>\n",
       "    <tr>\n",
       "      <th>1</th>\n",
       "      <td>038441c925bb</td>\n",
       "      <td>1</td>\n",
       "      <td>2018-08-14 19:30:05+00:00</td>\n",
       "      <td>2.6368</td>\n",
       "      <td>0.0215</td>\n",
       "      <td>2018-08-14</td>\n",
       "    </tr>\n",
       "    <tr>\n",
       "      <th>2</th>\n",
       "      <td>038441c925bb</td>\n",
       "      <td>2</td>\n",
       "      <td>2018-08-14 19:30:10+00:00</td>\n",
       "      <td>2.6370</td>\n",
       "      <td>0.0216</td>\n",
       "      <td>2018-08-14</td>\n",
       "    </tr>\n",
       "    <tr>\n",
       "      <th>3</th>\n",
       "      <td>038441c925bb</td>\n",
       "      <td>3</td>\n",
       "      <td>2018-08-14 19:30:15+00:00</td>\n",
       "      <td>2.6368</td>\n",
       "      <td>0.0213</td>\n",
       "      <td>2018-08-14</td>\n",
       "    </tr>\n",
       "    <tr>\n",
       "      <th>4</th>\n",
       "      <td>038441c925bb</td>\n",
       "      <td>4</td>\n",
       "      <td>2018-08-14 19:30:20+00:00</td>\n",
       "      <td>2.6368</td>\n",
       "      <td>0.0215</td>\n",
       "      <td>2018-08-14</td>\n",
       "    </tr>\n",
       "  </tbody>\n",
       "</table>\n",
       "</div>"
      ],
      "text/plain": [
       "      series_id  step                 timestamp  anglez    enmo        Date\n",
       "0  038441c925bb     0 2018-08-14 19:30:00+00:00  2.6367  0.0217  2018-08-14\n",
       "1  038441c925bb     1 2018-08-14 19:30:05+00:00  2.6368  0.0215  2018-08-14\n",
       "2  038441c925bb     2 2018-08-14 19:30:10+00:00  2.6370  0.0216  2018-08-14\n",
       "3  038441c925bb     3 2018-08-14 19:30:15+00:00  2.6368  0.0213  2018-08-14\n",
       "4  038441c925bb     4 2018-08-14 19:30:20+00:00  2.6368  0.0215  2018-08-14"
      ]
     },
     "execution_count": 44,
     "metadata": {},
     "output_type": "execute_result"
    }
   ],
   "source": [
    "cropedTrainSeriesData.head()"
   ]
  },
  {
   "cell_type": "code",
   "execution_count": 45,
   "id": "cca11ac2",
   "metadata": {
    "execution": {
     "iopub.execute_input": "2023-12-03T20:58:52.432982Z",
     "iopub.status.busy": "2023-12-03T20:58:52.432589Z",
     "iopub.status.idle": "2023-12-03T20:58:52.888953Z",
     "shell.execute_reply": "2023-12-03T20:58:52.887880Z"
    },
    "papermill": {
     "duration": 0.484686,
     "end_time": "2023-12-03T20:58:52.891349",
     "exception": false,
     "start_time": "2023-12-03T20:58:52.406663",
     "status": "completed"
    },
    "tags": []
   },
   "outputs": [],
   "source": [
    "cropedTrainSeriesData['Time'] = cropedTrainSeriesData['timestamp'].dt.time"
   ]
  },
  {
   "cell_type": "code",
   "execution_count": 46,
   "id": "0754ea77",
   "metadata": {
    "execution": {
     "iopub.execute_input": "2023-12-03T20:58:52.940167Z",
     "iopub.status.busy": "2023-12-03T20:58:52.939765Z",
     "iopub.status.idle": "2023-12-03T20:58:52.953594Z",
     "shell.execute_reply": "2023-12-03T20:58:52.952299Z"
    },
    "papermill": {
     "duration": 0.041512,
     "end_time": "2023-12-03T20:58:52.956321",
     "exception": false,
     "start_time": "2023-12-03T20:58:52.914809",
     "status": "completed"
    },
    "tags": []
   },
   "outputs": [
    {
     "data": {
      "text/html": [
       "<div>\n",
       "<style scoped>\n",
       "    .dataframe tbody tr th:only-of-type {\n",
       "        vertical-align: middle;\n",
       "    }\n",
       "\n",
       "    .dataframe tbody tr th {\n",
       "        vertical-align: top;\n",
       "    }\n",
       "\n",
       "    .dataframe thead th {\n",
       "        text-align: right;\n",
       "    }\n",
       "</style>\n",
       "<table border=\"1\" class=\"dataframe\">\n",
       "  <thead>\n",
       "    <tr style=\"text-align: right;\">\n",
       "      <th></th>\n",
       "      <th>series_id</th>\n",
       "      <th>step</th>\n",
       "      <th>timestamp</th>\n",
       "      <th>anglez</th>\n",
       "      <th>enmo</th>\n",
       "      <th>Date</th>\n",
       "      <th>Time</th>\n",
       "    </tr>\n",
       "  </thead>\n",
       "  <tbody>\n",
       "    <tr>\n",
       "      <th>0</th>\n",
       "      <td>038441c925bb</td>\n",
       "      <td>0</td>\n",
       "      <td>2018-08-14 19:30:00+00:00</td>\n",
       "      <td>2.6367</td>\n",
       "      <td>0.0217</td>\n",
       "      <td>2018-08-14</td>\n",
       "      <td>19:30:00</td>\n",
       "    </tr>\n",
       "    <tr>\n",
       "      <th>1</th>\n",
       "      <td>038441c925bb</td>\n",
       "      <td>1</td>\n",
       "      <td>2018-08-14 19:30:05+00:00</td>\n",
       "      <td>2.6368</td>\n",
       "      <td>0.0215</td>\n",
       "      <td>2018-08-14</td>\n",
       "      <td>19:30:05</td>\n",
       "    </tr>\n",
       "    <tr>\n",
       "      <th>2</th>\n",
       "      <td>038441c925bb</td>\n",
       "      <td>2</td>\n",
       "      <td>2018-08-14 19:30:10+00:00</td>\n",
       "      <td>2.6370</td>\n",
       "      <td>0.0216</td>\n",
       "      <td>2018-08-14</td>\n",
       "      <td>19:30:10</td>\n",
       "    </tr>\n",
       "    <tr>\n",
       "      <th>3</th>\n",
       "      <td>038441c925bb</td>\n",
       "      <td>3</td>\n",
       "      <td>2018-08-14 19:30:15+00:00</td>\n",
       "      <td>2.6368</td>\n",
       "      <td>0.0213</td>\n",
       "      <td>2018-08-14</td>\n",
       "      <td>19:30:15</td>\n",
       "    </tr>\n",
       "    <tr>\n",
       "      <th>4</th>\n",
       "      <td>038441c925bb</td>\n",
       "      <td>4</td>\n",
       "      <td>2018-08-14 19:30:20+00:00</td>\n",
       "      <td>2.6368</td>\n",
       "      <td>0.0215</td>\n",
       "      <td>2018-08-14</td>\n",
       "      <td>19:30:20</td>\n",
       "    </tr>\n",
       "  </tbody>\n",
       "</table>\n",
       "</div>"
      ],
      "text/plain": [
       "      series_id  step                 timestamp  anglez    enmo        Date  \\\n",
       "0  038441c925bb     0 2018-08-14 19:30:00+00:00  2.6367  0.0217  2018-08-14   \n",
       "1  038441c925bb     1 2018-08-14 19:30:05+00:00  2.6368  0.0215  2018-08-14   \n",
       "2  038441c925bb     2 2018-08-14 19:30:10+00:00  2.6370  0.0216  2018-08-14   \n",
       "3  038441c925bb     3 2018-08-14 19:30:15+00:00  2.6368  0.0213  2018-08-14   \n",
       "4  038441c925bb     4 2018-08-14 19:30:20+00:00  2.6368  0.0215  2018-08-14   \n",
       "\n",
       "       Time  \n",
       "0  19:30:00  \n",
       "1  19:30:05  \n",
       "2  19:30:10  \n",
       "3  19:30:15  \n",
       "4  19:30:20  "
      ]
     },
     "execution_count": 46,
     "metadata": {},
     "output_type": "execute_result"
    }
   ],
   "source": [
    "cropedTrainSeriesData.head()"
   ]
  },
  {
   "cell_type": "markdown",
   "id": "abc3bf0e",
   "metadata": {
    "papermill": {
     "duration": 0.023689,
     "end_time": "2023-12-03T20:58:53.003962",
     "exception": false,
     "start_time": "2023-12-03T20:58:52.980273",
     "status": "completed"
    },
    "tags": []
   },
   "source": [
    "### Create \"event\" column in \"train_series\" Data set based on \"train_event\" data set"
   ]
  },
  {
   "cell_type": "markdown",
   "id": "03c7b79f",
   "metadata": {
    "papermill": {
     "duration": 0.023596,
     "end_time": "2023-12-03T20:58:53.051658",
     "exception": false,
     "start_time": "2023-12-03T20:58:53.028062",
     "status": "completed"
    },
    "tags": []
   },
   "source": [
    "* Time between \"onset\" to \"wakeup\" in \"train_event\"  consider as \"onset\"\n",
    "* Time between \"wakeup\" to \"onset\" in \"train_event\"  consider as \"wakeup\""
   ]
  },
  {
   "cell_type": "code",
   "execution_count": 47,
   "id": "500514bf",
   "metadata": {
    "execution": {
     "iopub.execute_input": "2023-12-03T20:58:53.100890Z",
     "iopub.status.busy": "2023-12-03T20:58:53.100502Z",
     "iopub.status.idle": "2023-12-03T21:02:02.724341Z",
     "shell.execute_reply": "2023-12-03T21:02:02.723567Z"
    },
    "papermill": {
     "duration": 189.651184,
     "end_time": "2023-12-03T21:02:02.726586",
     "exception": false,
     "start_time": "2023-12-03T20:58:53.075402",
     "status": "completed"
    },
    "tags": []
   },
   "outputs": [
    {
     "data": {
      "application/vnd.jupyter.widget-view+json": {
       "model_id": "ab77d0b175364fdfaf4cd89d5e996afe",
       "version_major": 2,
       "version_minor": 0
      },
      "text/plain": [
       "Processing Data:   0%|          | 0/1279463 [00:00<?, ?it/s]"
      ]
     },
     "metadata": {},
     "output_type": "display_data"
    }
   ],
   "source": [
    "for i in tqdm(range(cropedTrainSeriesData.shape[0]), desc=\"Processing Data\"):\n",
    "    date = cropedTrainSeriesData.loc[i, 'Date']\n",
    "    time = cropedTrainSeriesData.loc[i, 'Time']\n",
    "\n",
    "    onset_time = sleepMem[date]['onset']\n",
    "    wakeup_time = sleepMem[date]['wakeup']\n",
    "\n",
    "    # If the time is less than wakeup time or greater than or equal to onset time, it should be onset\n",
    "    # If the time is between wakeup and onset, it should be wakeup\n",
    "    if time < wakeup_time or time >= onset_time:\n",
    "        cropedTrainSeriesData.loc[i, 'event'] = 'onset'\n",
    "    else:\n",
    "        cropedTrainSeriesData.loc[i, 'event'] = 'wakeup'"
   ]
  },
  {
   "cell_type": "code",
   "execution_count": 48,
   "id": "9cc56118",
   "metadata": {
    "execution": {
     "iopub.execute_input": "2023-12-03T21:02:02.776387Z",
     "iopub.status.busy": "2023-12-03T21:02:02.776022Z",
     "iopub.status.idle": "2023-12-03T21:02:02.918572Z",
     "shell.execute_reply": "2023-12-03T21:02:02.917523Z"
    },
    "papermill": {
     "duration": 0.170113,
     "end_time": "2023-12-03T21:02:02.920436",
     "exception": false,
     "start_time": "2023-12-03T21:02:02.750323",
     "status": "completed"
    },
    "tags": []
   },
   "outputs": [
    {
     "data": {
      "text/html": [
       "<div>\n",
       "<style scoped>\n",
       "    .dataframe tbody tr th:only-of-type {\n",
       "        vertical-align: middle;\n",
       "    }\n",
       "\n",
       "    .dataframe tbody tr th {\n",
       "        vertical-align: top;\n",
       "    }\n",
       "\n",
       "    .dataframe thead th {\n",
       "        text-align: right;\n",
       "    }\n",
       "</style>\n",
       "<table border=\"1\" class=\"dataframe\">\n",
       "  <thead>\n",
       "    <tr style=\"text-align: right;\">\n",
       "      <th></th>\n",
       "      <th>series_id</th>\n",
       "      <th>step</th>\n",
       "      <th>timestamp</th>\n",
       "      <th>anglez</th>\n",
       "      <th>enmo</th>\n",
       "      <th>Date</th>\n",
       "      <th>Time</th>\n",
       "      <th>event</th>\n",
       "    </tr>\n",
       "  </thead>\n",
       "  <tbody>\n",
       "    <tr>\n",
       "      <th>8527</th>\n",
       "      <td>038441c925bb</td>\n",
       "      <td>8527</td>\n",
       "      <td>2018-08-15 07:20:35+00:00</td>\n",
       "      <td>16.320400</td>\n",
       "      <td>0.0</td>\n",
       "      <td>2018-08-15</td>\n",
       "      <td>07:20:35</td>\n",
       "      <td>wakeup</td>\n",
       "    </tr>\n",
       "    <tr>\n",
       "      <th>8528</th>\n",
       "      <td>038441c925bb</td>\n",
       "      <td>8528</td>\n",
       "      <td>2018-08-15 07:20:40+00:00</td>\n",
       "      <td>16.237600</td>\n",
       "      <td>0.0</td>\n",
       "      <td>2018-08-15</td>\n",
       "      <td>07:20:40</td>\n",
       "      <td>wakeup</td>\n",
       "    </tr>\n",
       "    <tr>\n",
       "      <th>8529</th>\n",
       "      <td>038441c925bb</td>\n",
       "      <td>8529</td>\n",
       "      <td>2018-08-15 07:20:45+00:00</td>\n",
       "      <td>16.352800</td>\n",
       "      <td>0.0</td>\n",
       "      <td>2018-08-15</td>\n",
       "      <td>07:20:45</td>\n",
       "      <td>wakeup</td>\n",
       "    </tr>\n",
       "    <tr>\n",
       "      <th>8530</th>\n",
       "      <td>038441c925bb</td>\n",
       "      <td>8530</td>\n",
       "      <td>2018-08-15 07:20:50+00:00</td>\n",
       "      <td>16.367001</td>\n",
       "      <td>0.0</td>\n",
       "      <td>2018-08-15</td>\n",
       "      <td>07:20:50</td>\n",
       "      <td>wakeup</td>\n",
       "    </tr>\n",
       "    <tr>\n",
       "      <th>8531</th>\n",
       "      <td>038441c925bb</td>\n",
       "      <td>8531</td>\n",
       "      <td>2018-08-15 07:20:55+00:00</td>\n",
       "      <td>16.367800</td>\n",
       "      <td>0.0</td>\n",
       "      <td>2018-08-15</td>\n",
       "      <td>07:20:55</td>\n",
       "      <td>wakeup</td>\n",
       "    </tr>\n",
       "    <tr>\n",
       "      <th>...</th>\n",
       "      <td>...</td>\n",
       "      <td>...</td>\n",
       "      <td>...</td>\n",
       "      <td>...</td>\n",
       "      <td>...</td>\n",
       "      <td>...</td>\n",
       "      <td>...</td>\n",
       "      <td>...</td>\n",
       "    </tr>\n",
       "    <tr>\n",
       "      <th>1279458</th>\n",
       "      <td>0402a003dae9</td>\n",
       "      <td>165438</td>\n",
       "      <td>2018-12-28 07:31:30+00:00</td>\n",
       "      <td>57.196701</td>\n",
       "      <td>0.0</td>\n",
       "      <td>2018-12-28</td>\n",
       "      <td>07:31:30</td>\n",
       "      <td>wakeup</td>\n",
       "    </tr>\n",
       "    <tr>\n",
       "      <th>1279459</th>\n",
       "      <td>0402a003dae9</td>\n",
       "      <td>165439</td>\n",
       "      <td>2018-12-28 07:31:35+00:00</td>\n",
       "      <td>57.196701</td>\n",
       "      <td>0.0</td>\n",
       "      <td>2018-12-28</td>\n",
       "      <td>07:31:35</td>\n",
       "      <td>wakeup</td>\n",
       "    </tr>\n",
       "    <tr>\n",
       "      <th>1279460</th>\n",
       "      <td>0402a003dae9</td>\n",
       "      <td>165440</td>\n",
       "      <td>2018-12-28 07:31:40+00:00</td>\n",
       "      <td>57.196701</td>\n",
       "      <td>0.0</td>\n",
       "      <td>2018-12-28</td>\n",
       "      <td>07:31:40</td>\n",
       "      <td>wakeup</td>\n",
       "    </tr>\n",
       "    <tr>\n",
       "      <th>1279461</th>\n",
       "      <td>0402a003dae9</td>\n",
       "      <td>165441</td>\n",
       "      <td>2018-12-28 07:31:45+00:00</td>\n",
       "      <td>57.196701</td>\n",
       "      <td>0.0</td>\n",
       "      <td>2018-12-28</td>\n",
       "      <td>07:31:45</td>\n",
       "      <td>wakeup</td>\n",
       "    </tr>\n",
       "    <tr>\n",
       "      <th>1279462</th>\n",
       "      <td>0402a003dae9</td>\n",
       "      <td>165442</td>\n",
       "      <td>2018-12-28 07:31:50+00:00</td>\n",
       "      <td>57.234200</td>\n",
       "      <td>0.0</td>\n",
       "      <td>2018-12-28</td>\n",
       "      <td>07:31:50</td>\n",
       "      <td>wakeup</td>\n",
       "    </tr>\n",
       "  </tbody>\n",
       "</table>\n",
       "<p>683339 rows × 8 columns</p>\n",
       "</div>"
      ],
      "text/plain": [
       "            series_id    step                 timestamp     anglez  enmo  \\\n",
       "8527     038441c925bb    8527 2018-08-15 07:20:35+00:00  16.320400   0.0   \n",
       "8528     038441c925bb    8528 2018-08-15 07:20:40+00:00  16.237600   0.0   \n",
       "8529     038441c925bb    8529 2018-08-15 07:20:45+00:00  16.352800   0.0   \n",
       "8530     038441c925bb    8530 2018-08-15 07:20:50+00:00  16.367001   0.0   \n",
       "8531     038441c925bb    8531 2018-08-15 07:20:55+00:00  16.367800   0.0   \n",
       "...               ...     ...                       ...        ...   ...   \n",
       "1279458  0402a003dae9  165438 2018-12-28 07:31:30+00:00  57.196701   0.0   \n",
       "1279459  0402a003dae9  165439 2018-12-28 07:31:35+00:00  57.196701   0.0   \n",
       "1279460  0402a003dae9  165440 2018-12-28 07:31:40+00:00  57.196701   0.0   \n",
       "1279461  0402a003dae9  165441 2018-12-28 07:31:45+00:00  57.196701   0.0   \n",
       "1279462  0402a003dae9  165442 2018-12-28 07:31:50+00:00  57.234200   0.0   \n",
       "\n",
       "               Date      Time   event  \n",
       "8527     2018-08-15  07:20:35  wakeup  \n",
       "8528     2018-08-15  07:20:40  wakeup  \n",
       "8529     2018-08-15  07:20:45  wakeup  \n",
       "8530     2018-08-15  07:20:50  wakeup  \n",
       "8531     2018-08-15  07:20:55  wakeup  \n",
       "...             ...       ...     ...  \n",
       "1279458  2018-12-28  07:31:30  wakeup  \n",
       "1279459  2018-12-28  07:31:35  wakeup  \n",
       "1279460  2018-12-28  07:31:40  wakeup  \n",
       "1279461  2018-12-28  07:31:45  wakeup  \n",
       "1279462  2018-12-28  07:31:50  wakeup  \n",
       "\n",
       "[683339 rows x 8 columns]"
      ]
     },
     "execution_count": 48,
     "metadata": {},
     "output_type": "execute_result"
    }
   ],
   "source": [
    "cropedTrainSeriesData[cropedTrainSeriesData['event']=='wakeup']"
   ]
  },
  {
   "cell_type": "code",
   "execution_count": 49,
   "id": "65bf1d5d",
   "metadata": {
    "execution": {
     "iopub.execute_input": "2023-12-03T21:02:02.972082Z",
     "iopub.status.busy": "2023-12-03T21:02:02.970426Z",
     "iopub.status.idle": "2023-12-03T21:02:03.103324Z",
     "shell.execute_reply": "2023-12-03T21:02:03.101416Z"
    },
    "papermill": {
     "duration": 0.161187,
     "end_time": "2023-12-03T21:02:03.106277",
     "exception": false,
     "start_time": "2023-12-03T21:02:02.945090",
     "status": "completed"
    },
    "tags": []
   },
   "outputs": [
    {
     "data": {
      "text/html": [
       "<div>\n",
       "<style scoped>\n",
       "    .dataframe tbody tr th:only-of-type {\n",
       "        vertical-align: middle;\n",
       "    }\n",
       "\n",
       "    .dataframe tbody tr th {\n",
       "        vertical-align: top;\n",
       "    }\n",
       "\n",
       "    .dataframe thead th {\n",
       "        text-align: right;\n",
       "    }\n",
       "</style>\n",
       "<table border=\"1\" class=\"dataframe\">\n",
       "  <thead>\n",
       "    <tr style=\"text-align: right;\">\n",
       "      <th></th>\n",
       "      <th>series_id</th>\n",
       "      <th>step</th>\n",
       "      <th>timestamp</th>\n",
       "      <th>anglez</th>\n",
       "      <th>enmo</th>\n",
       "      <th>Date</th>\n",
       "      <th>Time</th>\n",
       "      <th>event</th>\n",
       "    </tr>\n",
       "  </thead>\n",
       "  <tbody>\n",
       "    <tr>\n",
       "      <th>0</th>\n",
       "      <td>038441c925bb</td>\n",
       "      <td>0</td>\n",
       "      <td>2018-08-14 19:30:00+00:00</td>\n",
       "      <td>2.636700</td>\n",
       "      <td>0.0217</td>\n",
       "      <td>2018-08-14</td>\n",
       "      <td>19:30:00</td>\n",
       "      <td>onset</td>\n",
       "    </tr>\n",
       "    <tr>\n",
       "      <th>1</th>\n",
       "      <td>038441c925bb</td>\n",
       "      <td>1</td>\n",
       "      <td>2018-08-14 19:30:05+00:00</td>\n",
       "      <td>2.636800</td>\n",
       "      <td>0.0215</td>\n",
       "      <td>2018-08-14</td>\n",
       "      <td>19:30:05</td>\n",
       "      <td>onset</td>\n",
       "    </tr>\n",
       "    <tr>\n",
       "      <th>2</th>\n",
       "      <td>038441c925bb</td>\n",
       "      <td>2</td>\n",
       "      <td>2018-08-14 19:30:10+00:00</td>\n",
       "      <td>2.637000</td>\n",
       "      <td>0.0216</td>\n",
       "      <td>2018-08-14</td>\n",
       "      <td>19:30:10</td>\n",
       "      <td>onset</td>\n",
       "    </tr>\n",
       "    <tr>\n",
       "      <th>3</th>\n",
       "      <td>038441c925bb</td>\n",
       "      <td>3</td>\n",
       "      <td>2018-08-14 19:30:15+00:00</td>\n",
       "      <td>2.636800</td>\n",
       "      <td>0.0213</td>\n",
       "      <td>2018-08-14</td>\n",
       "      <td>19:30:15</td>\n",
       "      <td>onset</td>\n",
       "    </tr>\n",
       "    <tr>\n",
       "      <th>4</th>\n",
       "      <td>038441c925bb</td>\n",
       "      <td>4</td>\n",
       "      <td>2018-08-14 19:30:20+00:00</td>\n",
       "      <td>2.636800</td>\n",
       "      <td>0.0215</td>\n",
       "      <td>2018-08-14</td>\n",
       "      <td>19:30:20</td>\n",
       "      <td>onset</td>\n",
       "    </tr>\n",
       "    <tr>\n",
       "      <th>...</th>\n",
       "      <td>...</td>\n",
       "      <td>...</td>\n",
       "      <td>...</td>\n",
       "      <td>...</td>\n",
       "      <td>...</td>\n",
       "      <td>...</td>\n",
       "      <td>...</td>\n",
       "      <td>...</td>\n",
       "    </tr>\n",
       "    <tr>\n",
       "      <th>1278974</th>\n",
       "      <td>0402a003dae9</td>\n",
       "      <td>164954</td>\n",
       "      <td>2018-12-28 06:51:10+00:00</td>\n",
       "      <td>58.963902</td>\n",
       "      <td>0.0000</td>\n",
       "      <td>2018-12-28</td>\n",
       "      <td>06:51:10</td>\n",
       "      <td>onset</td>\n",
       "    </tr>\n",
       "    <tr>\n",
       "      <th>1278975</th>\n",
       "      <td>0402a003dae9</td>\n",
       "      <td>164955</td>\n",
       "      <td>2018-12-28 06:51:15+00:00</td>\n",
       "      <td>58.961601</td>\n",
       "      <td>0.0000</td>\n",
       "      <td>2018-12-28</td>\n",
       "      <td>06:51:15</td>\n",
       "      <td>onset</td>\n",
       "    </tr>\n",
       "    <tr>\n",
       "      <th>1278976</th>\n",
       "      <td>0402a003dae9</td>\n",
       "      <td>164956</td>\n",
       "      <td>2018-12-28 06:51:20+00:00</td>\n",
       "      <td>58.962898</td>\n",
       "      <td>0.0000</td>\n",
       "      <td>2018-12-28</td>\n",
       "      <td>06:51:20</td>\n",
       "      <td>onset</td>\n",
       "    </tr>\n",
       "    <tr>\n",
       "      <th>1278977</th>\n",
       "      <td>0402a003dae9</td>\n",
       "      <td>164957</td>\n",
       "      <td>2018-12-28 06:51:25+00:00</td>\n",
       "      <td>58.962700</td>\n",
       "      <td>0.0000</td>\n",
       "      <td>2018-12-28</td>\n",
       "      <td>06:51:25</td>\n",
       "      <td>onset</td>\n",
       "    </tr>\n",
       "    <tr>\n",
       "      <th>1278978</th>\n",
       "      <td>0402a003dae9</td>\n",
       "      <td>164958</td>\n",
       "      <td>2018-12-28 06:51:30+00:00</td>\n",
       "      <td>58.203999</td>\n",
       "      <td>0.0009</td>\n",
       "      <td>2018-12-28</td>\n",
       "      <td>06:51:30</td>\n",
       "      <td>onset</td>\n",
       "    </tr>\n",
       "  </tbody>\n",
       "</table>\n",
       "<p>596124 rows × 8 columns</p>\n",
       "</div>"
      ],
      "text/plain": [
       "            series_id    step                 timestamp     anglez    enmo  \\\n",
       "0        038441c925bb       0 2018-08-14 19:30:00+00:00   2.636700  0.0217   \n",
       "1        038441c925bb       1 2018-08-14 19:30:05+00:00   2.636800  0.0215   \n",
       "2        038441c925bb       2 2018-08-14 19:30:10+00:00   2.637000  0.0216   \n",
       "3        038441c925bb       3 2018-08-14 19:30:15+00:00   2.636800  0.0213   \n",
       "4        038441c925bb       4 2018-08-14 19:30:20+00:00   2.636800  0.0215   \n",
       "...               ...     ...                       ...        ...     ...   \n",
       "1278974  0402a003dae9  164954 2018-12-28 06:51:10+00:00  58.963902  0.0000   \n",
       "1278975  0402a003dae9  164955 2018-12-28 06:51:15+00:00  58.961601  0.0000   \n",
       "1278976  0402a003dae9  164956 2018-12-28 06:51:20+00:00  58.962898  0.0000   \n",
       "1278977  0402a003dae9  164957 2018-12-28 06:51:25+00:00  58.962700  0.0000   \n",
       "1278978  0402a003dae9  164958 2018-12-28 06:51:30+00:00  58.203999  0.0009   \n",
       "\n",
       "               Date      Time  event  \n",
       "0        2018-08-14  19:30:00  onset  \n",
       "1        2018-08-14  19:30:05  onset  \n",
       "2        2018-08-14  19:30:10  onset  \n",
       "3        2018-08-14  19:30:15  onset  \n",
       "4        2018-08-14  19:30:20  onset  \n",
       "...             ...       ...    ...  \n",
       "1278974  2018-12-28  06:51:10  onset  \n",
       "1278975  2018-12-28  06:51:15  onset  \n",
       "1278976  2018-12-28  06:51:20  onset  \n",
       "1278977  2018-12-28  06:51:25  onset  \n",
       "1278978  2018-12-28  06:51:30  onset  \n",
       "\n",
       "[596124 rows x 8 columns]"
      ]
     },
     "execution_count": 49,
     "metadata": {},
     "output_type": "execute_result"
    }
   ],
   "source": [
    "cropedTrainSeriesData[cropedTrainSeriesData['event']=='onset']"
   ]
  },
  {
   "cell_type": "markdown",
   "id": "804395f8",
   "metadata": {
    "execution": {
     "iopub.execute_input": "2023-11-30T17:14:52.961762Z",
     "iopub.status.busy": "2023-11-30T17:14:52.960824Z",
     "iopub.status.idle": "2023-11-30T17:14:52.978463Z",
     "shell.execute_reply": "2023-11-30T17:14:52.977144Z",
     "shell.execute_reply.started": "2023-11-30T17:14:52.961727Z"
    },
    "papermill": {
     "duration": 0.023664,
     "end_time": "2023-12-03T21:02:03.154450",
     "exception": false,
     "start_time": "2023-12-03T21:02:03.130786",
     "status": "completed"
    },
    "tags": []
   },
   "source": [
    "### Create new feature \"Season\""
   ]
  },
  {
   "cell_type": "markdown",
   "id": "84be202d",
   "metadata": {
    "papermill": {
     "duration": 0.023376,
     "end_time": "2023-12-03T21:02:03.202171",
     "exception": false,
     "start_time": "2023-12-03T21:02:03.178795",
     "status": "completed"
    },
    "tags": []
   },
   "source": [
    "* Spring begins March 1 ~ May 31\n",
    "* Summer begins June 1 August 31\n",
    "* Autumn begins September 1 ~ November 30\n",
    "* Winter begins December 1~Feb 28"
   ]
  },
  {
   "cell_type": "markdown",
   "id": "64a8e0fd",
   "metadata": {
    "papermill": {
     "duration": 0.023227,
     "end_time": "2023-12-03T21:02:03.248958",
     "exception": false,
     "start_time": "2023-12-03T21:02:03.225731",
     "status": "completed"
    },
    "tags": []
   },
   "source": [
    "# Created on one-encoding\n"
   ]
  },
  {
   "cell_type": "code",
   "execution_count": 50,
   "id": "cf476ab7",
   "metadata": {
    "execution": {
     "iopub.execute_input": "2023-12-03T21:02:03.301663Z",
     "iopub.status.busy": "2023-12-03T21:02:03.300378Z",
     "iopub.status.idle": "2023-12-03T21:02:03.314308Z",
     "shell.execute_reply": "2023-12-03T21:02:03.313532Z"
    },
    "papermill": {
     "duration": 0.042826,
     "end_time": "2023-12-03T21:02:03.316530",
     "exception": false,
     "start_time": "2023-12-03T21:02:03.273704",
     "status": "completed"
    },
    "tags": []
   },
   "outputs": [
    {
     "data": {
      "text/html": [
       "<div>\n",
       "<style scoped>\n",
       "    .dataframe tbody tr th:only-of-type {\n",
       "        vertical-align: middle;\n",
       "    }\n",
       "\n",
       "    .dataframe tbody tr th {\n",
       "        vertical-align: top;\n",
       "    }\n",
       "\n",
       "    .dataframe thead th {\n",
       "        text-align: right;\n",
       "    }\n",
       "</style>\n",
       "<table border=\"1\" class=\"dataframe\">\n",
       "  <thead>\n",
       "    <tr style=\"text-align: right;\">\n",
       "      <th></th>\n",
       "      <th>series_id</th>\n",
       "      <th>step</th>\n",
       "      <th>timestamp</th>\n",
       "      <th>anglez</th>\n",
       "      <th>enmo</th>\n",
       "      <th>Date</th>\n",
       "      <th>Time</th>\n",
       "      <th>event</th>\n",
       "    </tr>\n",
       "  </thead>\n",
       "  <tbody>\n",
       "    <tr>\n",
       "      <th>0</th>\n",
       "      <td>038441c925bb</td>\n",
       "      <td>0</td>\n",
       "      <td>2018-08-14 19:30:00+00:00</td>\n",
       "      <td>2.6367</td>\n",
       "      <td>0.0217</td>\n",
       "      <td>2018-08-14</td>\n",
       "      <td>19:30:00</td>\n",
       "      <td>onset</td>\n",
       "    </tr>\n",
       "    <tr>\n",
       "      <th>1</th>\n",
       "      <td>038441c925bb</td>\n",
       "      <td>1</td>\n",
       "      <td>2018-08-14 19:30:05+00:00</td>\n",
       "      <td>2.6368</td>\n",
       "      <td>0.0215</td>\n",
       "      <td>2018-08-14</td>\n",
       "      <td>19:30:05</td>\n",
       "      <td>onset</td>\n",
       "    </tr>\n",
       "    <tr>\n",
       "      <th>2</th>\n",
       "      <td>038441c925bb</td>\n",
       "      <td>2</td>\n",
       "      <td>2018-08-14 19:30:10+00:00</td>\n",
       "      <td>2.6370</td>\n",
       "      <td>0.0216</td>\n",
       "      <td>2018-08-14</td>\n",
       "      <td>19:30:10</td>\n",
       "      <td>onset</td>\n",
       "    </tr>\n",
       "    <tr>\n",
       "      <th>3</th>\n",
       "      <td>038441c925bb</td>\n",
       "      <td>3</td>\n",
       "      <td>2018-08-14 19:30:15+00:00</td>\n",
       "      <td>2.6368</td>\n",
       "      <td>0.0213</td>\n",
       "      <td>2018-08-14</td>\n",
       "      <td>19:30:15</td>\n",
       "      <td>onset</td>\n",
       "    </tr>\n",
       "    <tr>\n",
       "      <th>4</th>\n",
       "      <td>038441c925bb</td>\n",
       "      <td>4</td>\n",
       "      <td>2018-08-14 19:30:20+00:00</td>\n",
       "      <td>2.6368</td>\n",
       "      <td>0.0215</td>\n",
       "      <td>2018-08-14</td>\n",
       "      <td>19:30:20</td>\n",
       "      <td>onset</td>\n",
       "    </tr>\n",
       "  </tbody>\n",
       "</table>\n",
       "</div>"
      ],
      "text/plain": [
       "      series_id  step                 timestamp  anglez    enmo        Date  \\\n",
       "0  038441c925bb     0 2018-08-14 19:30:00+00:00  2.6367  0.0217  2018-08-14   \n",
       "1  038441c925bb     1 2018-08-14 19:30:05+00:00  2.6368  0.0215  2018-08-14   \n",
       "2  038441c925bb     2 2018-08-14 19:30:10+00:00  2.6370  0.0216  2018-08-14   \n",
       "3  038441c925bb     3 2018-08-14 19:30:15+00:00  2.6368  0.0213  2018-08-14   \n",
       "4  038441c925bb     4 2018-08-14 19:30:20+00:00  2.6368  0.0215  2018-08-14   \n",
       "\n",
       "       Time  event  \n",
       "0  19:30:00  onset  \n",
       "1  19:30:05  onset  \n",
       "2  19:30:10  onset  \n",
       "3  19:30:15  onset  \n",
       "4  19:30:20  onset  "
      ]
     },
     "execution_count": 50,
     "metadata": {},
     "output_type": "execute_result"
    }
   ],
   "source": [
    "cropedTrainSeriesData.head()\n"
   ]
  },
  {
   "cell_type": "code",
   "execution_count": 51,
   "id": "979c452d",
   "metadata": {
    "execution": {
     "iopub.execute_input": "2023-12-03T21:02:03.365916Z",
     "iopub.status.busy": "2023-12-03T21:02:03.365536Z",
     "iopub.status.idle": "2023-12-03T21:07:28.044327Z",
     "shell.execute_reply": "2023-12-03T21:07:28.041497Z"
    },
    "papermill": {
     "duration": 324.725037,
     "end_time": "2023-12-03T21:07:28.065407",
     "exception": false,
     "start_time": "2023-12-03T21:02:03.340370",
     "status": "completed"
    },
    "tags": []
   },
   "outputs": [
    {
     "data": {
      "application/vnd.jupyter.widget-view+json": {
       "model_id": "3059a946943647d4b79958e000840ac3",
       "version_major": 2,
       "version_minor": 0
      },
      "text/plain": [
       "Mapping Seasons:   0%|          | 0/1279463 [00:00<?, ?it/s]"
      ]
     },
     "metadata": {},
     "output_type": "display_data"
    },
    {
     "data": {
      "application/vnd.jupyter.widget-view+json": {
       "model_id": "7fba1a860d064db990df3fa658ad06cc",
       "version_major": 2,
       "version_minor": 0
      },
      "text/plain": [
       "One-Hot Encoding:   0%|          | 0/1279463 [00:00<?, ?it/s]"
      ]
     },
     "metadata": {},
     "output_type": "display_data"
    }
   ],
   "source": [
    "# Convert the 'Date' column to datetime format\n",
    "cropedTrainSeriesData['NewDate'] = pd.to_datetime(cropedTrainSeriesData['Date'])\n",
    "\n",
    "# Create a new 'Season' column based on the month of each date\n",
    "tqdm.pandas(desc=\"Mapping Seasons\")\n",
    "cropedTrainSeriesData['Season'] = cropedTrainSeriesData['NewDate'].dt.month.progress_map(lambda x: {3: 'Spring', 4: 'Spring', 5: 'Spring',\n",
    "                                                 6: 'Summer', 7: 'Summer', 8: 'Summer',\n",
    "                                                 9: 'Autumn', 10: 'Autumn', 11: 'Autumn',\n",
    "                                                 12: 'Winter', 1: 'Winter', 2: 'Winter'}.get(x))\n",
    "\n",
    "# Use get_dummies to one-hot encode the 'Season' column\n",
    "tqdm.pandas(desc=\"One-Hot Encoding\")\n",
    "season_dummies = cropedTrainSeriesData['Season'].progress_apply(lambda x: pd.Series({x: 1}))"
   ]
  },
  {
   "cell_type": "code",
   "execution_count": 52,
   "id": "95b3668e",
   "metadata": {
    "execution": {
     "iopub.execute_input": "2023-12-03T21:07:28.119288Z",
     "iopub.status.busy": "2023-12-03T21:07:28.118619Z",
     "iopub.status.idle": "2023-12-03T21:07:28.163333Z",
     "shell.execute_reply": "2023-12-03T21:07:28.161942Z"
    },
    "papermill": {
     "duration": 0.075227,
     "end_time": "2023-12-03T21:07:28.165721",
     "exception": false,
     "start_time": "2023-12-03T21:07:28.090494",
     "status": "completed"
    },
    "tags": []
   },
   "outputs": [],
   "source": [
    "# Concatenate the one-hot encoded columns to the original DataFrame\n",
    "cropedTrainSeriesData = pd.concat([cropedTrainSeriesData, season_dummies], axis=1)"
   ]
  },
  {
   "cell_type": "code",
   "execution_count": 53,
   "id": "481b9650",
   "metadata": {
    "execution": {
     "iopub.execute_input": "2023-12-03T21:07:28.216949Z",
     "iopub.status.busy": "2023-12-03T21:07:28.216602Z",
     "iopub.status.idle": "2023-12-03T21:07:28.249654Z",
     "shell.execute_reply": "2023-12-03T21:07:28.248254Z"
    },
    "papermill": {
     "duration": 0.061808,
     "end_time": "2023-12-03T21:07:28.252132",
     "exception": false,
     "start_time": "2023-12-03T21:07:28.190324",
     "status": "completed"
    },
    "tags": []
   },
   "outputs": [
    {
     "data": {
      "text/html": [
       "<div>\n",
       "<style scoped>\n",
       "    .dataframe tbody tr th:only-of-type {\n",
       "        vertical-align: middle;\n",
       "    }\n",
       "\n",
       "    .dataframe tbody tr th {\n",
       "        vertical-align: top;\n",
       "    }\n",
       "\n",
       "    .dataframe thead th {\n",
       "        text-align: right;\n",
       "    }\n",
       "</style>\n",
       "<table border=\"1\" class=\"dataframe\">\n",
       "  <thead>\n",
       "    <tr style=\"text-align: right;\">\n",
       "      <th></th>\n",
       "      <th>series_id</th>\n",
       "      <th>step</th>\n",
       "      <th>timestamp</th>\n",
       "      <th>anglez</th>\n",
       "      <th>enmo</th>\n",
       "      <th>Date</th>\n",
       "      <th>Time</th>\n",
       "      <th>event</th>\n",
       "      <th>NewDate</th>\n",
       "      <th>Season</th>\n",
       "      <th>Summer</th>\n",
       "      <th>Autumn</th>\n",
       "      <th>Spring</th>\n",
       "      <th>Winter</th>\n",
       "    </tr>\n",
       "  </thead>\n",
       "  <tbody>\n",
       "    <tr>\n",
       "      <th>0</th>\n",
       "      <td>038441c925bb</td>\n",
       "      <td>0</td>\n",
       "      <td>2018-08-14 19:30:00+00:00</td>\n",
       "      <td>2.636700</td>\n",
       "      <td>0.0217</td>\n",
       "      <td>2018-08-14</td>\n",
       "      <td>19:30:00</td>\n",
       "      <td>onset</td>\n",
       "      <td>2018-08-14</td>\n",
       "      <td>Summer</td>\n",
       "      <td>1.0</td>\n",
       "      <td>NaN</td>\n",
       "      <td>NaN</td>\n",
       "      <td>NaN</td>\n",
       "    </tr>\n",
       "    <tr>\n",
       "      <th>1</th>\n",
       "      <td>038441c925bb</td>\n",
       "      <td>1</td>\n",
       "      <td>2018-08-14 19:30:05+00:00</td>\n",
       "      <td>2.636800</td>\n",
       "      <td>0.0215</td>\n",
       "      <td>2018-08-14</td>\n",
       "      <td>19:30:05</td>\n",
       "      <td>onset</td>\n",
       "      <td>2018-08-14</td>\n",
       "      <td>Summer</td>\n",
       "      <td>1.0</td>\n",
       "      <td>NaN</td>\n",
       "      <td>NaN</td>\n",
       "      <td>NaN</td>\n",
       "    </tr>\n",
       "    <tr>\n",
       "      <th>2</th>\n",
       "      <td>038441c925bb</td>\n",
       "      <td>2</td>\n",
       "      <td>2018-08-14 19:30:10+00:00</td>\n",
       "      <td>2.637000</td>\n",
       "      <td>0.0216</td>\n",
       "      <td>2018-08-14</td>\n",
       "      <td>19:30:10</td>\n",
       "      <td>onset</td>\n",
       "      <td>2018-08-14</td>\n",
       "      <td>Summer</td>\n",
       "      <td>1.0</td>\n",
       "      <td>NaN</td>\n",
       "      <td>NaN</td>\n",
       "      <td>NaN</td>\n",
       "    </tr>\n",
       "    <tr>\n",
       "      <th>3</th>\n",
       "      <td>038441c925bb</td>\n",
       "      <td>3</td>\n",
       "      <td>2018-08-14 19:30:15+00:00</td>\n",
       "      <td>2.636800</td>\n",
       "      <td>0.0213</td>\n",
       "      <td>2018-08-14</td>\n",
       "      <td>19:30:15</td>\n",
       "      <td>onset</td>\n",
       "      <td>2018-08-14</td>\n",
       "      <td>Summer</td>\n",
       "      <td>1.0</td>\n",
       "      <td>NaN</td>\n",
       "      <td>NaN</td>\n",
       "      <td>NaN</td>\n",
       "    </tr>\n",
       "    <tr>\n",
       "      <th>4</th>\n",
       "      <td>038441c925bb</td>\n",
       "      <td>4</td>\n",
       "      <td>2018-08-14 19:30:20+00:00</td>\n",
       "      <td>2.636800</td>\n",
       "      <td>0.0215</td>\n",
       "      <td>2018-08-14</td>\n",
       "      <td>19:30:20</td>\n",
       "      <td>onset</td>\n",
       "      <td>2018-08-14</td>\n",
       "      <td>Summer</td>\n",
       "      <td>1.0</td>\n",
       "      <td>NaN</td>\n",
       "      <td>NaN</td>\n",
       "      <td>NaN</td>\n",
       "    </tr>\n",
       "    <tr>\n",
       "      <th>5</th>\n",
       "      <td>038441c925bb</td>\n",
       "      <td>5</td>\n",
       "      <td>2018-08-14 19:30:25+00:00</td>\n",
       "      <td>2.636700</td>\n",
       "      <td>0.0217</td>\n",
       "      <td>2018-08-14</td>\n",
       "      <td>19:30:25</td>\n",
       "      <td>onset</td>\n",
       "      <td>2018-08-14</td>\n",
       "      <td>Summer</td>\n",
       "      <td>1.0</td>\n",
       "      <td>NaN</td>\n",
       "      <td>NaN</td>\n",
       "      <td>NaN</td>\n",
       "    </tr>\n",
       "    <tr>\n",
       "      <th>6</th>\n",
       "      <td>038441c925bb</td>\n",
       "      <td>6</td>\n",
       "      <td>2018-08-14 19:30:30+00:00</td>\n",
       "      <td>2.636700</td>\n",
       "      <td>0.0217</td>\n",
       "      <td>2018-08-14</td>\n",
       "      <td>19:30:30</td>\n",
       "      <td>onset</td>\n",
       "      <td>2018-08-14</td>\n",
       "      <td>Summer</td>\n",
       "      <td>1.0</td>\n",
       "      <td>NaN</td>\n",
       "      <td>NaN</td>\n",
       "      <td>NaN</td>\n",
       "    </tr>\n",
       "    <tr>\n",
       "      <th>7</th>\n",
       "      <td>038441c925bb</td>\n",
       "      <td>7</td>\n",
       "      <td>2018-08-14 19:30:35+00:00</td>\n",
       "      <td>2.636700</td>\n",
       "      <td>0.0218</td>\n",
       "      <td>2018-08-14</td>\n",
       "      <td>19:30:35</td>\n",
       "      <td>onset</td>\n",
       "      <td>2018-08-14</td>\n",
       "      <td>Summer</td>\n",
       "      <td>1.0</td>\n",
       "      <td>NaN</td>\n",
       "      <td>NaN</td>\n",
       "      <td>NaN</td>\n",
       "    </tr>\n",
       "    <tr>\n",
       "      <th>8</th>\n",
       "      <td>038441c925bb</td>\n",
       "      <td>8</td>\n",
       "      <td>2018-08-14 19:30:40+00:00</td>\n",
       "      <td>2.798000</td>\n",
       "      <td>0.0223</td>\n",
       "      <td>2018-08-14</td>\n",
       "      <td>19:30:40</td>\n",
       "      <td>onset</td>\n",
       "      <td>2018-08-14</td>\n",
       "      <td>Summer</td>\n",
       "      <td>1.0</td>\n",
       "      <td>NaN</td>\n",
       "      <td>NaN</td>\n",
       "      <td>NaN</td>\n",
       "    </tr>\n",
       "    <tr>\n",
       "      <th>9</th>\n",
       "      <td>038441c925bb</td>\n",
       "      <td>9</td>\n",
       "      <td>2018-08-14 19:30:45+00:00</td>\n",
       "      <td>3.084700</td>\n",
       "      <td>0.0217</td>\n",
       "      <td>2018-08-14</td>\n",
       "      <td>19:30:45</td>\n",
       "      <td>onset</td>\n",
       "      <td>2018-08-14</td>\n",
       "      <td>Summer</td>\n",
       "      <td>1.0</td>\n",
       "      <td>NaN</td>\n",
       "      <td>NaN</td>\n",
       "      <td>NaN</td>\n",
       "    </tr>\n",
       "    <tr>\n",
       "      <th>10</th>\n",
       "      <td>038441c925bb</td>\n",
       "      <td>10</td>\n",
       "      <td>2018-08-14 19:30:50+00:00</td>\n",
       "      <td>2.780200</td>\n",
       "      <td>0.0229</td>\n",
       "      <td>2018-08-14</td>\n",
       "      <td>19:30:50</td>\n",
       "      <td>onset</td>\n",
       "      <td>2018-08-14</td>\n",
       "      <td>Summer</td>\n",
       "      <td>1.0</td>\n",
       "      <td>NaN</td>\n",
       "      <td>NaN</td>\n",
       "      <td>NaN</td>\n",
       "    </tr>\n",
       "    <tr>\n",
       "      <th>11</th>\n",
       "      <td>038441c925bb</td>\n",
       "      <td>11</td>\n",
       "      <td>2018-08-14 19:30:55+00:00</td>\n",
       "      <td>2.520500</td>\n",
       "      <td>0.0216</td>\n",
       "      <td>2018-08-14</td>\n",
       "      <td>19:30:55</td>\n",
       "      <td>onset</td>\n",
       "      <td>2018-08-14</td>\n",
       "      <td>Summer</td>\n",
       "      <td>1.0</td>\n",
       "      <td>NaN</td>\n",
       "      <td>NaN</td>\n",
       "      <td>NaN</td>\n",
       "    </tr>\n",
       "    <tr>\n",
       "      <th>12</th>\n",
       "      <td>038441c925bb</td>\n",
       "      <td>12</td>\n",
       "      <td>2018-08-14 19:31:00+00:00</td>\n",
       "      <td>2.412900</td>\n",
       "      <td>0.0218</td>\n",
       "      <td>2018-08-14</td>\n",
       "      <td>19:31:00</td>\n",
       "      <td>onset</td>\n",
       "      <td>2018-08-14</td>\n",
       "      <td>Summer</td>\n",
       "      <td>1.0</td>\n",
       "      <td>NaN</td>\n",
       "      <td>NaN</td>\n",
       "      <td>NaN</td>\n",
       "    </tr>\n",
       "    <tr>\n",
       "      <th>13</th>\n",
       "      <td>038441c925bb</td>\n",
       "      <td>13</td>\n",
       "      <td>2018-08-14 19:31:05+00:00</td>\n",
       "      <td>2.412900</td>\n",
       "      <td>0.0214</td>\n",
       "      <td>2018-08-14</td>\n",
       "      <td>19:31:05</td>\n",
       "      <td>onset</td>\n",
       "      <td>2018-08-14</td>\n",
       "      <td>Summer</td>\n",
       "      <td>1.0</td>\n",
       "      <td>NaN</td>\n",
       "      <td>NaN</td>\n",
       "      <td>NaN</td>\n",
       "    </tr>\n",
       "    <tr>\n",
       "      <th>14</th>\n",
       "      <td>038441c925bb</td>\n",
       "      <td>14</td>\n",
       "      <td>2018-08-14 19:31:10+00:00</td>\n",
       "      <td>2.412900</td>\n",
       "      <td>0.0214</td>\n",
       "      <td>2018-08-14</td>\n",
       "      <td>19:31:10</td>\n",
       "      <td>onset</td>\n",
       "      <td>2018-08-14</td>\n",
       "      <td>Summer</td>\n",
       "      <td>1.0</td>\n",
       "      <td>NaN</td>\n",
       "      <td>NaN</td>\n",
       "      <td>NaN</td>\n",
       "    </tr>\n",
       "    <tr>\n",
       "      <th>15</th>\n",
       "      <td>038441c925bb</td>\n",
       "      <td>15</td>\n",
       "      <td>2018-08-14 19:31:15+00:00</td>\n",
       "      <td>2.412900</td>\n",
       "      <td>0.0214</td>\n",
       "      <td>2018-08-14</td>\n",
       "      <td>19:31:15</td>\n",
       "      <td>onset</td>\n",
       "      <td>2018-08-14</td>\n",
       "      <td>Summer</td>\n",
       "      <td>1.0</td>\n",
       "      <td>NaN</td>\n",
       "      <td>NaN</td>\n",
       "      <td>NaN</td>\n",
       "    </tr>\n",
       "    <tr>\n",
       "      <th>16</th>\n",
       "      <td>038441c925bb</td>\n",
       "      <td>16</td>\n",
       "      <td>2018-08-14 19:31:20+00:00</td>\n",
       "      <td>2.412900</td>\n",
       "      <td>0.0215</td>\n",
       "      <td>2018-08-14</td>\n",
       "      <td>19:31:20</td>\n",
       "      <td>onset</td>\n",
       "      <td>2018-08-14</td>\n",
       "      <td>Summer</td>\n",
       "      <td>1.0</td>\n",
       "      <td>NaN</td>\n",
       "      <td>NaN</td>\n",
       "      <td>NaN</td>\n",
       "    </tr>\n",
       "    <tr>\n",
       "      <th>17</th>\n",
       "      <td>038441c925bb</td>\n",
       "      <td>17</td>\n",
       "      <td>2018-08-14 19:31:25+00:00</td>\n",
       "      <td>2.413200</td>\n",
       "      <td>0.0217</td>\n",
       "      <td>2018-08-14</td>\n",
       "      <td>19:31:25</td>\n",
       "      <td>onset</td>\n",
       "      <td>2018-08-14</td>\n",
       "      <td>Summer</td>\n",
       "      <td>1.0</td>\n",
       "      <td>NaN</td>\n",
       "      <td>NaN</td>\n",
       "      <td>NaN</td>\n",
       "    </tr>\n",
       "    <tr>\n",
       "      <th>18</th>\n",
       "      <td>038441c925bb</td>\n",
       "      <td>18</td>\n",
       "      <td>2018-08-14 19:31:30+00:00</td>\n",
       "      <td>49.874401</td>\n",
       "      <td>0.0395</td>\n",
       "      <td>2018-08-14</td>\n",
       "      <td>19:31:30</td>\n",
       "      <td>onset</td>\n",
       "      <td>2018-08-14</td>\n",
       "      <td>Summer</td>\n",
       "      <td>1.0</td>\n",
       "      <td>NaN</td>\n",
       "      <td>NaN</td>\n",
       "      <td>NaN</td>\n",
       "    </tr>\n",
       "    <tr>\n",
       "      <th>19</th>\n",
       "      <td>038441c925bb</td>\n",
       "      <td>19</td>\n",
       "      <td>2018-08-14 19:31:35+00:00</td>\n",
       "      <td>54.849800</td>\n",
       "      <td>0.0166</td>\n",
       "      <td>2018-08-14</td>\n",
       "      <td>19:31:35</td>\n",
       "      <td>onset</td>\n",
       "      <td>2018-08-14</td>\n",
       "      <td>Summer</td>\n",
       "      <td>1.0</td>\n",
       "      <td>NaN</td>\n",
       "      <td>NaN</td>\n",
       "      <td>NaN</td>\n",
       "    </tr>\n",
       "    <tr>\n",
       "      <th>20</th>\n",
       "      <td>038441c925bb</td>\n",
       "      <td>20</td>\n",
       "      <td>2018-08-14 19:31:40+00:00</td>\n",
       "      <td>44.099300</td>\n",
       "      <td>0.0170</td>\n",
       "      <td>2018-08-14</td>\n",
       "      <td>19:31:40</td>\n",
       "      <td>onset</td>\n",
       "      <td>2018-08-14</td>\n",
       "      <td>Summer</td>\n",
       "      <td>1.0</td>\n",
       "      <td>NaN</td>\n",
       "      <td>NaN</td>\n",
       "      <td>NaN</td>\n",
       "    </tr>\n",
       "    <tr>\n",
       "      <th>21</th>\n",
       "      <td>038441c925bb</td>\n",
       "      <td>21</td>\n",
       "      <td>2018-08-14 19:31:45+00:00</td>\n",
       "      <td>67.381302</td>\n",
       "      <td>0.0102</td>\n",
       "      <td>2018-08-14</td>\n",
       "      <td>19:31:45</td>\n",
       "      <td>onset</td>\n",
       "      <td>2018-08-14</td>\n",
       "      <td>Summer</td>\n",
       "      <td>1.0</td>\n",
       "      <td>NaN</td>\n",
       "      <td>NaN</td>\n",
       "      <td>NaN</td>\n",
       "    </tr>\n",
       "    <tr>\n",
       "      <th>22</th>\n",
       "      <td>038441c925bb</td>\n",
       "      <td>22</td>\n",
       "      <td>2018-08-14 19:31:50+00:00</td>\n",
       "      <td>68.460503</td>\n",
       "      <td>0.0238</td>\n",
       "      <td>2018-08-14</td>\n",
       "      <td>19:31:50</td>\n",
       "      <td>onset</td>\n",
       "      <td>2018-08-14</td>\n",
       "      <td>Summer</td>\n",
       "      <td>1.0</td>\n",
       "      <td>NaN</td>\n",
       "      <td>NaN</td>\n",
       "      <td>NaN</td>\n",
       "    </tr>\n",
       "    <tr>\n",
       "      <th>23</th>\n",
       "      <td>038441c925bb</td>\n",
       "      <td>23</td>\n",
       "      <td>2018-08-14 19:31:55+00:00</td>\n",
       "      <td>37.721901</td>\n",
       "      <td>0.0070</td>\n",
       "      <td>2018-08-14</td>\n",
       "      <td>19:31:55</td>\n",
       "      <td>onset</td>\n",
       "      <td>2018-08-14</td>\n",
       "      <td>Summer</td>\n",
       "      <td>1.0</td>\n",
       "      <td>NaN</td>\n",
       "      <td>NaN</td>\n",
       "      <td>NaN</td>\n",
       "    </tr>\n",
       "    <tr>\n",
       "      <th>24</th>\n",
       "      <td>038441c925bb</td>\n",
       "      <td>24</td>\n",
       "      <td>2018-08-14 19:32:00+00:00</td>\n",
       "      <td>30.002501</td>\n",
       "      <td>0.0082</td>\n",
       "      <td>2018-08-14</td>\n",
       "      <td>19:32:00</td>\n",
       "      <td>onset</td>\n",
       "      <td>2018-08-14</td>\n",
       "      <td>Summer</td>\n",
       "      <td>1.0</td>\n",
       "      <td>NaN</td>\n",
       "      <td>NaN</td>\n",
       "      <td>NaN</td>\n",
       "    </tr>\n",
       "  </tbody>\n",
       "</table>\n",
       "</div>"
      ],
      "text/plain": [
       "       series_id  step                 timestamp     anglez    enmo  \\\n",
       "0   038441c925bb     0 2018-08-14 19:30:00+00:00   2.636700  0.0217   \n",
       "1   038441c925bb     1 2018-08-14 19:30:05+00:00   2.636800  0.0215   \n",
       "2   038441c925bb     2 2018-08-14 19:30:10+00:00   2.637000  0.0216   \n",
       "3   038441c925bb     3 2018-08-14 19:30:15+00:00   2.636800  0.0213   \n",
       "4   038441c925bb     4 2018-08-14 19:30:20+00:00   2.636800  0.0215   \n",
       "5   038441c925bb     5 2018-08-14 19:30:25+00:00   2.636700  0.0217   \n",
       "6   038441c925bb     6 2018-08-14 19:30:30+00:00   2.636700  0.0217   \n",
       "7   038441c925bb     7 2018-08-14 19:30:35+00:00   2.636700  0.0218   \n",
       "8   038441c925bb     8 2018-08-14 19:30:40+00:00   2.798000  0.0223   \n",
       "9   038441c925bb     9 2018-08-14 19:30:45+00:00   3.084700  0.0217   \n",
       "10  038441c925bb    10 2018-08-14 19:30:50+00:00   2.780200  0.0229   \n",
       "11  038441c925bb    11 2018-08-14 19:30:55+00:00   2.520500  0.0216   \n",
       "12  038441c925bb    12 2018-08-14 19:31:00+00:00   2.412900  0.0218   \n",
       "13  038441c925bb    13 2018-08-14 19:31:05+00:00   2.412900  0.0214   \n",
       "14  038441c925bb    14 2018-08-14 19:31:10+00:00   2.412900  0.0214   \n",
       "15  038441c925bb    15 2018-08-14 19:31:15+00:00   2.412900  0.0214   \n",
       "16  038441c925bb    16 2018-08-14 19:31:20+00:00   2.412900  0.0215   \n",
       "17  038441c925bb    17 2018-08-14 19:31:25+00:00   2.413200  0.0217   \n",
       "18  038441c925bb    18 2018-08-14 19:31:30+00:00  49.874401  0.0395   \n",
       "19  038441c925bb    19 2018-08-14 19:31:35+00:00  54.849800  0.0166   \n",
       "20  038441c925bb    20 2018-08-14 19:31:40+00:00  44.099300  0.0170   \n",
       "21  038441c925bb    21 2018-08-14 19:31:45+00:00  67.381302  0.0102   \n",
       "22  038441c925bb    22 2018-08-14 19:31:50+00:00  68.460503  0.0238   \n",
       "23  038441c925bb    23 2018-08-14 19:31:55+00:00  37.721901  0.0070   \n",
       "24  038441c925bb    24 2018-08-14 19:32:00+00:00  30.002501  0.0082   \n",
       "\n",
       "          Date      Time  event    NewDate  Season  Summer  Autumn  Spring  \\\n",
       "0   2018-08-14  19:30:00  onset 2018-08-14  Summer     1.0     NaN     NaN   \n",
       "1   2018-08-14  19:30:05  onset 2018-08-14  Summer     1.0     NaN     NaN   \n",
       "2   2018-08-14  19:30:10  onset 2018-08-14  Summer     1.0     NaN     NaN   \n",
       "3   2018-08-14  19:30:15  onset 2018-08-14  Summer     1.0     NaN     NaN   \n",
       "4   2018-08-14  19:30:20  onset 2018-08-14  Summer     1.0     NaN     NaN   \n",
       "5   2018-08-14  19:30:25  onset 2018-08-14  Summer     1.0     NaN     NaN   \n",
       "6   2018-08-14  19:30:30  onset 2018-08-14  Summer     1.0     NaN     NaN   \n",
       "7   2018-08-14  19:30:35  onset 2018-08-14  Summer     1.0     NaN     NaN   \n",
       "8   2018-08-14  19:30:40  onset 2018-08-14  Summer     1.0     NaN     NaN   \n",
       "9   2018-08-14  19:30:45  onset 2018-08-14  Summer     1.0     NaN     NaN   \n",
       "10  2018-08-14  19:30:50  onset 2018-08-14  Summer     1.0     NaN     NaN   \n",
       "11  2018-08-14  19:30:55  onset 2018-08-14  Summer     1.0     NaN     NaN   \n",
       "12  2018-08-14  19:31:00  onset 2018-08-14  Summer     1.0     NaN     NaN   \n",
       "13  2018-08-14  19:31:05  onset 2018-08-14  Summer     1.0     NaN     NaN   \n",
       "14  2018-08-14  19:31:10  onset 2018-08-14  Summer     1.0     NaN     NaN   \n",
       "15  2018-08-14  19:31:15  onset 2018-08-14  Summer     1.0     NaN     NaN   \n",
       "16  2018-08-14  19:31:20  onset 2018-08-14  Summer     1.0     NaN     NaN   \n",
       "17  2018-08-14  19:31:25  onset 2018-08-14  Summer     1.0     NaN     NaN   \n",
       "18  2018-08-14  19:31:30  onset 2018-08-14  Summer     1.0     NaN     NaN   \n",
       "19  2018-08-14  19:31:35  onset 2018-08-14  Summer     1.0     NaN     NaN   \n",
       "20  2018-08-14  19:31:40  onset 2018-08-14  Summer     1.0     NaN     NaN   \n",
       "21  2018-08-14  19:31:45  onset 2018-08-14  Summer     1.0     NaN     NaN   \n",
       "22  2018-08-14  19:31:50  onset 2018-08-14  Summer     1.0     NaN     NaN   \n",
       "23  2018-08-14  19:31:55  onset 2018-08-14  Summer     1.0     NaN     NaN   \n",
       "24  2018-08-14  19:32:00  onset 2018-08-14  Summer     1.0     NaN     NaN   \n",
       "\n",
       "    Winter  \n",
       "0      NaN  \n",
       "1      NaN  \n",
       "2      NaN  \n",
       "3      NaN  \n",
       "4      NaN  \n",
       "5      NaN  \n",
       "6      NaN  \n",
       "7      NaN  \n",
       "8      NaN  \n",
       "9      NaN  \n",
       "10     NaN  \n",
       "11     NaN  \n",
       "12     NaN  \n",
       "13     NaN  \n",
       "14     NaN  \n",
       "15     NaN  \n",
       "16     NaN  \n",
       "17     NaN  \n",
       "18     NaN  \n",
       "19     NaN  \n",
       "20     NaN  \n",
       "21     NaN  \n",
       "22     NaN  \n",
       "23     NaN  \n",
       "24     NaN  "
      ]
     },
     "execution_count": 53,
     "metadata": {},
     "output_type": "execute_result"
    }
   ],
   "source": [
    "cropedTrainSeriesData.head(25)"
   ]
  },
  {
   "cell_type": "markdown",
   "id": "9d1aae8d",
   "metadata": {
    "papermill": {
     "duration": 0.025356,
     "end_time": "2023-12-03T21:07:28.303470",
     "exception": false,
     "start_time": "2023-12-03T21:07:28.278114",
     "status": "completed"
    },
    "tags": []
   },
   "source": [
    "### Use MinMaxScaler\n"
   ]
  },
  {
   "cell_type": "code",
   "execution_count": 54,
   "id": "75b6e7c8",
   "metadata": {
    "execution": {
     "iopub.execute_input": "2023-12-03T21:07:28.356131Z",
     "iopub.status.busy": "2023-12-03T21:07:28.355745Z",
     "iopub.status.idle": "2023-12-03T21:07:28.369253Z",
     "shell.execute_reply": "2023-12-03T21:07:28.367882Z"
    },
    "papermill": {
     "duration": 0.042661,
     "end_time": "2023-12-03T21:07:28.371490",
     "exception": false,
     "start_time": "2023-12-03T21:07:28.328829",
     "status": "completed"
    },
    "tags": []
   },
   "outputs": [],
   "source": [
    "# Create MinMaxScaler for anglez\n",
    "anglezScaler = MinMaxScaler()\n",
    "\n",
    "# Fit and transform the selected column\n",
    "anglezCombained=pd.concat([cropedTrainSeriesData['anglez'], test_series_DF['anglez']])\n",
    "anglezScaler.fit(anglezCombained.values.reshape(-1, 1))\n",
    "cropedTrainSeriesData['anglezScaled']=anglezScaler.transform(cropedTrainSeriesData['anglez'].values.reshape(-1, 1))"
   ]
  },
  {
   "cell_type": "code",
   "execution_count": 55,
   "id": "6e7c0e7f",
   "metadata": {
    "execution": {
     "iopub.execute_input": "2023-12-03T21:07:28.423803Z",
     "iopub.status.busy": "2023-12-03T21:07:28.423482Z",
     "iopub.status.idle": "2023-12-03T21:07:28.444220Z",
     "shell.execute_reply": "2023-12-03T21:07:28.442344Z"
    },
    "papermill": {
     "duration": 0.049881,
     "end_time": "2023-12-03T21:07:28.446806",
     "exception": false,
     "start_time": "2023-12-03T21:07:28.396925",
     "status": "completed"
    },
    "tags": []
   },
   "outputs": [
    {
     "data": {
      "text/html": [
       "<div>\n",
       "<style scoped>\n",
       "    .dataframe tbody tr th:only-of-type {\n",
       "        vertical-align: middle;\n",
       "    }\n",
       "\n",
       "    .dataframe tbody tr th {\n",
       "        vertical-align: top;\n",
       "    }\n",
       "\n",
       "    .dataframe thead th {\n",
       "        text-align: right;\n",
       "    }\n",
       "</style>\n",
       "<table border=\"1\" class=\"dataframe\">\n",
       "  <thead>\n",
       "    <tr style=\"text-align: right;\">\n",
       "      <th></th>\n",
       "      <th>series_id</th>\n",
       "      <th>step</th>\n",
       "      <th>timestamp</th>\n",
       "      <th>anglez</th>\n",
       "      <th>enmo</th>\n",
       "      <th>Date</th>\n",
       "      <th>Time</th>\n",
       "      <th>event</th>\n",
       "      <th>NewDate</th>\n",
       "      <th>Season</th>\n",
       "      <th>Summer</th>\n",
       "      <th>Autumn</th>\n",
       "      <th>Spring</th>\n",
       "      <th>Winter</th>\n",
       "      <th>anglezScaled</th>\n",
       "    </tr>\n",
       "  </thead>\n",
       "  <tbody>\n",
       "    <tr>\n",
       "      <th>0</th>\n",
       "      <td>038441c925bb</td>\n",
       "      <td>0</td>\n",
       "      <td>2018-08-14 19:30:00+00:00</td>\n",
       "      <td>2.6367</td>\n",
       "      <td>0.0217</td>\n",
       "      <td>2018-08-14</td>\n",
       "      <td>19:30:00</td>\n",
       "      <td>onset</td>\n",
       "      <td>2018-08-14</td>\n",
       "      <td>Summer</td>\n",
       "      <td>1.0</td>\n",
       "      <td>NaN</td>\n",
       "      <td>NaN</td>\n",
       "      <td>NaN</td>\n",
       "      <td>0.517288</td>\n",
       "    </tr>\n",
       "    <tr>\n",
       "      <th>1</th>\n",
       "      <td>038441c925bb</td>\n",
       "      <td>1</td>\n",
       "      <td>2018-08-14 19:30:05+00:00</td>\n",
       "      <td>2.6368</td>\n",
       "      <td>0.0215</td>\n",
       "      <td>2018-08-14</td>\n",
       "      <td>19:30:05</td>\n",
       "      <td>onset</td>\n",
       "      <td>2018-08-14</td>\n",
       "      <td>Summer</td>\n",
       "      <td>1.0</td>\n",
       "      <td>NaN</td>\n",
       "      <td>NaN</td>\n",
       "      <td>NaN</td>\n",
       "      <td>0.517289</td>\n",
       "    </tr>\n",
       "    <tr>\n",
       "      <th>2</th>\n",
       "      <td>038441c925bb</td>\n",
       "      <td>2</td>\n",
       "      <td>2018-08-14 19:30:10+00:00</td>\n",
       "      <td>2.6370</td>\n",
       "      <td>0.0216</td>\n",
       "      <td>2018-08-14</td>\n",
       "      <td>19:30:10</td>\n",
       "      <td>onset</td>\n",
       "      <td>2018-08-14</td>\n",
       "      <td>Summer</td>\n",
       "      <td>1.0</td>\n",
       "      <td>NaN</td>\n",
       "      <td>NaN</td>\n",
       "      <td>NaN</td>\n",
       "      <td>0.517290</td>\n",
       "    </tr>\n",
       "    <tr>\n",
       "      <th>3</th>\n",
       "      <td>038441c925bb</td>\n",
       "      <td>3</td>\n",
       "      <td>2018-08-14 19:30:15+00:00</td>\n",
       "      <td>2.6368</td>\n",
       "      <td>0.0213</td>\n",
       "      <td>2018-08-14</td>\n",
       "      <td>19:30:15</td>\n",
       "      <td>onset</td>\n",
       "      <td>2018-08-14</td>\n",
       "      <td>Summer</td>\n",
       "      <td>1.0</td>\n",
       "      <td>NaN</td>\n",
       "      <td>NaN</td>\n",
       "      <td>NaN</td>\n",
       "      <td>0.517289</td>\n",
       "    </tr>\n",
       "    <tr>\n",
       "      <th>4</th>\n",
       "      <td>038441c925bb</td>\n",
       "      <td>4</td>\n",
       "      <td>2018-08-14 19:30:20+00:00</td>\n",
       "      <td>2.6368</td>\n",
       "      <td>0.0215</td>\n",
       "      <td>2018-08-14</td>\n",
       "      <td>19:30:20</td>\n",
       "      <td>onset</td>\n",
       "      <td>2018-08-14</td>\n",
       "      <td>Summer</td>\n",
       "      <td>1.0</td>\n",
       "      <td>NaN</td>\n",
       "      <td>NaN</td>\n",
       "      <td>NaN</td>\n",
       "      <td>0.517289</td>\n",
       "    </tr>\n",
       "  </tbody>\n",
       "</table>\n",
       "</div>"
      ],
      "text/plain": [
       "      series_id  step                 timestamp  anglez    enmo        Date  \\\n",
       "0  038441c925bb     0 2018-08-14 19:30:00+00:00  2.6367  0.0217  2018-08-14   \n",
       "1  038441c925bb     1 2018-08-14 19:30:05+00:00  2.6368  0.0215  2018-08-14   \n",
       "2  038441c925bb     2 2018-08-14 19:30:10+00:00  2.6370  0.0216  2018-08-14   \n",
       "3  038441c925bb     3 2018-08-14 19:30:15+00:00  2.6368  0.0213  2018-08-14   \n",
       "4  038441c925bb     4 2018-08-14 19:30:20+00:00  2.6368  0.0215  2018-08-14   \n",
       "\n",
       "       Time  event    NewDate  Season  Summer  Autumn  Spring  Winter  \\\n",
       "0  19:30:00  onset 2018-08-14  Summer     1.0     NaN     NaN     NaN   \n",
       "1  19:30:05  onset 2018-08-14  Summer     1.0     NaN     NaN     NaN   \n",
       "2  19:30:10  onset 2018-08-14  Summer     1.0     NaN     NaN     NaN   \n",
       "3  19:30:15  onset 2018-08-14  Summer     1.0     NaN     NaN     NaN   \n",
       "4  19:30:20  onset 2018-08-14  Summer     1.0     NaN     NaN     NaN   \n",
       "\n",
       "   anglezScaled  \n",
       "0      0.517288  \n",
       "1      0.517289  \n",
       "2      0.517290  \n",
       "3      0.517289  \n",
       "4      0.517289  "
      ]
     },
     "execution_count": 55,
     "metadata": {},
     "output_type": "execute_result"
    }
   ],
   "source": [
    "cropedTrainSeriesData.head()\n"
   ]
  },
  {
   "cell_type": "code",
   "execution_count": 56,
   "id": "62fadfff",
   "metadata": {
    "execution": {
     "iopub.execute_input": "2023-12-03T21:07:28.500451Z",
     "iopub.status.busy": "2023-12-03T21:07:28.499915Z",
     "iopub.status.idle": "2023-12-03T21:07:28.511148Z",
     "shell.execute_reply": "2023-12-03T21:07:28.509772Z"
    },
    "papermill": {
     "duration": 0.041146,
     "end_time": "2023-12-03T21:07:28.513690",
     "exception": false,
     "start_time": "2023-12-03T21:07:28.472544",
     "status": "completed"
    },
    "tags": []
   },
   "outputs": [],
   "source": [
    "# Create MinMaxScaler for enmo\n",
    "enmoScaler = MinMaxScaler()\n",
    "\n",
    "# Fit and transform the selected column\n",
    "enmoCombained=pd.concat([cropedTrainSeriesData['enmo'], test_series_DF['enmo']])\n",
    "enmoScaler.fit(anglezCombained.values.reshape(-1, 1))\n",
    "cropedTrainSeriesData['enmoScaled']=anglezScaler.transform(cropedTrainSeriesData['enmo'].values.reshape(-1, 1))"
   ]
  },
  {
   "cell_type": "code",
   "execution_count": 57,
   "id": "9bf3da07",
   "metadata": {
    "execution": {
     "iopub.execute_input": "2023-12-03T21:07:28.568885Z",
     "iopub.status.busy": "2023-12-03T21:07:28.568286Z",
     "iopub.status.idle": "2023-12-03T21:07:28.585524Z",
     "shell.execute_reply": "2023-12-03T21:07:28.584559Z"
    },
    "papermill": {
     "duration": 0.046928,
     "end_time": "2023-12-03T21:07:28.588073",
     "exception": false,
     "start_time": "2023-12-03T21:07:28.541145",
     "status": "completed"
    },
    "tags": []
   },
   "outputs": [
    {
     "data": {
      "text/html": [
       "<div>\n",
       "<style scoped>\n",
       "    .dataframe tbody tr th:only-of-type {\n",
       "        vertical-align: middle;\n",
       "    }\n",
       "\n",
       "    .dataframe tbody tr th {\n",
       "        vertical-align: top;\n",
       "    }\n",
       "\n",
       "    .dataframe thead th {\n",
       "        text-align: right;\n",
       "    }\n",
       "</style>\n",
       "<table border=\"1\" class=\"dataframe\">\n",
       "  <thead>\n",
       "    <tr style=\"text-align: right;\">\n",
       "      <th></th>\n",
       "      <th>series_id</th>\n",
       "      <th>step</th>\n",
       "      <th>timestamp</th>\n",
       "      <th>anglez</th>\n",
       "      <th>enmo</th>\n",
       "      <th>Date</th>\n",
       "      <th>Time</th>\n",
       "      <th>event</th>\n",
       "      <th>NewDate</th>\n",
       "      <th>Season</th>\n",
       "      <th>Summer</th>\n",
       "      <th>Autumn</th>\n",
       "      <th>Spring</th>\n",
       "      <th>Winter</th>\n",
       "      <th>anglezScaled</th>\n",
       "      <th>enmoScaled</th>\n",
       "    </tr>\n",
       "  </thead>\n",
       "  <tbody>\n",
       "    <tr>\n",
       "      <th>0</th>\n",
       "      <td>038441c925bb</td>\n",
       "      <td>0</td>\n",
       "      <td>2018-08-14 19:30:00+00:00</td>\n",
       "      <td>2.6367</td>\n",
       "      <td>0.0217</td>\n",
       "      <td>2018-08-14</td>\n",
       "      <td>19:30:00</td>\n",
       "      <td>onset</td>\n",
       "      <td>2018-08-14</td>\n",
       "      <td>Summer</td>\n",
       "      <td>1.0</td>\n",
       "      <td>NaN</td>\n",
       "      <td>NaN</td>\n",
       "      <td>NaN</td>\n",
       "      <td>0.517288</td>\n",
       "      <td>0.502686</td>\n",
       "    </tr>\n",
       "    <tr>\n",
       "      <th>1</th>\n",
       "      <td>038441c925bb</td>\n",
       "      <td>1</td>\n",
       "      <td>2018-08-14 19:30:05+00:00</td>\n",
       "      <td>2.6368</td>\n",
       "      <td>0.0215</td>\n",
       "      <td>2018-08-14</td>\n",
       "      <td>19:30:05</td>\n",
       "      <td>onset</td>\n",
       "      <td>2018-08-14</td>\n",
       "      <td>Summer</td>\n",
       "      <td>1.0</td>\n",
       "      <td>NaN</td>\n",
       "      <td>NaN</td>\n",
       "      <td>NaN</td>\n",
       "      <td>0.517289</td>\n",
       "      <td>0.502685</td>\n",
       "    </tr>\n",
       "    <tr>\n",
       "      <th>2</th>\n",
       "      <td>038441c925bb</td>\n",
       "      <td>2</td>\n",
       "      <td>2018-08-14 19:30:10+00:00</td>\n",
       "      <td>2.6370</td>\n",
       "      <td>0.0216</td>\n",
       "      <td>2018-08-14</td>\n",
       "      <td>19:30:10</td>\n",
       "      <td>onset</td>\n",
       "      <td>2018-08-14</td>\n",
       "      <td>Summer</td>\n",
       "      <td>1.0</td>\n",
       "      <td>NaN</td>\n",
       "      <td>NaN</td>\n",
       "      <td>NaN</td>\n",
       "      <td>0.517290</td>\n",
       "      <td>0.502685</td>\n",
       "    </tr>\n",
       "    <tr>\n",
       "      <th>3</th>\n",
       "      <td>038441c925bb</td>\n",
       "      <td>3</td>\n",
       "      <td>2018-08-14 19:30:15+00:00</td>\n",
       "      <td>2.6368</td>\n",
       "      <td>0.0213</td>\n",
       "      <td>2018-08-14</td>\n",
       "      <td>19:30:15</td>\n",
       "      <td>onset</td>\n",
       "      <td>2018-08-14</td>\n",
       "      <td>Summer</td>\n",
       "      <td>1.0</td>\n",
       "      <td>NaN</td>\n",
       "      <td>NaN</td>\n",
       "      <td>NaN</td>\n",
       "      <td>0.517289</td>\n",
       "      <td>0.502684</td>\n",
       "    </tr>\n",
       "    <tr>\n",
       "      <th>4</th>\n",
       "      <td>038441c925bb</td>\n",
       "      <td>4</td>\n",
       "      <td>2018-08-14 19:30:20+00:00</td>\n",
       "      <td>2.6368</td>\n",
       "      <td>0.0215</td>\n",
       "      <td>2018-08-14</td>\n",
       "      <td>19:30:20</td>\n",
       "      <td>onset</td>\n",
       "      <td>2018-08-14</td>\n",
       "      <td>Summer</td>\n",
       "      <td>1.0</td>\n",
       "      <td>NaN</td>\n",
       "      <td>NaN</td>\n",
       "      <td>NaN</td>\n",
       "      <td>0.517289</td>\n",
       "      <td>0.502685</td>\n",
       "    </tr>\n",
       "  </tbody>\n",
       "</table>\n",
       "</div>"
      ],
      "text/plain": [
       "      series_id  step                 timestamp  anglez    enmo        Date  \\\n",
       "0  038441c925bb     0 2018-08-14 19:30:00+00:00  2.6367  0.0217  2018-08-14   \n",
       "1  038441c925bb     1 2018-08-14 19:30:05+00:00  2.6368  0.0215  2018-08-14   \n",
       "2  038441c925bb     2 2018-08-14 19:30:10+00:00  2.6370  0.0216  2018-08-14   \n",
       "3  038441c925bb     3 2018-08-14 19:30:15+00:00  2.6368  0.0213  2018-08-14   \n",
       "4  038441c925bb     4 2018-08-14 19:30:20+00:00  2.6368  0.0215  2018-08-14   \n",
       "\n",
       "       Time  event    NewDate  Season  Summer  Autumn  Spring  Winter  \\\n",
       "0  19:30:00  onset 2018-08-14  Summer     1.0     NaN     NaN     NaN   \n",
       "1  19:30:05  onset 2018-08-14  Summer     1.0     NaN     NaN     NaN   \n",
       "2  19:30:10  onset 2018-08-14  Summer     1.0     NaN     NaN     NaN   \n",
       "3  19:30:15  onset 2018-08-14  Summer     1.0     NaN     NaN     NaN   \n",
       "4  19:30:20  onset 2018-08-14  Summer     1.0     NaN     NaN     NaN   \n",
       "\n",
       "   anglezScaled  enmoScaled  \n",
       "0      0.517288    0.502686  \n",
       "1      0.517289    0.502685  \n",
       "2      0.517290    0.502685  \n",
       "3      0.517289    0.502684  \n",
       "4      0.517289    0.502685  "
      ]
     },
     "execution_count": 57,
     "metadata": {},
     "output_type": "execute_result"
    }
   ],
   "source": [
    "cropedTrainSeriesData.head()\n"
   ]
  },
  {
   "cell_type": "code",
   "execution_count": 58,
   "id": "3be6cbdf",
   "metadata": {
    "execution": {
     "iopub.execute_input": "2023-12-03T21:07:28.643289Z",
     "iopub.status.busy": "2023-12-03T21:07:28.642939Z",
     "iopub.status.idle": "2023-12-03T21:07:29.179935Z",
     "shell.execute_reply": "2023-12-03T21:07:29.178166Z"
    },
    "papermill": {
     "duration": 0.567405,
     "end_time": "2023-12-03T21:07:29.182648",
     "exception": false,
     "start_time": "2023-12-03T21:07:28.615243",
     "status": "completed"
    },
    "tags": []
   },
   "outputs": [],
   "source": [
    "cropedTrainSeriesData['Date'] = pd.to_datetime(cropedTrainSeriesData['Date'])\n",
    "\n",
    "# Add a new column 'weekday' to the DataFrame\n",
    "cropedTrainSeriesData['weekday'] = cropedTrainSeriesData['Date'].dt.dayofweek\n",
    "\n",
    "# Map the weekdays to 1 and weekends to 0\n",
    "cropedTrainSeriesData['weekday'] = cropedTrainSeriesData['weekday'].apply(lambda x: 1 if x < 5 else 0)\n",
    "\n"
   ]
  },
  {
   "cell_type": "code",
   "execution_count": 59,
   "id": "d392742b",
   "metadata": {
    "execution": {
     "iopub.execute_input": "2023-12-03T21:07:29.239152Z",
     "iopub.status.busy": "2023-12-03T21:07:29.238516Z",
     "iopub.status.idle": "2023-12-03T21:07:29.260637Z",
     "shell.execute_reply": "2023-12-03T21:07:29.259043Z"
    },
    "papermill": {
     "duration": 0.052863,
     "end_time": "2023-12-03T21:07:29.262665",
     "exception": false,
     "start_time": "2023-12-03T21:07:29.209802",
     "status": "completed"
    },
    "tags": []
   },
   "outputs": [
    {
     "data": {
      "text/html": [
       "<div>\n",
       "<style scoped>\n",
       "    .dataframe tbody tr th:only-of-type {\n",
       "        vertical-align: middle;\n",
       "    }\n",
       "\n",
       "    .dataframe tbody tr th {\n",
       "        vertical-align: top;\n",
       "    }\n",
       "\n",
       "    .dataframe thead th {\n",
       "        text-align: right;\n",
       "    }\n",
       "</style>\n",
       "<table border=\"1\" class=\"dataframe\">\n",
       "  <thead>\n",
       "    <tr style=\"text-align: right;\">\n",
       "      <th></th>\n",
       "      <th>series_id</th>\n",
       "      <th>step</th>\n",
       "      <th>timestamp</th>\n",
       "      <th>anglez</th>\n",
       "      <th>enmo</th>\n",
       "      <th>Date</th>\n",
       "      <th>Time</th>\n",
       "      <th>event</th>\n",
       "      <th>NewDate</th>\n",
       "      <th>Season</th>\n",
       "      <th>Summer</th>\n",
       "      <th>Autumn</th>\n",
       "      <th>Spring</th>\n",
       "      <th>Winter</th>\n",
       "      <th>anglezScaled</th>\n",
       "      <th>enmoScaled</th>\n",
       "      <th>weekday</th>\n",
       "    </tr>\n",
       "  </thead>\n",
       "  <tbody>\n",
       "    <tr>\n",
       "      <th>0</th>\n",
       "      <td>038441c925bb</td>\n",
       "      <td>0</td>\n",
       "      <td>2018-08-14 19:30:00+00:00</td>\n",
       "      <td>2.6367</td>\n",
       "      <td>0.0217</td>\n",
       "      <td>2018-08-14</td>\n",
       "      <td>19:30:00</td>\n",
       "      <td>onset</td>\n",
       "      <td>2018-08-14</td>\n",
       "      <td>Summer</td>\n",
       "      <td>1.0</td>\n",
       "      <td>NaN</td>\n",
       "      <td>NaN</td>\n",
       "      <td>NaN</td>\n",
       "      <td>0.517288</td>\n",
       "      <td>0.502686</td>\n",
       "      <td>1</td>\n",
       "    </tr>\n",
       "    <tr>\n",
       "      <th>1</th>\n",
       "      <td>038441c925bb</td>\n",
       "      <td>1</td>\n",
       "      <td>2018-08-14 19:30:05+00:00</td>\n",
       "      <td>2.6368</td>\n",
       "      <td>0.0215</td>\n",
       "      <td>2018-08-14</td>\n",
       "      <td>19:30:05</td>\n",
       "      <td>onset</td>\n",
       "      <td>2018-08-14</td>\n",
       "      <td>Summer</td>\n",
       "      <td>1.0</td>\n",
       "      <td>NaN</td>\n",
       "      <td>NaN</td>\n",
       "      <td>NaN</td>\n",
       "      <td>0.517289</td>\n",
       "      <td>0.502685</td>\n",
       "      <td>1</td>\n",
       "    </tr>\n",
       "    <tr>\n",
       "      <th>2</th>\n",
       "      <td>038441c925bb</td>\n",
       "      <td>2</td>\n",
       "      <td>2018-08-14 19:30:10+00:00</td>\n",
       "      <td>2.6370</td>\n",
       "      <td>0.0216</td>\n",
       "      <td>2018-08-14</td>\n",
       "      <td>19:30:10</td>\n",
       "      <td>onset</td>\n",
       "      <td>2018-08-14</td>\n",
       "      <td>Summer</td>\n",
       "      <td>1.0</td>\n",
       "      <td>NaN</td>\n",
       "      <td>NaN</td>\n",
       "      <td>NaN</td>\n",
       "      <td>0.517290</td>\n",
       "      <td>0.502685</td>\n",
       "      <td>1</td>\n",
       "    </tr>\n",
       "    <tr>\n",
       "      <th>3</th>\n",
       "      <td>038441c925bb</td>\n",
       "      <td>3</td>\n",
       "      <td>2018-08-14 19:30:15+00:00</td>\n",
       "      <td>2.6368</td>\n",
       "      <td>0.0213</td>\n",
       "      <td>2018-08-14</td>\n",
       "      <td>19:30:15</td>\n",
       "      <td>onset</td>\n",
       "      <td>2018-08-14</td>\n",
       "      <td>Summer</td>\n",
       "      <td>1.0</td>\n",
       "      <td>NaN</td>\n",
       "      <td>NaN</td>\n",
       "      <td>NaN</td>\n",
       "      <td>0.517289</td>\n",
       "      <td>0.502684</td>\n",
       "      <td>1</td>\n",
       "    </tr>\n",
       "    <tr>\n",
       "      <th>4</th>\n",
       "      <td>038441c925bb</td>\n",
       "      <td>4</td>\n",
       "      <td>2018-08-14 19:30:20+00:00</td>\n",
       "      <td>2.6368</td>\n",
       "      <td>0.0215</td>\n",
       "      <td>2018-08-14</td>\n",
       "      <td>19:30:20</td>\n",
       "      <td>onset</td>\n",
       "      <td>2018-08-14</td>\n",
       "      <td>Summer</td>\n",
       "      <td>1.0</td>\n",
       "      <td>NaN</td>\n",
       "      <td>NaN</td>\n",
       "      <td>NaN</td>\n",
       "      <td>0.517289</td>\n",
       "      <td>0.502685</td>\n",
       "      <td>1</td>\n",
       "    </tr>\n",
       "    <tr>\n",
       "      <th>5</th>\n",
       "      <td>038441c925bb</td>\n",
       "      <td>5</td>\n",
       "      <td>2018-08-14 19:30:25+00:00</td>\n",
       "      <td>2.6367</td>\n",
       "      <td>0.0217</td>\n",
       "      <td>2018-08-14</td>\n",
       "      <td>19:30:25</td>\n",
       "      <td>onset</td>\n",
       "      <td>2018-08-14</td>\n",
       "      <td>Summer</td>\n",
       "      <td>1.0</td>\n",
       "      <td>NaN</td>\n",
       "      <td>NaN</td>\n",
       "      <td>NaN</td>\n",
       "      <td>0.517288</td>\n",
       "      <td>0.502686</td>\n",
       "      <td>1</td>\n",
       "    </tr>\n",
       "    <tr>\n",
       "      <th>6</th>\n",
       "      <td>038441c925bb</td>\n",
       "      <td>6</td>\n",
       "      <td>2018-08-14 19:30:30+00:00</td>\n",
       "      <td>2.6367</td>\n",
       "      <td>0.0217</td>\n",
       "      <td>2018-08-14</td>\n",
       "      <td>19:30:30</td>\n",
       "      <td>onset</td>\n",
       "      <td>2018-08-14</td>\n",
       "      <td>Summer</td>\n",
       "      <td>1.0</td>\n",
       "      <td>NaN</td>\n",
       "      <td>NaN</td>\n",
       "      <td>NaN</td>\n",
       "      <td>0.517288</td>\n",
       "      <td>0.502686</td>\n",
       "      <td>1</td>\n",
       "    </tr>\n",
       "    <tr>\n",
       "      <th>7</th>\n",
       "      <td>038441c925bb</td>\n",
       "      <td>7</td>\n",
       "      <td>2018-08-14 19:30:35+00:00</td>\n",
       "      <td>2.6367</td>\n",
       "      <td>0.0218</td>\n",
       "      <td>2018-08-14</td>\n",
       "      <td>19:30:35</td>\n",
       "      <td>onset</td>\n",
       "      <td>2018-08-14</td>\n",
       "      <td>Summer</td>\n",
       "      <td>1.0</td>\n",
       "      <td>NaN</td>\n",
       "      <td>NaN</td>\n",
       "      <td>NaN</td>\n",
       "      <td>0.517288</td>\n",
       "      <td>0.502687</td>\n",
       "      <td>1</td>\n",
       "    </tr>\n",
       "    <tr>\n",
       "      <th>8</th>\n",
       "      <td>038441c925bb</td>\n",
       "      <td>8</td>\n",
       "      <td>2018-08-14 19:30:40+00:00</td>\n",
       "      <td>2.7980</td>\n",
       "      <td>0.0223</td>\n",
       "      <td>2018-08-14</td>\n",
       "      <td>19:30:40</td>\n",
       "      <td>onset</td>\n",
       "      <td>2018-08-14</td>\n",
       "      <td>Summer</td>\n",
       "      <td>1.0</td>\n",
       "      <td>NaN</td>\n",
       "      <td>NaN</td>\n",
       "      <td>NaN</td>\n",
       "      <td>0.518189</td>\n",
       "      <td>0.502689</td>\n",
       "      <td>1</td>\n",
       "    </tr>\n",
       "    <tr>\n",
       "      <th>9</th>\n",
       "      <td>038441c925bb</td>\n",
       "      <td>9</td>\n",
       "      <td>2018-08-14 19:30:45+00:00</td>\n",
       "      <td>3.0847</td>\n",
       "      <td>0.0217</td>\n",
       "      <td>2018-08-14</td>\n",
       "      <td>19:30:45</td>\n",
       "      <td>onset</td>\n",
       "      <td>2018-08-14</td>\n",
       "      <td>Summer</td>\n",
       "      <td>1.0</td>\n",
       "      <td>NaN</td>\n",
       "      <td>NaN</td>\n",
       "      <td>NaN</td>\n",
       "      <td>0.519790</td>\n",
       "      <td>0.502686</td>\n",
       "      <td>1</td>\n",
       "    </tr>\n",
       "  </tbody>\n",
       "</table>\n",
       "</div>"
      ],
      "text/plain": [
       "      series_id  step                 timestamp  anglez    enmo       Date  \\\n",
       "0  038441c925bb     0 2018-08-14 19:30:00+00:00  2.6367  0.0217 2018-08-14   \n",
       "1  038441c925bb     1 2018-08-14 19:30:05+00:00  2.6368  0.0215 2018-08-14   \n",
       "2  038441c925bb     2 2018-08-14 19:30:10+00:00  2.6370  0.0216 2018-08-14   \n",
       "3  038441c925bb     3 2018-08-14 19:30:15+00:00  2.6368  0.0213 2018-08-14   \n",
       "4  038441c925bb     4 2018-08-14 19:30:20+00:00  2.6368  0.0215 2018-08-14   \n",
       "5  038441c925bb     5 2018-08-14 19:30:25+00:00  2.6367  0.0217 2018-08-14   \n",
       "6  038441c925bb     6 2018-08-14 19:30:30+00:00  2.6367  0.0217 2018-08-14   \n",
       "7  038441c925bb     7 2018-08-14 19:30:35+00:00  2.6367  0.0218 2018-08-14   \n",
       "8  038441c925bb     8 2018-08-14 19:30:40+00:00  2.7980  0.0223 2018-08-14   \n",
       "9  038441c925bb     9 2018-08-14 19:30:45+00:00  3.0847  0.0217 2018-08-14   \n",
       "\n",
       "       Time  event    NewDate  Season  Summer  Autumn  Spring  Winter  \\\n",
       "0  19:30:00  onset 2018-08-14  Summer     1.0     NaN     NaN     NaN   \n",
       "1  19:30:05  onset 2018-08-14  Summer     1.0     NaN     NaN     NaN   \n",
       "2  19:30:10  onset 2018-08-14  Summer     1.0     NaN     NaN     NaN   \n",
       "3  19:30:15  onset 2018-08-14  Summer     1.0     NaN     NaN     NaN   \n",
       "4  19:30:20  onset 2018-08-14  Summer     1.0     NaN     NaN     NaN   \n",
       "5  19:30:25  onset 2018-08-14  Summer     1.0     NaN     NaN     NaN   \n",
       "6  19:30:30  onset 2018-08-14  Summer     1.0     NaN     NaN     NaN   \n",
       "7  19:30:35  onset 2018-08-14  Summer     1.0     NaN     NaN     NaN   \n",
       "8  19:30:40  onset 2018-08-14  Summer     1.0     NaN     NaN     NaN   \n",
       "9  19:30:45  onset 2018-08-14  Summer     1.0     NaN     NaN     NaN   \n",
       "\n",
       "   anglezScaled  enmoScaled  weekday  \n",
       "0      0.517288    0.502686        1  \n",
       "1      0.517289    0.502685        1  \n",
       "2      0.517290    0.502685        1  \n",
       "3      0.517289    0.502684        1  \n",
       "4      0.517289    0.502685        1  \n",
       "5      0.517288    0.502686        1  \n",
       "6      0.517288    0.502686        1  \n",
       "7      0.517288    0.502687        1  \n",
       "8      0.518189    0.502689        1  \n",
       "9      0.519790    0.502686        1  "
      ]
     },
     "execution_count": 59,
     "metadata": {},
     "output_type": "execute_result"
    }
   ],
   "source": [
    "cropedTrainSeriesData.head(10)"
   ]
  },
  {
   "cell_type": "markdown",
   "id": "07f3aa6d",
   "metadata": {
    "papermill": {
     "duration": 0.026345,
     "end_time": "2023-12-03T21:07:29.315516",
     "exception": false,
     "start_time": "2023-12-03T21:07:29.289171",
     "status": "completed"
    },
    "tags": []
   },
   "source": [
    "#### Create feature for time sin and cos"
   ]
  },
  {
   "cell_type": "code",
   "execution_count": 60,
   "id": "52beef96",
   "metadata": {
    "execution": {
     "iopub.execute_input": "2023-12-03T21:07:29.370364Z",
     "iopub.status.busy": "2023-12-03T21:07:29.369609Z",
     "iopub.status.idle": "2023-12-03T21:07:32.859293Z",
     "shell.execute_reply": "2023-12-03T21:07:32.858156Z"
    },
    "papermill": {
     "duration": 3.520123,
     "end_time": "2023-12-03T21:07:32.861607",
     "exception": false,
     "start_time": "2023-12-03T21:07:29.341484",
     "status": "completed"
    },
    "tags": []
   },
   "outputs": [],
   "source": [
    "cropedTrainSeriesData['Time'] = pd.to_datetime(cropedTrainSeriesData['Time'], format='%H:%M:%S')"
   ]
  },
  {
   "cell_type": "code",
   "execution_count": 61,
   "id": "16667920",
   "metadata": {
    "execution": {
     "iopub.execute_input": "2023-12-03T21:07:32.913395Z",
     "iopub.status.busy": "2023-12-03T21:07:32.912911Z",
     "iopub.status.idle": "2023-12-03T21:10:14.497457Z",
     "shell.execute_reply": "2023-12-03T21:10:14.496158Z"
    },
    "papermill": {
     "duration": 161.613617,
     "end_time": "2023-12-03T21:10:14.500125",
     "exception": false,
     "start_time": "2023-12-03T21:07:32.886508",
     "status": "completed"
    },
    "tags": []
   },
   "outputs": [
    {
     "data": {
      "application/vnd.jupyter.widget-view+json": {
       "model_id": "052b4da729b84f94bc9b63a841269875",
       "version_major": 2,
       "version_minor": 0
      },
      "text/plain": [
       "Processing time features:   0%|          | 0/1279463 [00:00<?, ?it/s]"
      ]
     },
     "metadata": {},
     "output_type": "display_data"
    }
   ],
   "source": [
    "\n",
    "#Extracting total seconds since midnight as a single feature\n",
    "cropedTrainSeriesData['time_in_seconds'] = cropedTrainSeriesData['Time'].dt.hour * 3600 + cropedTrainSeriesData['Time'].dt.minute * 60 + cropedTrainSeriesData['Time'].dt.second\n",
    "\n",
    "# Create empty columns for sin and cos\n",
    "cropedTrainSeriesData['sin_time'] = np.nan\n",
    "cropedTrainSeriesData['cos_time'] = np.nan\n",
    "\n",
    "# Use tqdm to show a progress bar\n",
    "for index, row in tqdm(cropedTrainSeriesData.iterrows(), total=cropedTrainSeriesData.shape[0], desc=\"Processing time features\"):\n",
    "    cropedTrainSeriesData.at[index, 'sin_time'] = np.sin(2 * np.pi * row['time_in_seconds'] / 86400)\n",
    "    cropedTrainSeriesData.at[index, 'cos_time'] = np.cos(2 * np.pi * row['time_in_seconds'] / 86400)"
   ]
  },
  {
   "cell_type": "code",
   "execution_count": 62,
   "id": "eff9047f",
   "metadata": {
    "execution": {
     "iopub.execute_input": "2023-12-03T21:10:14.553401Z",
     "iopub.status.busy": "2023-12-03T21:10:14.553029Z",
     "iopub.status.idle": "2023-12-03T21:10:14.576650Z",
     "shell.execute_reply": "2023-12-03T21:10:14.575252Z"
    },
    "papermill": {
     "duration": 0.053208,
     "end_time": "2023-12-03T21:10:14.579486",
     "exception": false,
     "start_time": "2023-12-03T21:10:14.526278",
     "status": "completed"
    },
    "tags": []
   },
   "outputs": [
    {
     "data": {
      "text/html": [
       "<div>\n",
       "<style scoped>\n",
       "    .dataframe tbody tr th:only-of-type {\n",
       "        vertical-align: middle;\n",
       "    }\n",
       "\n",
       "    .dataframe tbody tr th {\n",
       "        vertical-align: top;\n",
       "    }\n",
       "\n",
       "    .dataframe thead th {\n",
       "        text-align: right;\n",
       "    }\n",
       "</style>\n",
       "<table border=\"1\" class=\"dataframe\">\n",
       "  <thead>\n",
       "    <tr style=\"text-align: right;\">\n",
       "      <th></th>\n",
       "      <th>series_id</th>\n",
       "      <th>step</th>\n",
       "      <th>timestamp</th>\n",
       "      <th>anglez</th>\n",
       "      <th>enmo</th>\n",
       "      <th>Date</th>\n",
       "      <th>Time</th>\n",
       "      <th>event</th>\n",
       "      <th>NewDate</th>\n",
       "      <th>Season</th>\n",
       "      <th>Summer</th>\n",
       "      <th>Autumn</th>\n",
       "      <th>Spring</th>\n",
       "      <th>Winter</th>\n",
       "      <th>anglezScaled</th>\n",
       "      <th>enmoScaled</th>\n",
       "      <th>weekday</th>\n",
       "      <th>time_in_seconds</th>\n",
       "      <th>sin_time</th>\n",
       "      <th>cos_time</th>\n",
       "    </tr>\n",
       "  </thead>\n",
       "  <tbody>\n",
       "    <tr>\n",
       "      <th>0</th>\n",
       "      <td>038441c925bb</td>\n",
       "      <td>0</td>\n",
       "      <td>2018-08-14 19:30:00+00:00</td>\n",
       "      <td>2.6367</td>\n",
       "      <td>0.0217</td>\n",
       "      <td>2018-08-14</td>\n",
       "      <td>1900-01-01 19:30:00</td>\n",
       "      <td>onset</td>\n",
       "      <td>2018-08-14</td>\n",
       "      <td>Summer</td>\n",
       "      <td>1.0</td>\n",
       "      <td>NaN</td>\n",
       "      <td>NaN</td>\n",
       "      <td>NaN</td>\n",
       "      <td>0.517288</td>\n",
       "      <td>0.502686</td>\n",
       "      <td>1</td>\n",
       "      <td>70200</td>\n",
       "      <td>-0.923880</td>\n",
       "      <td>0.382683</td>\n",
       "    </tr>\n",
       "    <tr>\n",
       "      <th>1</th>\n",
       "      <td>038441c925bb</td>\n",
       "      <td>1</td>\n",
       "      <td>2018-08-14 19:30:05+00:00</td>\n",
       "      <td>2.6368</td>\n",
       "      <td>0.0215</td>\n",
       "      <td>2018-08-14</td>\n",
       "      <td>1900-01-01 19:30:05</td>\n",
       "      <td>onset</td>\n",
       "      <td>2018-08-14</td>\n",
       "      <td>Summer</td>\n",
       "      <td>1.0</td>\n",
       "      <td>NaN</td>\n",
       "      <td>NaN</td>\n",
       "      <td>NaN</td>\n",
       "      <td>0.517289</td>\n",
       "      <td>0.502685</td>\n",
       "      <td>1</td>\n",
       "      <td>70205</td>\n",
       "      <td>-0.923740</td>\n",
       "      <td>0.383019</td>\n",
       "    </tr>\n",
       "    <tr>\n",
       "      <th>2</th>\n",
       "      <td>038441c925bb</td>\n",
       "      <td>2</td>\n",
       "      <td>2018-08-14 19:30:10+00:00</td>\n",
       "      <td>2.6370</td>\n",
       "      <td>0.0216</td>\n",
       "      <td>2018-08-14</td>\n",
       "      <td>1900-01-01 19:30:10</td>\n",
       "      <td>onset</td>\n",
       "      <td>2018-08-14</td>\n",
       "      <td>Summer</td>\n",
       "      <td>1.0</td>\n",
       "      <td>NaN</td>\n",
       "      <td>NaN</td>\n",
       "      <td>NaN</td>\n",
       "      <td>0.517290</td>\n",
       "      <td>0.502685</td>\n",
       "      <td>1</td>\n",
       "      <td>70210</td>\n",
       "      <td>-0.923601</td>\n",
       "      <td>0.383355</td>\n",
       "    </tr>\n",
       "    <tr>\n",
       "      <th>3</th>\n",
       "      <td>038441c925bb</td>\n",
       "      <td>3</td>\n",
       "      <td>2018-08-14 19:30:15+00:00</td>\n",
       "      <td>2.6368</td>\n",
       "      <td>0.0213</td>\n",
       "      <td>2018-08-14</td>\n",
       "      <td>1900-01-01 19:30:15</td>\n",
       "      <td>onset</td>\n",
       "      <td>2018-08-14</td>\n",
       "      <td>Summer</td>\n",
       "      <td>1.0</td>\n",
       "      <td>NaN</td>\n",
       "      <td>NaN</td>\n",
       "      <td>NaN</td>\n",
       "      <td>0.517289</td>\n",
       "      <td>0.502684</td>\n",
       "      <td>1</td>\n",
       "      <td>70215</td>\n",
       "      <td>-0.923462</td>\n",
       "      <td>0.383691</td>\n",
       "    </tr>\n",
       "    <tr>\n",
       "      <th>4</th>\n",
       "      <td>038441c925bb</td>\n",
       "      <td>4</td>\n",
       "      <td>2018-08-14 19:30:20+00:00</td>\n",
       "      <td>2.6368</td>\n",
       "      <td>0.0215</td>\n",
       "      <td>2018-08-14</td>\n",
       "      <td>1900-01-01 19:30:20</td>\n",
       "      <td>onset</td>\n",
       "      <td>2018-08-14</td>\n",
       "      <td>Summer</td>\n",
       "      <td>1.0</td>\n",
       "      <td>NaN</td>\n",
       "      <td>NaN</td>\n",
       "      <td>NaN</td>\n",
       "      <td>0.517289</td>\n",
       "      <td>0.502685</td>\n",
       "      <td>1</td>\n",
       "      <td>70220</td>\n",
       "      <td>-0.923322</td>\n",
       "      <td>0.384027</td>\n",
       "    </tr>\n",
       "  </tbody>\n",
       "</table>\n",
       "</div>"
      ],
      "text/plain": [
       "      series_id  step                 timestamp  anglez    enmo       Date  \\\n",
       "0  038441c925bb     0 2018-08-14 19:30:00+00:00  2.6367  0.0217 2018-08-14   \n",
       "1  038441c925bb     1 2018-08-14 19:30:05+00:00  2.6368  0.0215 2018-08-14   \n",
       "2  038441c925bb     2 2018-08-14 19:30:10+00:00  2.6370  0.0216 2018-08-14   \n",
       "3  038441c925bb     3 2018-08-14 19:30:15+00:00  2.6368  0.0213 2018-08-14   \n",
       "4  038441c925bb     4 2018-08-14 19:30:20+00:00  2.6368  0.0215 2018-08-14   \n",
       "\n",
       "                 Time  event    NewDate  Season  Summer  Autumn  Spring  \\\n",
       "0 1900-01-01 19:30:00  onset 2018-08-14  Summer     1.0     NaN     NaN   \n",
       "1 1900-01-01 19:30:05  onset 2018-08-14  Summer     1.0     NaN     NaN   \n",
       "2 1900-01-01 19:30:10  onset 2018-08-14  Summer     1.0     NaN     NaN   \n",
       "3 1900-01-01 19:30:15  onset 2018-08-14  Summer     1.0     NaN     NaN   \n",
       "4 1900-01-01 19:30:20  onset 2018-08-14  Summer     1.0     NaN     NaN   \n",
       "\n",
       "   Winter  anglezScaled  enmoScaled  weekday  time_in_seconds  sin_time  \\\n",
       "0     NaN      0.517288    0.502686        1            70200 -0.923880   \n",
       "1     NaN      0.517289    0.502685        1            70205 -0.923740   \n",
       "2     NaN      0.517290    0.502685        1            70210 -0.923601   \n",
       "3     NaN      0.517289    0.502684        1            70215 -0.923462   \n",
       "4     NaN      0.517289    0.502685        1            70220 -0.923322   \n",
       "\n",
       "   cos_time  \n",
       "0  0.382683  \n",
       "1  0.383019  \n",
       "2  0.383355  \n",
       "3  0.383691  \n",
       "4  0.384027  "
      ]
     },
     "execution_count": 62,
     "metadata": {},
     "output_type": "execute_result"
    }
   ],
   "source": [
    "cropedTrainSeriesData.head()"
   ]
  },
  {
   "cell_type": "code",
   "execution_count": 63,
   "id": "8cb34195",
   "metadata": {
    "execution": {
     "iopub.execute_input": "2023-12-03T21:10:14.635153Z",
     "iopub.status.busy": "2023-12-03T21:10:14.634755Z",
     "iopub.status.idle": "2023-12-03T21:10:14.638586Z",
     "shell.execute_reply": "2023-12-03T21:10:14.637672Z"
    },
    "papermill": {
     "duration": 0.035208,
     "end_time": "2023-12-03T21:10:14.640643",
     "exception": false,
     "start_time": "2023-12-03T21:10:14.605435",
     "status": "completed"
    },
    "tags": []
   },
   "outputs": [],
   "source": [
    "#cropedTrainSeriesData.to_csv('cropedTrainSeries3.csv', index=False)"
   ]
  },
  {
   "cell_type": "markdown",
   "id": "018c84b4",
   "metadata": {
    "papermill": {
     "duration": 0.026321,
     "end_time": "2023-12-03T21:10:14.693390",
     "exception": false,
     "start_time": "2023-12-03T21:10:14.667069",
     "status": "completed"
    },
    "tags": []
   },
   "source": [
    "#### Feature engineering to test_series "
   ]
  },
  {
   "cell_type": "code",
   "execution_count": 64,
   "id": "f7b38b55",
   "metadata": {
    "execution": {
     "iopub.execute_input": "2023-12-03T21:10:14.748389Z",
     "iopub.status.busy": "2023-12-03T21:10:14.747977Z",
     "iopub.status.idle": "2023-12-03T21:10:15.939406Z",
     "shell.execute_reply": "2023-12-03T21:10:15.937972Z"
    },
    "papermill": {
     "duration": 1.221729,
     "end_time": "2023-12-03T21:10:15.941643",
     "exception": false,
     "start_time": "2023-12-03T21:10:14.719914",
     "status": "completed"
    },
    "tags": []
   },
   "outputs": [
    {
     "data": {
      "text/plain": [
       "38"
      ]
     },
     "execution_count": 64,
     "metadata": {},
     "output_type": "execute_result"
    }
   ],
   "source": [
    "test_series_DF_CP=test_series_DF.copy()\n",
    "del test_series_DF\n",
    "gc.collect()"
   ]
  },
  {
   "cell_type": "code",
   "execution_count": 65,
   "id": "97a741f9",
   "metadata": {
    "execution": {
     "iopub.execute_input": "2023-12-03T21:10:15.999548Z",
     "iopub.status.busy": "2023-12-03T21:10:15.999200Z",
     "iopub.status.idle": "2023-12-03T21:10:16.006743Z",
     "shell.execute_reply": "2023-12-03T21:10:16.005557Z"
    },
    "papermill": {
     "duration": 0.038416,
     "end_time": "2023-12-03T21:10:16.008766",
     "exception": false,
     "start_time": "2023-12-03T21:10:15.970350",
     "status": "completed"
    },
    "tags": []
   },
   "outputs": [
    {
     "data": {
      "text/plain": [
       "(450, 5)"
      ]
     },
     "execution_count": 65,
     "metadata": {},
     "output_type": "execute_result"
    }
   ],
   "source": [
    "test_series_DF_CP.shape"
   ]
  },
  {
   "cell_type": "code",
   "execution_count": 66,
   "id": "3f061b03",
   "metadata": {
    "execution": {
     "iopub.execute_input": "2023-12-03T21:10:16.065281Z",
     "iopub.status.busy": "2023-12-03T21:10:16.064939Z",
     "iopub.status.idle": "2023-12-03T21:10:16.078645Z",
     "shell.execute_reply": "2023-12-03T21:10:16.076805Z"
    },
    "papermill": {
     "duration": 0.045078,
     "end_time": "2023-12-03T21:10:16.081301",
     "exception": false,
     "start_time": "2023-12-03T21:10:16.036223",
     "status": "completed"
    },
    "tags": []
   },
   "outputs": [
    {
     "data": {
      "text/plain": [
       "(450, 7)"
      ]
     },
     "execution_count": 66,
     "metadata": {},
     "output_type": "execute_result"
    }
   ],
   "source": [
    "test_series_DF_CP['timestamp'] = pd.to_datetime(test_series_DF_CP['timestamp'],utc=True)\n",
    "test_series_DF_CP['Date'] = test_series_DF_CP['timestamp'].dt.date\n",
    "test_series_DF_CP['Time'] = test_series_DF_CP['timestamp'].dt.time\n",
    "test_series_DF_CP.shape"
   ]
  },
  {
   "cell_type": "code",
   "execution_count": 67,
   "id": "78aabe9f",
   "metadata": {
    "execution": {
     "iopub.execute_input": "2023-12-03T21:10:16.138659Z",
     "iopub.status.busy": "2023-12-03T21:10:16.138257Z",
     "iopub.status.idle": "2023-12-03T21:10:16.155121Z",
     "shell.execute_reply": "2023-12-03T21:10:16.153900Z"
    },
    "papermill": {
     "duration": 0.049953,
     "end_time": "2023-12-03T21:10:16.158009",
     "exception": false,
     "start_time": "2023-12-03T21:10:16.108056",
     "status": "completed"
    },
    "tags": []
   },
   "outputs": [
    {
     "data": {
      "text/html": [
       "<div>\n",
       "<style scoped>\n",
       "    .dataframe tbody tr th:only-of-type {\n",
       "        vertical-align: middle;\n",
       "    }\n",
       "\n",
       "    .dataframe tbody tr th {\n",
       "        vertical-align: top;\n",
       "    }\n",
       "\n",
       "    .dataframe thead th {\n",
       "        text-align: right;\n",
       "    }\n",
       "</style>\n",
       "<table border=\"1\" class=\"dataframe\">\n",
       "  <thead>\n",
       "    <tr style=\"text-align: right;\">\n",
       "      <th></th>\n",
       "      <th>series_id</th>\n",
       "      <th>step</th>\n",
       "      <th>timestamp</th>\n",
       "      <th>anglez</th>\n",
       "      <th>enmo</th>\n",
       "      <th>Date</th>\n",
       "      <th>Time</th>\n",
       "      <th>NewDate</th>\n",
       "    </tr>\n",
       "  </thead>\n",
       "  <tbody>\n",
       "    <tr>\n",
       "      <th>0</th>\n",
       "      <td>038441c925bb</td>\n",
       "      <td>0</td>\n",
       "      <td>2018-08-14 19:30:00+00:00</td>\n",
       "      <td>2.6367</td>\n",
       "      <td>0.0217</td>\n",
       "      <td>2018-08-14</td>\n",
       "      <td>19:30:00</td>\n",
       "      <td>2018-08-14</td>\n",
       "    </tr>\n",
       "    <tr>\n",
       "      <th>1</th>\n",
       "      <td>038441c925bb</td>\n",
       "      <td>1</td>\n",
       "      <td>2018-08-14 19:30:05+00:00</td>\n",
       "      <td>2.6368</td>\n",
       "      <td>0.0215</td>\n",
       "      <td>2018-08-14</td>\n",
       "      <td>19:30:05</td>\n",
       "      <td>2018-08-14</td>\n",
       "    </tr>\n",
       "    <tr>\n",
       "      <th>2</th>\n",
       "      <td>038441c925bb</td>\n",
       "      <td>2</td>\n",
       "      <td>2018-08-14 19:30:10+00:00</td>\n",
       "      <td>2.6370</td>\n",
       "      <td>0.0216</td>\n",
       "      <td>2018-08-14</td>\n",
       "      <td>19:30:10</td>\n",
       "      <td>2018-08-14</td>\n",
       "    </tr>\n",
       "    <tr>\n",
       "      <th>3</th>\n",
       "      <td>038441c925bb</td>\n",
       "      <td>3</td>\n",
       "      <td>2018-08-14 19:30:15+00:00</td>\n",
       "      <td>2.6368</td>\n",
       "      <td>0.0213</td>\n",
       "      <td>2018-08-14</td>\n",
       "      <td>19:30:15</td>\n",
       "      <td>2018-08-14</td>\n",
       "    </tr>\n",
       "    <tr>\n",
       "      <th>4</th>\n",
       "      <td>038441c925bb</td>\n",
       "      <td>4</td>\n",
       "      <td>2018-08-14 19:30:20+00:00</td>\n",
       "      <td>2.6368</td>\n",
       "      <td>0.0215</td>\n",
       "      <td>2018-08-14</td>\n",
       "      <td>19:30:20</td>\n",
       "      <td>2018-08-14</td>\n",
       "    </tr>\n",
       "  </tbody>\n",
       "</table>\n",
       "</div>"
      ],
      "text/plain": [
       "      series_id  step                 timestamp  anglez    enmo        Date  \\\n",
       "0  038441c925bb     0 2018-08-14 19:30:00+00:00  2.6367  0.0217  2018-08-14   \n",
       "1  038441c925bb     1 2018-08-14 19:30:05+00:00  2.6368  0.0215  2018-08-14   \n",
       "2  038441c925bb     2 2018-08-14 19:30:10+00:00  2.6370  0.0216  2018-08-14   \n",
       "3  038441c925bb     3 2018-08-14 19:30:15+00:00  2.6368  0.0213  2018-08-14   \n",
       "4  038441c925bb     4 2018-08-14 19:30:20+00:00  2.6368  0.0215  2018-08-14   \n",
       "\n",
       "       Time    NewDate  \n",
       "0  19:30:00 2018-08-14  \n",
       "1  19:30:05 2018-08-14  \n",
       "2  19:30:10 2018-08-14  \n",
       "3  19:30:15 2018-08-14  \n",
       "4  19:30:20 2018-08-14  "
      ]
     },
     "execution_count": 67,
     "metadata": {},
     "output_type": "execute_result"
    }
   ],
   "source": [
    "# Convert the 'Date' column to datetime format\n",
    "test_series_DF_CP['NewDate'] = pd.to_datetime(test_series_DF_CP['Date'])\n",
    "\n",
    "test_series_DF_CP.head()"
   ]
  },
  {
   "cell_type": "code",
   "execution_count": 68,
   "id": "e7282569",
   "metadata": {
    "execution": {
     "iopub.execute_input": "2023-12-03T21:10:16.218183Z",
     "iopub.status.busy": "2023-12-03T21:10:16.217210Z",
     "iopub.status.idle": "2023-12-03T21:10:16.380340Z",
     "shell.execute_reply": "2023-12-03T21:10:16.379404Z"
    },
    "papermill": {
     "duration": 0.193925,
     "end_time": "2023-12-03T21:10:16.382643",
     "exception": false,
     "start_time": "2023-12-03T21:10:16.188718",
     "status": "completed"
    },
    "tags": []
   },
   "outputs": [
    {
     "data": {
      "application/vnd.jupyter.widget-view+json": {
       "model_id": "e55cb84f2a6b49b8a6e40694957d621c",
       "version_major": 2,
       "version_minor": 0
      },
      "text/plain": [
       "One-Hot Encoding:   0%|          | 0/450 [00:00<?, ?it/s]"
      ]
     },
     "metadata": {},
     "output_type": "display_data"
    },
    {
     "data": {
      "application/vnd.jupyter.widget-view+json": {
       "model_id": "5e04dc530c264900978de21409407909",
       "version_major": 2,
       "version_minor": 0
      },
      "text/plain": [
       "One-Hot Encoding:   0%|          | 0/450 [00:00<?, ?it/s]"
      ]
     },
     "metadata": {},
     "output_type": "display_data"
    }
   ],
   "source": [
    "# Create a new 'Season' column based on the month of each date\n",
    "test_series_DF_CP['Season'] = test_series_DF_CP['NewDate'].dt.month.progress_map(lambda x: {3: 'Spring', 4: 'Spring', 5: 'Spring',\n",
    "                                                 6: 'Summer', 7: 'Summer', 8: 'Summer',\n",
    "                                                 9: 'Autumn', 10: 'Autumn', 11: 'Autumn',\n",
    "                                                 12: 'Winter', 1: 'Winter', 2: 'Winter'}.get(x))\n",
    "\n",
    "# Use get_dummies to one-hot encode the 'Season' column\n",
    "season_dummiesTest = test_series_DF_CP['Season'].progress_apply(lambda x: pd.Series({x: 1}))\n",
    "test_series_DF_CP = pd.concat([test_series_DF_CP, season_dummiesTest], axis=1)\n"
   ]
  },
  {
   "cell_type": "code",
   "execution_count": 69,
   "id": "b13f3a6b",
   "metadata": {
    "execution": {
     "iopub.execute_input": "2023-12-03T21:10:16.446554Z",
     "iopub.status.busy": "2023-12-03T21:10:16.444920Z",
     "iopub.status.idle": "2023-12-03T21:10:16.462833Z",
     "shell.execute_reply": "2023-12-03T21:10:16.461753Z"
    },
    "papermill": {
     "duration": 0.053316,
     "end_time": "2023-12-03T21:10:16.464706",
     "exception": false,
     "start_time": "2023-12-03T21:10:16.411390",
     "status": "completed"
    },
    "tags": []
   },
   "outputs": [
    {
     "data": {
      "text/html": [
       "<div>\n",
       "<style scoped>\n",
       "    .dataframe tbody tr th:only-of-type {\n",
       "        vertical-align: middle;\n",
       "    }\n",
       "\n",
       "    .dataframe tbody tr th {\n",
       "        vertical-align: top;\n",
       "    }\n",
       "\n",
       "    .dataframe thead th {\n",
       "        text-align: right;\n",
       "    }\n",
       "</style>\n",
       "<table border=\"1\" class=\"dataframe\">\n",
       "  <thead>\n",
       "    <tr style=\"text-align: right;\">\n",
       "      <th></th>\n",
       "      <th>series_id</th>\n",
       "      <th>step</th>\n",
       "      <th>timestamp</th>\n",
       "      <th>anglez</th>\n",
       "      <th>enmo</th>\n",
       "      <th>Date</th>\n",
       "      <th>Time</th>\n",
       "      <th>NewDate</th>\n",
       "      <th>Season</th>\n",
       "      <th>Summer</th>\n",
       "      <th>Spring</th>\n",
       "      <th>Winter</th>\n",
       "    </tr>\n",
       "  </thead>\n",
       "  <tbody>\n",
       "    <tr>\n",
       "      <th>0</th>\n",
       "      <td>038441c925bb</td>\n",
       "      <td>0</td>\n",
       "      <td>2018-08-14 19:30:00+00:00</td>\n",
       "      <td>2.6367</td>\n",
       "      <td>0.0217</td>\n",
       "      <td>2018-08-14</td>\n",
       "      <td>19:30:00</td>\n",
       "      <td>2018-08-14</td>\n",
       "      <td>Summer</td>\n",
       "      <td>1.0</td>\n",
       "      <td>NaN</td>\n",
       "      <td>NaN</td>\n",
       "    </tr>\n",
       "    <tr>\n",
       "      <th>1</th>\n",
       "      <td>038441c925bb</td>\n",
       "      <td>1</td>\n",
       "      <td>2018-08-14 19:30:05+00:00</td>\n",
       "      <td>2.6368</td>\n",
       "      <td>0.0215</td>\n",
       "      <td>2018-08-14</td>\n",
       "      <td>19:30:05</td>\n",
       "      <td>2018-08-14</td>\n",
       "      <td>Summer</td>\n",
       "      <td>1.0</td>\n",
       "      <td>NaN</td>\n",
       "      <td>NaN</td>\n",
       "    </tr>\n",
       "    <tr>\n",
       "      <th>2</th>\n",
       "      <td>038441c925bb</td>\n",
       "      <td>2</td>\n",
       "      <td>2018-08-14 19:30:10+00:00</td>\n",
       "      <td>2.6370</td>\n",
       "      <td>0.0216</td>\n",
       "      <td>2018-08-14</td>\n",
       "      <td>19:30:10</td>\n",
       "      <td>2018-08-14</td>\n",
       "      <td>Summer</td>\n",
       "      <td>1.0</td>\n",
       "      <td>NaN</td>\n",
       "      <td>NaN</td>\n",
       "    </tr>\n",
       "    <tr>\n",
       "      <th>3</th>\n",
       "      <td>038441c925bb</td>\n",
       "      <td>3</td>\n",
       "      <td>2018-08-14 19:30:15+00:00</td>\n",
       "      <td>2.6368</td>\n",
       "      <td>0.0213</td>\n",
       "      <td>2018-08-14</td>\n",
       "      <td>19:30:15</td>\n",
       "      <td>2018-08-14</td>\n",
       "      <td>Summer</td>\n",
       "      <td>1.0</td>\n",
       "      <td>NaN</td>\n",
       "      <td>NaN</td>\n",
       "    </tr>\n",
       "    <tr>\n",
       "      <th>4</th>\n",
       "      <td>038441c925bb</td>\n",
       "      <td>4</td>\n",
       "      <td>2018-08-14 19:30:20+00:00</td>\n",
       "      <td>2.6368</td>\n",
       "      <td>0.0215</td>\n",
       "      <td>2018-08-14</td>\n",
       "      <td>19:30:20</td>\n",
       "      <td>2018-08-14</td>\n",
       "      <td>Summer</td>\n",
       "      <td>1.0</td>\n",
       "      <td>NaN</td>\n",
       "      <td>NaN</td>\n",
       "    </tr>\n",
       "  </tbody>\n",
       "</table>\n",
       "</div>"
      ],
      "text/plain": [
       "      series_id  step                 timestamp  anglez    enmo        Date  \\\n",
       "0  038441c925bb     0 2018-08-14 19:30:00+00:00  2.6367  0.0217  2018-08-14   \n",
       "1  038441c925bb     1 2018-08-14 19:30:05+00:00  2.6368  0.0215  2018-08-14   \n",
       "2  038441c925bb     2 2018-08-14 19:30:10+00:00  2.6370  0.0216  2018-08-14   \n",
       "3  038441c925bb     3 2018-08-14 19:30:15+00:00  2.6368  0.0213  2018-08-14   \n",
       "4  038441c925bb     4 2018-08-14 19:30:20+00:00  2.6368  0.0215  2018-08-14   \n",
       "\n",
       "       Time    NewDate  Season  Summer  Spring  Winter  \n",
       "0  19:30:00 2018-08-14  Summer     1.0     NaN     NaN  \n",
       "1  19:30:05 2018-08-14  Summer     1.0     NaN     NaN  \n",
       "2  19:30:10 2018-08-14  Summer     1.0     NaN     NaN  \n",
       "3  19:30:15 2018-08-14  Summer     1.0     NaN     NaN  \n",
       "4  19:30:20 2018-08-14  Summer     1.0     NaN     NaN  "
      ]
     },
     "execution_count": 69,
     "metadata": {},
     "output_type": "execute_result"
    }
   ],
   "source": [
    "test_series_DF_CP.head()"
   ]
  },
  {
   "cell_type": "code",
   "execution_count": 70,
   "id": "d765a74b",
   "metadata": {
    "execution": {
     "iopub.execute_input": "2023-12-03T21:10:16.522043Z",
     "iopub.status.busy": "2023-12-03T21:10:16.520705Z",
     "iopub.status.idle": "2023-12-03T21:10:16.526604Z",
     "shell.execute_reply": "2023-12-03T21:10:16.525891Z"
    },
    "papermill": {
     "duration": 0.036438,
     "end_time": "2023-12-03T21:10:16.528861",
     "exception": false,
     "start_time": "2023-12-03T21:10:16.492423",
     "status": "completed"
    },
    "tags": []
   },
   "outputs": [],
   "source": [
    "seasons=['Summer','Autumn','Spring','Winter']\n",
    "for season in seasons:\n",
    "    if season not in test_series_DF_CP.columns:\n",
    "        test_series_DF_CP[season]=float('nan')"
   ]
  },
  {
   "cell_type": "code",
   "execution_count": 71,
   "id": "3b4daf77",
   "metadata": {
    "execution": {
     "iopub.execute_input": "2023-12-03T21:10:16.587076Z",
     "iopub.status.busy": "2023-12-03T21:10:16.586381Z",
     "iopub.status.idle": "2023-12-03T21:10:16.594369Z",
     "shell.execute_reply": "2023-12-03T21:10:16.593645Z"
    },
    "papermill": {
     "duration": 0.038834,
     "end_time": "2023-12-03T21:10:16.596531",
     "exception": false,
     "start_time": "2023-12-03T21:10:16.557697",
     "status": "completed"
    },
    "tags": []
   },
   "outputs": [],
   "source": [
    "test_series_DF_CP['Date'] = pd.to_datetime(test_series_DF_CP['Date'])\n",
    "\n",
    "# Add a new column 'weekday' to the DataFrame\n",
    "test_series_DF_CP['weekday'] = test_series_DF_CP['Date'].dt.dayofweek\n",
    "\n",
    "# Map the weekdays to 1 and weekends to 0\n",
    "test_series_DF_CP['weekday'] = test_series_DF_CP['weekday'].apply(lambda x: 1 if x < 5 else 0)\n",
    "\n"
   ]
  },
  {
   "cell_type": "code",
   "execution_count": 72,
   "id": "1f62ae34",
   "metadata": {
    "execution": {
     "iopub.execute_input": "2023-12-03T21:10:16.653635Z",
     "iopub.status.busy": "2023-12-03T21:10:16.653009Z",
     "iopub.status.idle": "2023-12-03T21:10:16.658899Z",
     "shell.execute_reply": "2023-12-03T21:10:16.658189Z"
    },
    "papermill": {
     "duration": 0.036745,
     "end_time": "2023-12-03T21:10:16.660923",
     "exception": false,
     "start_time": "2023-12-03T21:10:16.624178",
     "status": "completed"
    },
    "tags": []
   },
   "outputs": [],
   "source": [
    "test_series_DF_CP['anglezScaled']=anglezScaler.transform(test_series_DF_CP['anglez'].values.reshape(-1, 1))\n",
    "test_series_DF_CP['enmoScaled']=anglezScaler.transform(test_series_DF_CP['enmo'].values.reshape(-1, 1))"
   ]
  },
  {
   "cell_type": "code",
   "execution_count": 73,
   "id": "81bff3ec",
   "metadata": {
    "execution": {
     "iopub.execute_input": "2023-12-03T21:10:16.716816Z",
     "iopub.status.busy": "2023-12-03T21:10:16.716506Z",
     "iopub.status.idle": "2023-12-03T21:10:16.733923Z",
     "shell.execute_reply": "2023-12-03T21:10:16.733204Z"
    },
    "papermill": {
     "duration": 0.04765,
     "end_time": "2023-12-03T21:10:16.735605",
     "exception": false,
     "start_time": "2023-12-03T21:10:16.687955",
     "status": "completed"
    },
    "tags": []
   },
   "outputs": [
    {
     "data": {
      "text/html": [
       "<div>\n",
       "<style scoped>\n",
       "    .dataframe tbody tr th:only-of-type {\n",
       "        vertical-align: middle;\n",
       "    }\n",
       "\n",
       "    .dataframe tbody tr th {\n",
       "        vertical-align: top;\n",
       "    }\n",
       "\n",
       "    .dataframe thead th {\n",
       "        text-align: right;\n",
       "    }\n",
       "</style>\n",
       "<table border=\"1\" class=\"dataframe\">\n",
       "  <thead>\n",
       "    <tr style=\"text-align: right;\">\n",
       "      <th></th>\n",
       "      <th>series_id</th>\n",
       "      <th>step</th>\n",
       "      <th>timestamp</th>\n",
       "      <th>anglez</th>\n",
       "      <th>enmo</th>\n",
       "      <th>Date</th>\n",
       "      <th>Time</th>\n",
       "      <th>NewDate</th>\n",
       "      <th>Season</th>\n",
       "      <th>Summer</th>\n",
       "      <th>Spring</th>\n",
       "      <th>Winter</th>\n",
       "      <th>Autumn</th>\n",
       "      <th>weekday</th>\n",
       "      <th>anglezScaled</th>\n",
       "      <th>enmoScaled</th>\n",
       "    </tr>\n",
       "  </thead>\n",
       "  <tbody>\n",
       "    <tr>\n",
       "      <th>0</th>\n",
       "      <td>038441c925bb</td>\n",
       "      <td>0</td>\n",
       "      <td>2018-08-14 19:30:00+00:00</td>\n",
       "      <td>2.6367</td>\n",
       "      <td>0.0217</td>\n",
       "      <td>2018-08-14</td>\n",
       "      <td>19:30:00</td>\n",
       "      <td>2018-08-14</td>\n",
       "      <td>Summer</td>\n",
       "      <td>1.0</td>\n",
       "      <td>NaN</td>\n",
       "      <td>NaN</td>\n",
       "      <td>NaN</td>\n",
       "      <td>1</td>\n",
       "      <td>0.517288</td>\n",
       "      <td>0.502686</td>\n",
       "    </tr>\n",
       "    <tr>\n",
       "      <th>1</th>\n",
       "      <td>038441c925bb</td>\n",
       "      <td>1</td>\n",
       "      <td>2018-08-14 19:30:05+00:00</td>\n",
       "      <td>2.6368</td>\n",
       "      <td>0.0215</td>\n",
       "      <td>2018-08-14</td>\n",
       "      <td>19:30:05</td>\n",
       "      <td>2018-08-14</td>\n",
       "      <td>Summer</td>\n",
       "      <td>1.0</td>\n",
       "      <td>NaN</td>\n",
       "      <td>NaN</td>\n",
       "      <td>NaN</td>\n",
       "      <td>1</td>\n",
       "      <td>0.517289</td>\n",
       "      <td>0.502685</td>\n",
       "    </tr>\n",
       "    <tr>\n",
       "      <th>2</th>\n",
       "      <td>038441c925bb</td>\n",
       "      <td>2</td>\n",
       "      <td>2018-08-14 19:30:10+00:00</td>\n",
       "      <td>2.6370</td>\n",
       "      <td>0.0216</td>\n",
       "      <td>2018-08-14</td>\n",
       "      <td>19:30:10</td>\n",
       "      <td>2018-08-14</td>\n",
       "      <td>Summer</td>\n",
       "      <td>1.0</td>\n",
       "      <td>NaN</td>\n",
       "      <td>NaN</td>\n",
       "      <td>NaN</td>\n",
       "      <td>1</td>\n",
       "      <td>0.517290</td>\n",
       "      <td>0.502685</td>\n",
       "    </tr>\n",
       "    <tr>\n",
       "      <th>3</th>\n",
       "      <td>038441c925bb</td>\n",
       "      <td>3</td>\n",
       "      <td>2018-08-14 19:30:15+00:00</td>\n",
       "      <td>2.6368</td>\n",
       "      <td>0.0213</td>\n",
       "      <td>2018-08-14</td>\n",
       "      <td>19:30:15</td>\n",
       "      <td>2018-08-14</td>\n",
       "      <td>Summer</td>\n",
       "      <td>1.0</td>\n",
       "      <td>NaN</td>\n",
       "      <td>NaN</td>\n",
       "      <td>NaN</td>\n",
       "      <td>1</td>\n",
       "      <td>0.517289</td>\n",
       "      <td>0.502684</td>\n",
       "    </tr>\n",
       "    <tr>\n",
       "      <th>4</th>\n",
       "      <td>038441c925bb</td>\n",
       "      <td>4</td>\n",
       "      <td>2018-08-14 19:30:20+00:00</td>\n",
       "      <td>2.6368</td>\n",
       "      <td>0.0215</td>\n",
       "      <td>2018-08-14</td>\n",
       "      <td>19:30:20</td>\n",
       "      <td>2018-08-14</td>\n",
       "      <td>Summer</td>\n",
       "      <td>1.0</td>\n",
       "      <td>NaN</td>\n",
       "      <td>NaN</td>\n",
       "      <td>NaN</td>\n",
       "      <td>1</td>\n",
       "      <td>0.517289</td>\n",
       "      <td>0.502685</td>\n",
       "    </tr>\n",
       "  </tbody>\n",
       "</table>\n",
       "</div>"
      ],
      "text/plain": [
       "      series_id  step                 timestamp  anglez    enmo       Date  \\\n",
       "0  038441c925bb     0 2018-08-14 19:30:00+00:00  2.6367  0.0217 2018-08-14   \n",
       "1  038441c925bb     1 2018-08-14 19:30:05+00:00  2.6368  0.0215 2018-08-14   \n",
       "2  038441c925bb     2 2018-08-14 19:30:10+00:00  2.6370  0.0216 2018-08-14   \n",
       "3  038441c925bb     3 2018-08-14 19:30:15+00:00  2.6368  0.0213 2018-08-14   \n",
       "4  038441c925bb     4 2018-08-14 19:30:20+00:00  2.6368  0.0215 2018-08-14   \n",
       "\n",
       "       Time    NewDate  Season  Summer  Spring  Winter  Autumn  weekday  \\\n",
       "0  19:30:00 2018-08-14  Summer     1.0     NaN     NaN     NaN        1   \n",
       "1  19:30:05 2018-08-14  Summer     1.0     NaN     NaN     NaN        1   \n",
       "2  19:30:10 2018-08-14  Summer     1.0     NaN     NaN     NaN        1   \n",
       "3  19:30:15 2018-08-14  Summer     1.0     NaN     NaN     NaN        1   \n",
       "4  19:30:20 2018-08-14  Summer     1.0     NaN     NaN     NaN        1   \n",
       "\n",
       "   anglezScaled  enmoScaled  \n",
       "0      0.517288    0.502686  \n",
       "1      0.517289    0.502685  \n",
       "2      0.517290    0.502685  \n",
       "3      0.517289    0.502684  \n",
       "4      0.517289    0.502685  "
      ]
     },
     "execution_count": 73,
     "metadata": {},
     "output_type": "execute_result"
    }
   ],
   "source": [
    "test_series_DF_CP.head()"
   ]
  },
  {
   "cell_type": "code",
   "execution_count": 74,
   "id": "2db886d2",
   "metadata": {
    "execution": {
     "iopub.execute_input": "2023-12-03T21:10:16.794362Z",
     "iopub.status.busy": "2023-12-03T21:10:16.793528Z",
     "iopub.status.idle": "2023-12-03T21:10:16.807375Z",
     "shell.execute_reply": "2023-12-03T21:10:16.806542Z"
    },
    "papermill": {
     "duration": 0.046,
     "end_time": "2023-12-03T21:10:16.809558",
     "exception": false,
     "start_time": "2023-12-03T21:10:16.763558",
     "status": "completed"
    },
    "tags": []
   },
   "outputs": [],
   "source": [
    "test_series_DF_CP['Time'] = pd.to_datetime(test_series_DF_CP['Time'], format='%H:%M:%S')\n",
    "\n",
    "#Extracting total seconds since midnight as a single feature\n",
    "test_series_DF_CP['time_in_seconds'] = test_series_DF_CP['Time'].dt.hour * 3600 + test_series_DF_CP['Time'].dt.minute * 60 + test_series_DF_CP['Time'].dt.second\n",
    "\n",
    "# Create empty columns for sin and cos\n",
    "test_series_DF_CP['sin_time'] = np.nan\n",
    "test_series_DF_CP['cos_time'] = np.nan\n",
    "\n",
    "# Calculating sin and cos of time_in_seconds\n",
    "test_series_DF_CP['sin_time'] = np.sin(2 * np.pi * test_series_DF_CP['time_in_seconds'] / 86400)  # 86400 seconds in a day\n",
    "test_series_DF_CP['cos_time'] = np.cos(2 * np.pi * test_series_DF_CP['time_in_seconds'] / 86400)"
   ]
  },
  {
   "cell_type": "markdown",
   "id": "b91850b1",
   "metadata": {
    "papermill": {
     "duration": 0.027905,
     "end_time": "2023-12-03T21:10:16.866222",
     "exception": false,
     "start_time": "2023-12-03T21:10:16.838317",
     "status": "completed"
    },
    "tags": []
   },
   "source": [
    "### Model implementation"
   ]
  },
  {
   "cell_type": "code",
   "execution_count": 75,
   "id": "f4702367",
   "metadata": {
    "execution": {
     "iopub.execute_input": "2023-12-03T21:10:16.925429Z",
     "iopub.status.busy": "2023-12-03T21:10:16.924857Z",
     "iopub.status.idle": "2023-12-03T21:10:16.939900Z",
     "shell.execute_reply": "2023-12-03T21:10:16.939225Z"
    },
    "papermill": {
     "duration": 0.045794,
     "end_time": "2023-12-03T21:10:16.941779",
     "exception": false,
     "start_time": "2023-12-03T21:10:16.895985",
     "status": "completed"
    },
    "tags": []
   },
   "outputs": [
    {
     "data": {
      "text/html": [
       "<style>#sk-container-id-1 {color: black;background-color: white;}#sk-container-id-1 pre{padding: 0;}#sk-container-id-1 div.sk-toggleable {background-color: white;}#sk-container-id-1 label.sk-toggleable__label {cursor: pointer;display: block;width: 100%;margin-bottom: 0;padding: 0.3em;box-sizing: border-box;text-align: center;}#sk-container-id-1 label.sk-toggleable__label-arrow:before {content: \"▸\";float: left;margin-right: 0.25em;color: #696969;}#sk-container-id-1 label.sk-toggleable__label-arrow:hover:before {color: black;}#sk-container-id-1 div.sk-estimator:hover label.sk-toggleable__label-arrow:before {color: black;}#sk-container-id-1 div.sk-toggleable__content {max-height: 0;max-width: 0;overflow: hidden;text-align: left;background-color: #f0f8ff;}#sk-container-id-1 div.sk-toggleable__content pre {margin: 0.2em;color: black;border-radius: 0.25em;background-color: #f0f8ff;}#sk-container-id-1 input.sk-toggleable__control:checked~div.sk-toggleable__content {max-height: 200px;max-width: 100%;overflow: auto;}#sk-container-id-1 input.sk-toggleable__control:checked~label.sk-toggleable__label-arrow:before {content: \"▾\";}#sk-container-id-1 div.sk-estimator input.sk-toggleable__control:checked~label.sk-toggleable__label {background-color: #d4ebff;}#sk-container-id-1 div.sk-label input.sk-toggleable__control:checked~label.sk-toggleable__label {background-color: #d4ebff;}#sk-container-id-1 input.sk-hidden--visually {border: 0;clip: rect(1px 1px 1px 1px);clip: rect(1px, 1px, 1px, 1px);height: 1px;margin: -1px;overflow: hidden;padding: 0;position: absolute;width: 1px;}#sk-container-id-1 div.sk-estimator {font-family: monospace;background-color: #f0f8ff;border: 1px dotted black;border-radius: 0.25em;box-sizing: border-box;margin-bottom: 0.5em;}#sk-container-id-1 div.sk-estimator:hover {background-color: #d4ebff;}#sk-container-id-1 div.sk-parallel-item::after {content: \"\";width: 100%;border-bottom: 1px solid gray;flex-grow: 1;}#sk-container-id-1 div.sk-label:hover label.sk-toggleable__label {background-color: #d4ebff;}#sk-container-id-1 div.sk-serial::before {content: \"\";position: absolute;border-left: 1px solid gray;box-sizing: border-box;top: 0;bottom: 0;left: 50%;z-index: 0;}#sk-container-id-1 div.sk-serial {display: flex;flex-direction: column;align-items: center;background-color: white;padding-right: 0.2em;padding-left: 0.2em;position: relative;}#sk-container-id-1 div.sk-item {position: relative;z-index: 1;}#sk-container-id-1 div.sk-parallel {display: flex;align-items: stretch;justify-content: center;background-color: white;position: relative;}#sk-container-id-1 div.sk-item::before, #sk-container-id-1 div.sk-parallel-item::before {content: \"\";position: absolute;border-left: 1px solid gray;box-sizing: border-box;top: 0;bottom: 0;left: 50%;z-index: -1;}#sk-container-id-1 div.sk-parallel-item {display: flex;flex-direction: column;z-index: 1;position: relative;background-color: white;}#sk-container-id-1 div.sk-parallel-item:first-child::after {align-self: flex-end;width: 50%;}#sk-container-id-1 div.sk-parallel-item:last-child::after {align-self: flex-start;width: 50%;}#sk-container-id-1 div.sk-parallel-item:only-child::after {width: 0;}#sk-container-id-1 div.sk-dashed-wrapped {border: 1px dashed gray;margin: 0 0.4em 0.5em 0.4em;box-sizing: border-box;padding-bottom: 0.4em;background-color: white;}#sk-container-id-1 div.sk-label label {font-family: monospace;font-weight: bold;display: inline-block;line-height: 1.2em;}#sk-container-id-1 div.sk-label-container {text-align: center;}#sk-container-id-1 div.sk-container {/* jupyter's `normalize.less` sets `[hidden] { display: none; }` but bootstrap.min.css set `[hidden] { display: none !important; }` so we also need the `!important` here to be able to override the default hidden behavior on the sphinx rendered scikit-learn.org. See: https://github.com/scikit-learn/scikit-learn/issues/21755 */display: inline-block !important;position: relative;}#sk-container-id-1 div.sk-text-repr-fallback {display: none;}</style><div id=\"sk-container-id-1\" class=\"sk-top-container\"><div class=\"sk-text-repr-fallback\"><pre>XGBClassifier(base_score=None, booster=None, callbacks=None,\n",
       "              colsample_bylevel=None, colsample_bynode=None,\n",
       "              colsample_bytree=0.8196022671113437, early_stopping_rounds=None,\n",
       "              enable_categorical=False, eval_metric=None, feature_types=None,\n",
       "              gamma=0.31417077398054244, gpu_id=None, grow_policy=None,\n",
       "              importance_type=None, interaction_constraints=None,\n",
       "              learning_rate=0.22555374708267845, max_bin=None,\n",
       "              max_cat_threshold=None, max_cat_to_onehot=None,\n",
       "              max_delta_step=None, max_depth=2, max_leaves=None,\n",
       "              min_child_weight=None, missing=nan, monotone_constraints=None,\n",
       "              n_estimators=135, n_jobs=None, num_parallel_tree=None,\n",
       "              predictor=None, random_state=None, ...)</pre><b>In a Jupyter environment, please rerun this cell to show the HTML representation or trust the notebook. <br />On GitHub, the HTML representation is unable to render, please try loading this page with nbviewer.org.</b></div><div class=\"sk-container\" hidden><div class=\"sk-item\"><div class=\"sk-estimator sk-toggleable\"><input class=\"sk-toggleable__control sk-hidden--visually\" id=\"sk-estimator-id-1\" type=\"checkbox\" checked><label for=\"sk-estimator-id-1\" class=\"sk-toggleable__label sk-toggleable__label-arrow\">XGBClassifier</label><div class=\"sk-toggleable__content\"><pre>XGBClassifier(base_score=None, booster=None, callbacks=None,\n",
       "              colsample_bylevel=None, colsample_bynode=None,\n",
       "              colsample_bytree=0.8196022671113437, early_stopping_rounds=None,\n",
       "              enable_categorical=False, eval_metric=None, feature_types=None,\n",
       "              gamma=0.31417077398054244, gpu_id=None, grow_policy=None,\n",
       "              importance_type=None, interaction_constraints=None,\n",
       "              learning_rate=0.22555374708267845, max_bin=None,\n",
       "              max_cat_threshold=None, max_cat_to_onehot=None,\n",
       "              max_delta_step=None, max_depth=2, max_leaves=None,\n",
       "              min_child_weight=None, missing=nan, monotone_constraints=None,\n",
       "              n_estimators=135, n_jobs=None, num_parallel_tree=None,\n",
       "              predictor=None, random_state=None, ...)</pre></div></div></div></div></div>"
      ],
      "text/plain": [
       "XGBClassifier(base_score=None, booster=None, callbacks=None,\n",
       "              colsample_bylevel=None, colsample_bynode=None,\n",
       "              colsample_bytree=0.8196022671113437, early_stopping_rounds=None,\n",
       "              enable_categorical=False, eval_metric=None, feature_types=None,\n",
       "              gamma=0.31417077398054244, gpu_id=None, grow_policy=None,\n",
       "              importance_type=None, interaction_constraints=None,\n",
       "              learning_rate=0.22555374708267845, max_bin=None,\n",
       "              max_cat_threshold=None, max_cat_to_onehot=None,\n",
       "              max_delta_step=None, max_depth=2, max_leaves=None,\n",
       "              min_child_weight=None, missing=nan, monotone_constraints=None,\n",
       "              n_estimators=135, n_jobs=None, num_parallel_tree=None,\n",
       "              predictor=None, random_state=None, ...)"
      ]
     },
     "execution_count": 75,
     "metadata": {},
     "output_type": "execute_result"
    }
   ],
   "source": [
    "bestParams={'colsample_bytree': 0.8196022671113437,\n",
    " 'gamma': 0.31417077398054244,\n",
    " 'learning_rate': 0.22555374708267845,\n",
    " 'max_depth': 2,\n",
    " 'n_estimators': 135,\n",
    " 'subsample': 0.8708780187253876}\n",
    "xgb_classifier = XGBClassifier(**bestParams)\n",
    "xgb_classifier"
   ]
  },
  {
   "cell_type": "code",
   "execution_count": 76,
   "id": "5b0272a4",
   "metadata": {
    "execution": {
     "iopub.execute_input": "2023-12-03T21:10:17.001062Z",
     "iopub.status.busy": "2023-12-03T21:10:16.999925Z",
     "iopub.status.idle": "2023-12-03T21:10:17.006253Z",
     "shell.execute_reply": "2023-12-03T21:10:17.004919Z"
    },
    "papermill": {
     "duration": 0.038552,
     "end_time": "2023-12-03T21:10:17.009108",
     "exception": false,
     "start_time": "2023-12-03T21:10:16.970556",
     "status": "completed"
    },
    "tags": []
   },
   "outputs": [],
   "source": [
    "trainFeatures=['sin_time','cos_time','Summer','Autumn','Spring','Winter','anglezScaled','enmoScaled','weekday']"
   ]
  },
  {
   "cell_type": "code",
   "execution_count": 77,
   "id": "6a5b211d",
   "metadata": {
    "execution": {
     "iopub.execute_input": "2023-12-03T21:10:17.068338Z",
     "iopub.status.busy": "2023-12-03T21:10:17.068000Z",
     "iopub.status.idle": "2023-12-03T21:10:17.073197Z",
     "shell.execute_reply": "2023-12-03T21:10:17.071861Z"
    },
    "papermill": {
     "duration": 0.036776,
     "end_time": "2023-12-03T21:10:17.075356",
     "exception": false,
     "start_time": "2023-12-03T21:10:17.038580",
     "status": "completed"
    },
    "tags": []
   },
   "outputs": [],
   "source": [
    "li=LabelEncoder()\n"
   ]
  },
  {
   "cell_type": "code",
   "execution_count": 78,
   "id": "90b5ab03",
   "metadata": {
    "execution": {
     "iopub.execute_input": "2023-12-03T21:10:17.136281Z",
     "iopub.status.busy": "2023-12-03T21:10:17.135907Z",
     "iopub.status.idle": "2023-12-03T21:10:18.193187Z",
     "shell.execute_reply": "2023-12-03T21:10:18.191455Z"
    },
    "papermill": {
     "duration": 1.091037,
     "end_time": "2023-12-03T21:10:18.195732",
     "exception": false,
     "start_time": "2023-12-03T21:10:17.104695",
     "status": "completed"
    },
    "tags": []
   },
   "outputs": [
    {
     "data": {
      "text/plain": [
       "55"
      ]
     },
     "execution_count": 78,
     "metadata": {},
     "output_type": "execute_result"
    }
   ],
   "source": [
    "X_train=cropedTrainSeriesData[trainFeatures].copy()\n",
    "y_train=li.fit_transform(cropedTrainSeriesData['event'])\n",
    "X_test=test_series_DF_CP[trainFeatures].copy()\n",
    "del cropedTrainSeriesData\n",
    "gc.collect()"
   ]
  },
  {
   "cell_type": "code",
   "execution_count": 79,
   "id": "1e76b167",
   "metadata": {
    "execution": {
     "iopub.execute_input": "2023-12-03T21:10:18.255295Z",
     "iopub.status.busy": "2023-12-03T21:10:18.254917Z",
     "iopub.status.idle": "2023-12-03T21:10:39.385732Z",
     "shell.execute_reply": "2023-12-03T21:10:39.385085Z"
    },
    "papermill": {
     "duration": 21.163217,
     "end_time": "2023-12-03T21:10:39.388113",
     "exception": false,
     "start_time": "2023-12-03T21:10:18.224896",
     "status": "completed"
    },
    "tags": []
   },
   "outputs": [
    {
     "data": {
      "text/html": [
       "<style>#sk-container-id-2 {color: black;background-color: white;}#sk-container-id-2 pre{padding: 0;}#sk-container-id-2 div.sk-toggleable {background-color: white;}#sk-container-id-2 label.sk-toggleable__label {cursor: pointer;display: block;width: 100%;margin-bottom: 0;padding: 0.3em;box-sizing: border-box;text-align: center;}#sk-container-id-2 label.sk-toggleable__label-arrow:before {content: \"▸\";float: left;margin-right: 0.25em;color: #696969;}#sk-container-id-2 label.sk-toggleable__label-arrow:hover:before {color: black;}#sk-container-id-2 div.sk-estimator:hover label.sk-toggleable__label-arrow:before {color: black;}#sk-container-id-2 div.sk-toggleable__content {max-height: 0;max-width: 0;overflow: hidden;text-align: left;background-color: #f0f8ff;}#sk-container-id-2 div.sk-toggleable__content pre {margin: 0.2em;color: black;border-radius: 0.25em;background-color: #f0f8ff;}#sk-container-id-2 input.sk-toggleable__control:checked~div.sk-toggleable__content {max-height: 200px;max-width: 100%;overflow: auto;}#sk-container-id-2 input.sk-toggleable__control:checked~label.sk-toggleable__label-arrow:before {content: \"▾\";}#sk-container-id-2 div.sk-estimator input.sk-toggleable__control:checked~label.sk-toggleable__label {background-color: #d4ebff;}#sk-container-id-2 div.sk-label input.sk-toggleable__control:checked~label.sk-toggleable__label {background-color: #d4ebff;}#sk-container-id-2 input.sk-hidden--visually {border: 0;clip: rect(1px 1px 1px 1px);clip: rect(1px, 1px, 1px, 1px);height: 1px;margin: -1px;overflow: hidden;padding: 0;position: absolute;width: 1px;}#sk-container-id-2 div.sk-estimator {font-family: monospace;background-color: #f0f8ff;border: 1px dotted black;border-radius: 0.25em;box-sizing: border-box;margin-bottom: 0.5em;}#sk-container-id-2 div.sk-estimator:hover {background-color: #d4ebff;}#sk-container-id-2 div.sk-parallel-item::after {content: \"\";width: 100%;border-bottom: 1px solid gray;flex-grow: 1;}#sk-container-id-2 div.sk-label:hover label.sk-toggleable__label {background-color: #d4ebff;}#sk-container-id-2 div.sk-serial::before {content: \"\";position: absolute;border-left: 1px solid gray;box-sizing: border-box;top: 0;bottom: 0;left: 50%;z-index: 0;}#sk-container-id-2 div.sk-serial {display: flex;flex-direction: column;align-items: center;background-color: white;padding-right: 0.2em;padding-left: 0.2em;position: relative;}#sk-container-id-2 div.sk-item {position: relative;z-index: 1;}#sk-container-id-2 div.sk-parallel {display: flex;align-items: stretch;justify-content: center;background-color: white;position: relative;}#sk-container-id-2 div.sk-item::before, #sk-container-id-2 div.sk-parallel-item::before {content: \"\";position: absolute;border-left: 1px solid gray;box-sizing: border-box;top: 0;bottom: 0;left: 50%;z-index: -1;}#sk-container-id-2 div.sk-parallel-item {display: flex;flex-direction: column;z-index: 1;position: relative;background-color: white;}#sk-container-id-2 div.sk-parallel-item:first-child::after {align-self: flex-end;width: 50%;}#sk-container-id-2 div.sk-parallel-item:last-child::after {align-self: flex-start;width: 50%;}#sk-container-id-2 div.sk-parallel-item:only-child::after {width: 0;}#sk-container-id-2 div.sk-dashed-wrapped {border: 1px dashed gray;margin: 0 0.4em 0.5em 0.4em;box-sizing: border-box;padding-bottom: 0.4em;background-color: white;}#sk-container-id-2 div.sk-label label {font-family: monospace;font-weight: bold;display: inline-block;line-height: 1.2em;}#sk-container-id-2 div.sk-label-container {text-align: center;}#sk-container-id-2 div.sk-container {/* jupyter's `normalize.less` sets `[hidden] { display: none; }` but bootstrap.min.css set `[hidden] { display: none !important; }` so we also need the `!important` here to be able to override the default hidden behavior on the sphinx rendered scikit-learn.org. See: https://github.com/scikit-learn/scikit-learn/issues/21755 */display: inline-block !important;position: relative;}#sk-container-id-2 div.sk-text-repr-fallback {display: none;}</style><div id=\"sk-container-id-2\" class=\"sk-top-container\"><div class=\"sk-text-repr-fallback\"><pre>XGBClassifier(base_score=None, booster=None, callbacks=None,\n",
       "              colsample_bylevel=None, colsample_bynode=None,\n",
       "              colsample_bytree=0.8196022671113437, early_stopping_rounds=None,\n",
       "              enable_categorical=False, eval_metric=None, feature_types=None,\n",
       "              gamma=0.31417077398054244, gpu_id=None, grow_policy=None,\n",
       "              importance_type=None, interaction_constraints=None,\n",
       "              learning_rate=0.22555374708267845, max_bin=None,\n",
       "              max_cat_threshold=None, max_cat_to_onehot=None,\n",
       "              max_delta_step=None, max_depth=2, max_leaves=None,\n",
       "              min_child_weight=None, missing=nan, monotone_constraints=None,\n",
       "              n_estimators=135, n_jobs=None, num_parallel_tree=None,\n",
       "              predictor=None, random_state=None, ...)</pre><b>In a Jupyter environment, please rerun this cell to show the HTML representation or trust the notebook. <br />On GitHub, the HTML representation is unable to render, please try loading this page with nbviewer.org.</b></div><div class=\"sk-container\" hidden><div class=\"sk-item\"><div class=\"sk-estimator sk-toggleable\"><input class=\"sk-toggleable__control sk-hidden--visually\" id=\"sk-estimator-id-2\" type=\"checkbox\" checked><label for=\"sk-estimator-id-2\" class=\"sk-toggleable__label sk-toggleable__label-arrow\">XGBClassifier</label><div class=\"sk-toggleable__content\"><pre>XGBClassifier(base_score=None, booster=None, callbacks=None,\n",
       "              colsample_bylevel=None, colsample_bynode=None,\n",
       "              colsample_bytree=0.8196022671113437, early_stopping_rounds=None,\n",
       "              enable_categorical=False, eval_metric=None, feature_types=None,\n",
       "              gamma=0.31417077398054244, gpu_id=None, grow_policy=None,\n",
       "              importance_type=None, interaction_constraints=None,\n",
       "              learning_rate=0.22555374708267845, max_bin=None,\n",
       "              max_cat_threshold=None, max_cat_to_onehot=None,\n",
       "              max_delta_step=None, max_depth=2, max_leaves=None,\n",
       "              min_child_weight=None, missing=nan, monotone_constraints=None,\n",
       "              n_estimators=135, n_jobs=None, num_parallel_tree=None,\n",
       "              predictor=None, random_state=None, ...)</pre></div></div></div></div></div>"
      ],
      "text/plain": [
       "XGBClassifier(base_score=None, booster=None, callbacks=None,\n",
       "              colsample_bylevel=None, colsample_bynode=None,\n",
       "              colsample_bytree=0.8196022671113437, early_stopping_rounds=None,\n",
       "              enable_categorical=False, eval_metric=None, feature_types=None,\n",
       "              gamma=0.31417077398054244, gpu_id=None, grow_policy=None,\n",
       "              importance_type=None, interaction_constraints=None,\n",
       "              learning_rate=0.22555374708267845, max_bin=None,\n",
       "              max_cat_threshold=None, max_cat_to_onehot=None,\n",
       "              max_delta_step=None, max_depth=2, max_leaves=None,\n",
       "              min_child_weight=None, missing=nan, monotone_constraints=None,\n",
       "              n_estimators=135, n_jobs=None, num_parallel_tree=None,\n",
       "              predictor=None, random_state=None, ...)"
      ]
     },
     "execution_count": 79,
     "metadata": {},
     "output_type": "execute_result"
    }
   ],
   "source": [
    "xgb_classifier.fit(X_train, y_train)"
   ]
  },
  {
   "cell_type": "markdown",
   "id": "81dd2466",
   "metadata": {
    "papermill": {
     "duration": 0.028524,
     "end_time": "2023-12-03T21:10:39.445908",
     "exception": false,
     "start_time": "2023-12-03T21:10:39.417384",
     "status": "completed"
    },
    "tags": []
   },
   "source": []
  },
  {
   "cell_type": "code",
   "execution_count": 80,
   "id": "42330602",
   "metadata": {
    "execution": {
     "iopub.execute_input": "2023-12-03T21:10:39.504386Z",
     "iopub.status.busy": "2023-12-03T21:10:39.503314Z",
     "iopub.status.idle": "2023-12-03T21:10:39.518272Z",
     "shell.execute_reply": "2023-12-03T21:10:39.516896Z"
    },
    "papermill": {
     "duration": 0.047155,
     "end_time": "2023-12-03T21:10:39.520988",
     "exception": false,
     "start_time": "2023-12-03T21:10:39.473833",
     "status": "completed"
    },
    "tags": []
   },
   "outputs": [
    {
     "data": {
      "text/plain": [
       "array([1, 1, 1, 1, 1, 1, 1, 1, 1, 1, 1, 1, 1, 1, 1, 1, 1, 1, 1, 1, 1, 1,\n",
       "       1, 1, 1, 1, 1, 1, 0, 0, 0, 0, 0, 0, 0, 0, 0, 0, 0, 0, 0, 0, 0, 0,\n",
       "       0, 0, 0, 0, 0, 0, 0, 0, 0, 0, 0, 0, 0, 0, 0, 0, 0, 0, 0, 0, 0, 0,\n",
       "       0, 0, 0, 0, 0, 0, 0, 0, 0, 0, 0, 0, 0, 0, 0, 0, 0, 0, 0, 0, 0, 0,\n",
       "       0, 0, 0, 0, 0, 0, 0, 0, 0, 0, 0, 0, 0, 0, 0, 0, 0, 0, 0, 0, 0, 0,\n",
       "       0, 0, 0, 0, 0, 0, 0, 0, 0, 0, 0, 0, 0, 0, 0, 0, 0, 0, 0, 0, 0, 0,\n",
       "       0, 0, 0, 0, 0, 0, 0, 0, 0, 0, 0, 0, 0, 0, 0, 0, 0, 0, 1, 1, 1, 1,\n",
       "       1, 1, 1, 1, 1, 1, 1, 1, 1, 1, 1, 1, 1, 1, 1, 1, 1, 1, 1, 1, 1, 1,\n",
       "       1, 1, 1, 1, 1, 1, 1, 1, 1, 1, 1, 1, 1, 1, 1, 1, 1, 1, 1, 1, 1, 1,\n",
       "       1, 1, 1, 1, 1, 1, 1, 1, 1, 1, 1, 1, 1, 1, 1, 1, 1, 1, 1, 1, 1, 1,\n",
       "       1, 1, 1, 1, 1, 1, 1, 1, 1, 1, 1, 1, 1, 1, 1, 1, 1, 1, 1, 1, 1, 1,\n",
       "       1, 1, 1, 1, 1, 1, 1, 1, 1, 1, 1, 1, 1, 1, 1, 1, 1, 1, 1, 1, 1, 1,\n",
       "       1, 1, 1, 1, 1, 1, 1, 1, 1, 1, 1, 1, 1, 1, 1, 1, 1, 1, 1, 1, 1, 1,\n",
       "       1, 1, 1, 1, 1, 1, 1, 1, 1, 1, 1, 1, 1, 1, 1, 1, 1, 1, 1, 1, 1, 1,\n",
       "       1, 1, 1, 1, 1, 1, 1, 1, 1, 1, 1, 1, 1, 1, 1, 1, 1, 1, 1, 1, 1, 1,\n",
       "       1, 1, 1, 1, 1, 1, 1, 1, 1, 1, 1, 1, 1, 1, 1, 1, 1, 1, 1, 1, 1, 1,\n",
       "       1, 1, 1, 1, 1, 1, 1, 1, 1, 1, 1, 1, 1, 1, 1, 1, 1, 1, 1, 1, 1, 1,\n",
       "       1, 1, 1, 1, 1, 1, 1, 1, 1, 1, 1, 1, 1, 1, 1, 1, 1, 1, 1, 1, 1, 1,\n",
       "       1, 1, 1, 1, 1, 1, 1, 1, 1, 1, 1, 1, 1, 1, 1, 1, 1, 1, 1, 1, 1, 1,\n",
       "       1, 1, 1, 1, 1, 1, 1, 1, 1, 1, 1, 1, 1, 1, 1, 1, 1, 1, 1, 1, 1, 1,\n",
       "       1, 1, 1, 1, 1, 1, 1, 1, 1, 1])"
      ]
     },
     "execution_count": 80,
     "metadata": {},
     "output_type": "execute_result"
    }
   ],
   "source": [
    "preditions=xgb_classifier.predict(X_test)\n",
    "preditions"
   ]
  },
  {
   "cell_type": "code",
   "execution_count": 81,
   "id": "32330c63",
   "metadata": {
    "execution": {
     "iopub.execute_input": "2023-12-03T21:10:39.583330Z",
     "iopub.status.busy": "2023-12-03T21:10:39.582255Z",
     "iopub.status.idle": "2023-12-03T21:10:39.591089Z",
     "shell.execute_reply": "2023-12-03T21:10:39.590325Z"
    },
    "papermill": {
     "duration": 0.041315,
     "end_time": "2023-12-03T21:10:39.592752",
     "exception": false,
     "start_time": "2023-12-03T21:10:39.551437",
     "status": "completed"
    },
    "tags": []
   },
   "outputs": [
    {
     "data": {
      "text/plain": [
       "array(['wakeup', 'wakeup', 'wakeup', 'wakeup', 'wakeup', 'wakeup',\n",
       "       'wakeup', 'wakeup', 'wakeup', 'wakeup', 'wakeup', 'wakeup',\n",
       "       'wakeup', 'wakeup', 'wakeup', 'wakeup', 'wakeup', 'wakeup',\n",
       "       'wakeup', 'wakeup', 'wakeup', 'wakeup', 'wakeup', 'wakeup',\n",
       "       'wakeup', 'wakeup', 'wakeup', 'wakeup', 'onset', 'onset', 'onset',\n",
       "       'onset', 'onset', 'onset', 'onset', 'onset', 'onset', 'onset',\n",
       "       'onset', 'onset', 'onset', 'onset', 'onset', 'onset', 'onset',\n",
       "       'onset', 'onset', 'onset', 'onset', 'onset', 'onset', 'onset',\n",
       "       'onset', 'onset', 'onset', 'onset', 'onset', 'onset', 'onset',\n",
       "       'onset', 'onset', 'onset', 'onset', 'onset', 'onset', 'onset',\n",
       "       'onset', 'onset', 'onset', 'onset', 'onset', 'onset', 'onset',\n",
       "       'onset', 'onset', 'onset', 'onset', 'onset', 'onset', 'onset',\n",
       "       'onset', 'onset', 'onset', 'onset', 'onset', 'onset', 'onset',\n",
       "       'onset', 'onset', 'onset', 'onset', 'onset', 'onset', 'onset',\n",
       "       'onset', 'onset', 'onset', 'onset', 'onset', 'onset', 'onset',\n",
       "       'onset', 'onset', 'onset', 'onset', 'onset', 'onset', 'onset',\n",
       "       'onset', 'onset', 'onset', 'onset', 'onset', 'onset', 'onset',\n",
       "       'onset', 'onset', 'onset', 'onset', 'onset', 'onset', 'onset',\n",
       "       'onset', 'onset', 'onset', 'onset', 'onset', 'onset', 'onset',\n",
       "       'onset', 'onset', 'onset', 'onset', 'onset', 'onset', 'onset',\n",
       "       'onset', 'onset', 'onset', 'onset', 'onset', 'onset', 'onset',\n",
       "       'onset', 'onset', 'onset', 'onset', 'onset', 'onset', 'onset',\n",
       "       'wakeup', 'wakeup', 'wakeup', 'wakeup', 'wakeup', 'wakeup',\n",
       "       'wakeup', 'wakeup', 'wakeup', 'wakeup', 'wakeup', 'wakeup',\n",
       "       'wakeup', 'wakeup', 'wakeup', 'wakeup', 'wakeup', 'wakeup',\n",
       "       'wakeup', 'wakeup', 'wakeup', 'wakeup', 'wakeup', 'wakeup',\n",
       "       'wakeup', 'wakeup', 'wakeup', 'wakeup', 'wakeup', 'wakeup',\n",
       "       'wakeup', 'wakeup', 'wakeup', 'wakeup', 'wakeup', 'wakeup',\n",
       "       'wakeup', 'wakeup', 'wakeup', 'wakeup', 'wakeup', 'wakeup',\n",
       "       'wakeup', 'wakeup', 'wakeup', 'wakeup', 'wakeup', 'wakeup',\n",
       "       'wakeup', 'wakeup', 'wakeup', 'wakeup', 'wakeup', 'wakeup',\n",
       "       'wakeup', 'wakeup', 'wakeup', 'wakeup', 'wakeup', 'wakeup',\n",
       "       'wakeup', 'wakeup', 'wakeup', 'wakeup', 'wakeup', 'wakeup',\n",
       "       'wakeup', 'wakeup', 'wakeup', 'wakeup', 'wakeup', 'wakeup',\n",
       "       'wakeup', 'wakeup', 'wakeup', 'wakeup', 'wakeup', 'wakeup',\n",
       "       'wakeup', 'wakeup', 'wakeup', 'wakeup', 'wakeup', 'wakeup',\n",
       "       'wakeup', 'wakeup', 'wakeup', 'wakeup', 'wakeup', 'wakeup',\n",
       "       'wakeup', 'wakeup', 'wakeup', 'wakeup', 'wakeup', 'wakeup',\n",
       "       'wakeup', 'wakeup', 'wakeup', 'wakeup', 'wakeup', 'wakeup',\n",
       "       'wakeup', 'wakeup', 'wakeup', 'wakeup', 'wakeup', 'wakeup',\n",
       "       'wakeup', 'wakeup', 'wakeup', 'wakeup', 'wakeup', 'wakeup',\n",
       "       'wakeup', 'wakeup', 'wakeup', 'wakeup', 'wakeup', 'wakeup',\n",
       "       'wakeup', 'wakeup', 'wakeup', 'wakeup', 'wakeup', 'wakeup',\n",
       "       'wakeup', 'wakeup', 'wakeup', 'wakeup', 'wakeup', 'wakeup',\n",
       "       'wakeup', 'wakeup', 'wakeup', 'wakeup', 'wakeup', 'wakeup',\n",
       "       'wakeup', 'wakeup', 'wakeup', 'wakeup', 'wakeup', 'wakeup',\n",
       "       'wakeup', 'wakeup', 'wakeup', 'wakeup', 'wakeup', 'wakeup',\n",
       "       'wakeup', 'wakeup', 'wakeup', 'wakeup', 'wakeup', 'wakeup',\n",
       "       'wakeup', 'wakeup', 'wakeup', 'wakeup', 'wakeup', 'wakeup',\n",
       "       'wakeup', 'wakeup', 'wakeup', 'wakeup', 'wakeup', 'wakeup',\n",
       "       'wakeup', 'wakeup', 'wakeup', 'wakeup', 'wakeup', 'wakeup',\n",
       "       'wakeup', 'wakeup', 'wakeup', 'wakeup', 'wakeup', 'wakeup',\n",
       "       'wakeup', 'wakeup', 'wakeup', 'wakeup', 'wakeup', 'wakeup',\n",
       "       'wakeup', 'wakeup', 'wakeup', 'wakeup', 'wakeup', 'wakeup',\n",
       "       'wakeup', 'wakeup', 'wakeup', 'wakeup', 'wakeup', 'wakeup',\n",
       "       'wakeup', 'wakeup', 'wakeup', 'wakeup', 'wakeup', 'wakeup',\n",
       "       'wakeup', 'wakeup', 'wakeup', 'wakeup', 'wakeup', 'wakeup',\n",
       "       'wakeup', 'wakeup', 'wakeup', 'wakeup', 'wakeup', 'wakeup',\n",
       "       'wakeup', 'wakeup', 'wakeup', 'wakeup', 'wakeup', 'wakeup',\n",
       "       'wakeup', 'wakeup', 'wakeup', 'wakeup', 'wakeup', 'wakeup',\n",
       "       'wakeup', 'wakeup', 'wakeup', 'wakeup', 'wakeup', 'wakeup',\n",
       "       'wakeup', 'wakeup', 'wakeup', 'wakeup', 'wakeup', 'wakeup',\n",
       "       'wakeup', 'wakeup', 'wakeup', 'wakeup', 'wakeup', 'wakeup',\n",
       "       'wakeup', 'wakeup', 'wakeup', 'wakeup', 'wakeup', 'wakeup',\n",
       "       'wakeup', 'wakeup', 'wakeup', 'wakeup', 'wakeup', 'wakeup',\n",
       "       'wakeup', 'wakeup', 'wakeup', 'wakeup', 'wakeup', 'wakeup',\n",
       "       'wakeup', 'wakeup', 'wakeup', 'wakeup', 'wakeup', 'wakeup',\n",
       "       'wakeup', 'wakeup', 'wakeup', 'wakeup', 'wakeup', 'wakeup',\n",
       "       'wakeup', 'wakeup', 'wakeup', 'wakeup', 'wakeup', 'wakeup',\n",
       "       'wakeup', 'wakeup', 'wakeup', 'wakeup', 'wakeup', 'wakeup',\n",
       "       'wakeup', 'wakeup', 'wakeup', 'wakeup', 'wakeup', 'wakeup',\n",
       "       'wakeup', 'wakeup', 'wakeup', 'wakeup', 'wakeup', 'wakeup'],\n",
       "      dtype=object)"
      ]
     },
     "execution_count": 81,
     "metadata": {},
     "output_type": "execute_result"
    }
   ],
   "source": [
    "preditions_lables=li.inverse_transform(preditions)\n",
    "preditions_lables"
   ]
  },
  {
   "cell_type": "code",
   "execution_count": 82,
   "id": "b779b5c6",
   "metadata": {
    "execution": {
     "iopub.execute_input": "2023-12-03T21:10:39.652258Z",
     "iopub.status.busy": "2023-12-03T21:10:39.651196Z",
     "iopub.status.idle": "2023-12-03T21:10:39.666730Z",
     "shell.execute_reply": "2023-12-03T21:10:39.665294Z"
    },
    "papermill": {
     "duration": 0.048455,
     "end_time": "2023-12-03T21:10:39.668882",
     "exception": false,
     "start_time": "2023-12-03T21:10:39.620427",
     "status": "completed"
    },
    "tags": []
   },
   "outputs": [
    {
     "data": {
      "text/plain": [
       "array([0.74979407, 0.74979407, 0.74979407, 0.74979407, 0.74979407,\n",
       "       0.74979407, 0.74979407, 0.74979407, 0.74979407, 0.74979407,\n",
       "       0.74979407, 0.74979407, 0.74979407, 0.74979407, 0.74979407,\n",
       "       0.74979407, 0.74979407, 0.74979407, 0.794205  , 0.75174206,\n",
       "       0.8269243 , 0.7013206 , 0.74142367, 0.8084589 , 0.789332  ,\n",
       "       0.789332  , 0.789332  , 0.7803621 , 0.39631724, 0.39631724,\n",
       "       0.39631724, 0.39631724, 0.39631724, 0.39631724, 0.39631724,\n",
       "       0.39631724, 0.39631724, 0.39631724, 0.39631724, 0.39631724,\n",
       "       0.39631724, 0.39631724, 0.39631724, 0.39631724, 0.39631724,\n",
       "       0.39631724, 0.39631724, 0.39631724, 0.39631724, 0.39631724,\n",
       "       0.39631724, 0.39631724, 0.39631724, 0.39631724, 0.39631724,\n",
       "       0.39631724, 0.39631724, 0.39631724, 0.39631724, 0.39631724,\n",
       "       0.39631724, 0.39631724, 0.39631724, 0.39631724, 0.39631724,\n",
       "       0.39631724, 0.39631724, 0.39631724, 0.39631724, 0.39631724,\n",
       "       0.39631724, 0.39631724, 0.39631724, 0.39631724, 0.39631724,\n",
       "       0.39631724, 0.39631724, 0.39631724, 0.39631724, 0.39631724,\n",
       "       0.39631724, 0.39631724, 0.39631724, 0.35323313, 0.35323313,\n",
       "       0.35323313, 0.35323313, 0.35323313, 0.35323313, 0.35323313,\n",
       "       0.35323313, 0.35323313, 0.35323313, 0.35323313, 0.35323313,\n",
       "       0.35323313, 0.35323313, 0.35323313, 0.35323313, 0.35323313,\n",
       "       0.35323313, 0.35323313, 0.35323313, 0.35323313, 0.35323313,\n",
       "       0.35323313, 0.35323313, 0.35323313, 0.35323313, 0.35323313,\n",
       "       0.35323313, 0.35323313, 0.35323313, 0.35323313, 0.35323313,\n",
       "       0.35323313, 0.35323313, 0.32391164, 0.32391164, 0.32391164,\n",
       "       0.32391164, 0.32391164, 0.32391164, 0.32391164, 0.32391164,\n",
       "       0.32391164, 0.32391164, 0.32391164, 0.32391164, 0.32391164,\n",
       "       0.32391164, 0.32391164, 0.32391164, 0.32391164, 0.32391164,\n",
       "       0.32391164, 0.32391164, 0.32391164, 0.32391164, 0.32391164,\n",
       "       0.32391164, 0.32391164, 0.32391164, 0.32391164, 0.32391164,\n",
       "       0.32391164, 0.32391164, 0.32391164, 0.32391164, 0.32391164,\n",
       "       0.9954346 , 0.99610597, 0.9948487 , 0.9954346 , 0.99061173,\n",
       "       0.9928154 , 0.99610597, 0.99610597, 0.9956059 , 0.9967692 ,\n",
       "       0.9856967 , 0.99135536, 0.9963335 , 0.9963335 , 0.9963335 ,\n",
       "       0.9963335 , 0.9963335 , 0.9963335 , 0.9963335 , 0.9928    ,\n",
       "       0.99440104, 0.9935481 , 0.99440104, 0.9919897 , 0.9966336 ,\n",
       "       0.9966336 , 0.9966336 , 0.999213  , 0.999213  , 0.999213  ,\n",
       "       0.999213  , 0.999213  , 0.999213  , 0.99897826, 0.99886227,\n",
       "       0.9987716 , 0.9987716 , 0.9987716 , 0.9987716 , 0.99857175,\n",
       "       0.99857175, 0.99857175, 0.99857175, 0.99857175, 0.99857175,\n",
       "       0.99857175, 0.99857175, 0.99857175, 0.99857175, 0.99857175,\n",
       "       0.99857175, 0.99857175, 0.99857175, 0.99857175, 0.99857175,\n",
       "       0.99857175, 0.99857175, 0.99857175, 0.99857175, 0.99857175,\n",
       "       0.99857175, 0.99857175, 0.99857175, 0.9987255 , 0.9987255 ,\n",
       "       0.9987255 , 0.9987255 , 0.9987255 , 0.9987255 , 0.9987255 ,\n",
       "       0.9987255 , 0.9987255 , 0.9987255 , 0.9987255 , 0.9987255 ,\n",
       "       0.9987255 , 0.9987255 , 0.9987255 , 0.9987255 , 0.9987255 ,\n",
       "       0.9987255 , 0.9987255 , 0.9987255 , 0.9987255 , 0.9987255 ,\n",
       "       0.9987255 , 0.9987255 , 0.9987255 , 0.9987255 , 0.9987255 ,\n",
       "       0.9987255 , 0.9987255 , 0.9987255 , 0.9987255 , 0.9987255 ,\n",
       "       0.9987255 , 0.9987255 , 0.9987255 , 0.9987255 , 0.9987255 ,\n",
       "       0.9987255 , 0.9987255 , 0.9987255 , 0.9987255 , 0.9987255 ,\n",
       "       0.9987255 , 0.9987255 , 0.9987255 , 0.9987255 , 0.9987255 ,\n",
       "       0.9987255 , 0.9987255 , 0.9987255 , 0.9987255 , 0.9987255 ,\n",
       "       0.9987255 , 0.9987255 , 0.9987255 , 0.9987255 , 0.9987255 ,\n",
       "       0.9987255 , 0.9987255 , 0.9987255 , 0.9987255 , 0.9987255 ,\n",
       "       0.9987255 , 0.9987255 , 0.9987255 , 0.9987255 , 0.9987255 ,\n",
       "       0.9987255 , 0.9987255 , 0.9987255 , 0.9987255 , 0.9987255 ,\n",
       "       0.9987255 , 0.9987255 , 0.9987255 , 0.9987255 , 0.9987255 ,\n",
       "       0.9987255 , 0.9987255 , 0.9987255 , 0.9987255 , 0.9987255 ,\n",
       "       0.9987255 , 0.9987255 , 0.9987255 , 0.9987255 , 0.9987255 ,\n",
       "       0.9992274 , 0.99883384, 0.99886715, 0.99886715, 0.99936587,\n",
       "       0.99934715, 0.99946314, 0.99946314, 0.99936587, 0.99934715,\n",
       "       0.9994506 , 0.9994677 , 0.9994677 , 0.99954754, 0.99950707,\n",
       "       0.9979367 , 0.99949574, 0.9994506 , 0.9992022 , 0.9992022 ,\n",
       "       0.99936587, 0.9992841 , 0.9991885 , 0.99886715, 0.99880016,\n",
       "       0.9994506 , 0.9994506 , 0.99949574, 0.99886715, 0.9992424 ,\n",
       "       0.9995505 , 0.99934715, 0.9988192 , 0.9995596 , 0.9994686 ,\n",
       "       0.99886715, 0.99886715, 0.9987212 , 0.9994307 , 0.99959785,\n",
       "       0.9995103 , 0.99959785, 0.99945945, 0.99932456, 0.9991264 ,\n",
       "       0.9992424 , 0.99923134, 0.99923134, 0.9991829 , 0.9994686 ,\n",
       "       0.9994874 , 0.9994677 , 0.9995555 , 0.9989116 , 0.9991353 ,\n",
       "       0.9991353 , 0.99926287, 0.99926287, 0.99926287, 0.99953306,\n",
       "       0.9994758 , 0.9993007 , 0.9992274 , 0.9986609 , 0.9986609 ,\n",
       "       0.9987436 , 0.9986609 , 0.99925035, 0.9995042 , 0.999233  ,\n",
       "       0.9991984 , 0.9986609 , 0.99858886, 0.9986609 , 0.99910444,\n",
       "       0.99910444, 0.9991252 , 0.999451  , 0.9986609 , 0.9986609 ,\n",
       "       0.9990569 , 0.998676  , 0.9986216 , 0.99915016, 0.9991252 ,\n",
       "       0.99915373, 0.99945635, 0.9994998 , 0.99943537, 0.9994837 ,\n",
       "       0.9993505 , 0.99915373, 0.9992835 , 0.99945635, 0.9995184 ,\n",
       "       0.9993505 , 0.9989673 , 0.99756145, 0.9986609 , 0.9985683 ,\n",
       "       0.9993311 , 0.9987067 , 0.9992016 , 0.9986609 , 0.9986609 ,\n",
       "       0.9986216 , 0.9992016 , 0.9986609 , 0.9985683 , 0.9986216 ,\n",
       "       0.99910444, 0.99910444, 0.99910444, 0.9994215 , 0.99910444,\n",
       "       0.99915016, 0.99910444, 0.9983157 , 0.9990914 , 0.99910444,\n",
       "       0.9985683 , 0.9985683 , 0.9994215 , 0.99905986, 0.99905986,\n",
       "       0.9987099 , 0.9994349 , 0.999451  , 0.99915016, 0.9989673 ,\n",
       "       0.999451  , 0.999451  , 0.99940383, 0.9993654 , 0.99900573,\n",
       "       0.99858886, 0.9985683 , 0.99865663, 0.9993931 , 0.9993931 ,\n",
       "       0.9993931 , 0.99928313, 0.99907637, 0.99904925, 0.99939835,\n",
       "       0.9991874 , 0.9987633 , 0.9992335 , 0.9986507 , 0.99942064],\n",
       "      dtype=float32)"
      ]
     },
     "execution_count": 82,
     "metadata": {},
     "output_type": "execute_result"
    }
   ],
   "source": [
    "predict_proba=xgb_classifier.predict_proba(X_test)[:,1]\n",
    "predict_proba"
   ]
  },
  {
   "cell_type": "code",
   "execution_count": 83,
   "id": "9568191d",
   "metadata": {
    "execution": {
     "iopub.execute_input": "2023-12-03T21:10:39.727551Z",
     "iopub.status.busy": "2023-12-03T21:10:39.727245Z",
     "iopub.status.idle": "2023-12-03T21:10:39.735389Z",
     "shell.execute_reply": "2023-12-03T21:10:39.733894Z"
    },
    "papermill": {
     "duration": 0.040033,
     "end_time": "2023-12-03T21:10:39.737681",
     "exception": false,
     "start_time": "2023-12-03T21:10:39.697648",
     "status": "completed"
    },
    "tags": []
   },
   "outputs": [],
   "source": [
    "submission=test_series_DF_CP[['series_id','step']].copy()\n",
    "submission['event']=preditions_lables\n",
    "submission['score']=predict_proba\n",
    "submission['row_id'] = submission.index.astype(int)\n",
    "submission = submission[['row_id','series_id','step','event','score']]"
   ]
  },
  {
   "cell_type": "code",
   "execution_count": 84,
   "id": "4f8cdbd6",
   "metadata": {
    "execution": {
     "iopub.execute_input": "2023-12-03T21:10:39.797066Z",
     "iopub.status.busy": "2023-12-03T21:10:39.796709Z",
     "iopub.status.idle": "2023-12-03T21:10:39.806164Z",
     "shell.execute_reply": "2023-12-03T21:10:39.804962Z"
    },
    "papermill": {
     "duration": 0.041761,
     "end_time": "2023-12-03T21:10:39.808413",
     "exception": false,
     "start_time": "2023-12-03T21:10:39.766652",
     "status": "completed"
    },
    "tags": []
   },
   "outputs": [],
   "source": [
    "submission.to_csv('submission.csv')"
   ]
  }
 ],
 "metadata": {
  "kaggle": {
   "accelerator": "none",
   "dataSources": [
    {
     "databundleVersionId": 6589269,
     "sourceId": 53666,
     "sourceType": "competition"
    }
   ],
   "dockerImageVersionId": 30558,
   "isGpuEnabled": false,
   "isInternetEnabled": false,
   "language": "python",
   "sourceType": "notebook"
  },
  "kernelspec": {
   "display_name": "Python 3",
   "language": "python",
   "name": "python3"
  },
  "language_info": {
   "codemirror_mode": {
    "name": "ipython",
    "version": 3
   },
   "file_extension": ".py",
   "mimetype": "text/x-python",
   "name": "python",
   "nbconvert_exporter": "python",
   "pygments_lexer": "ipython3",
   "version": "3.10.12"
  },
  "papermill": {
   "default_parameters": {},
   "duration": 797.299424,
   "end_time": "2023-12-03T21:10:42.664629",
   "environment_variables": {},
   "exception": null,
   "input_path": "__notebook__.ipynb",
   "output_path": "__notebook__.ipynb",
   "parameters": {},
   "start_time": "2023-12-03T20:57:25.365205",
   "version": "2.4.0"
  },
  "widgets": {
   "application/vnd.jupyter.widget-state+json": {
    "state": {
     "014d37173e2f481fb306a41fb5d0226c": {
      "model_module": "@jupyter-widgets/controls",
      "model_module_version": "1.5.0",
      "model_name": "HTMLModel",
      "state": {
       "_dom_classes": [],
       "_model_module": "@jupyter-widgets/controls",
       "_model_module_version": "1.5.0",
       "_model_name": "HTMLModel",
       "_view_count": null,
       "_view_module": "@jupyter-widgets/controls",
       "_view_module_version": "1.5.0",
       "_view_name": "HTMLView",
       "description": "",
       "description_tooltip": null,
       "layout": "IPY_MODEL_2cff129f9056419e8eee0220d8c925a2",
       "placeholder": "​",
       "style": "IPY_MODEL_0a9c12c567584ffd86e7d0dd09f7e92a",
       "value": "One-Hot Encoding: 100%"
      }
     },
     "044bb3c84daa4399b93938244b079dd3": {
      "model_module": "@jupyter-widgets/controls",
      "model_module_version": "1.5.0",
      "model_name": "HTMLModel",
      "state": {
       "_dom_classes": [],
       "_model_module": "@jupyter-widgets/controls",
       "_model_module_version": "1.5.0",
       "_model_name": "HTMLModel",
       "_view_count": null,
       "_view_module": "@jupyter-widgets/controls",
       "_view_module_version": "1.5.0",
       "_view_name": "HTMLView",
       "description": "",
       "description_tooltip": null,
       "layout": "IPY_MODEL_425b81d683844079904eb40276bc111d",
       "placeholder": "​",
       "style": "IPY_MODEL_d6889f1cbfe942149c4736c7f3003d44",
       "value": "One-Hot Encoding: 100%"
      }
     },
     "052b4da729b84f94bc9b63a841269875": {
      "model_module": "@jupyter-widgets/controls",
      "model_module_version": "1.5.0",
      "model_name": "HBoxModel",
      "state": {
       "_dom_classes": [],
       "_model_module": "@jupyter-widgets/controls",
       "_model_module_version": "1.5.0",
       "_model_name": "HBoxModel",
       "_view_count": null,
       "_view_module": "@jupyter-widgets/controls",
       "_view_module_version": "1.5.0",
       "_view_name": "HBoxView",
       "box_style": "",
       "children": [
        "IPY_MODEL_9bb41b42c2ca4d359c965d0e674f643e",
        "IPY_MODEL_625e3613d8ee4acb869ea96b7fa842fe",
        "IPY_MODEL_8c47b8c927fc43db9022a2bd16aec3f1"
       ],
       "layout": "IPY_MODEL_b36ca95083ce4c07aaaf5574cab094f7"
      }
     },
     "0a9c12c567584ffd86e7d0dd09f7e92a": {
      "model_module": "@jupyter-widgets/controls",
      "model_module_version": "1.5.0",
      "model_name": "DescriptionStyleModel",
      "state": {
       "_model_module": "@jupyter-widgets/controls",
       "_model_module_version": "1.5.0",
       "_model_name": "DescriptionStyleModel",
       "_view_count": null,
       "_view_module": "@jupyter-widgets/base",
       "_view_module_version": "1.2.0",
       "_view_name": "StyleView",
       "description_width": ""
      }
     },
     "0df3685eeadd44bd82425c5888d75606": {
      "model_module": "@jupyter-widgets/controls",
      "model_module_version": "1.5.0",
      "model_name": "FloatProgressModel",
      "state": {
       "_dom_classes": [],
       "_model_module": "@jupyter-widgets/controls",
       "_model_module_version": "1.5.0",
       "_model_name": "FloatProgressModel",
       "_view_count": null,
       "_view_module": "@jupyter-widgets/controls",
       "_view_module_version": "1.5.0",
       "_view_name": "ProgressView",
       "bar_style": "success",
       "description": "",
       "description_tooltip": null,
       "layout": "IPY_MODEL_f1d1460d06b94490b5f11148f0618745",
       "max": 450.0,
       "min": 0.0,
       "orientation": "horizontal",
       "style": "IPY_MODEL_36d5b399eb48430a9303078b2fc556fa",
       "value": 450.0
      }
     },
     "0e66e9793089476d97f9aad27909655f": {
      "model_module": "@jupyter-widgets/base",
      "model_module_version": "1.2.0",
      "model_name": "LayoutModel",
      "state": {
       "_model_module": "@jupyter-widgets/base",
       "_model_module_version": "1.2.0",
       "_model_name": "LayoutModel",
       "_view_count": null,
       "_view_module": "@jupyter-widgets/base",
       "_view_module_version": "1.2.0",
       "_view_name": "LayoutView",
       "align_content": null,
       "align_items": null,
       "align_self": null,
       "border": null,
       "bottom": null,
       "display": null,
       "flex": null,
       "flex_flow": null,
       "grid_area": null,
       "grid_auto_columns": null,
       "grid_auto_flow": null,
       "grid_auto_rows": null,
       "grid_column": null,
       "grid_gap": null,
       "grid_row": null,
       "grid_template_areas": null,
       "grid_template_columns": null,
       "grid_template_rows": null,
       "height": null,
       "justify_content": null,
       "justify_items": null,
       "left": null,
       "margin": null,
       "max_height": null,
       "max_width": null,
       "min_height": null,
       "min_width": null,
       "object_fit": null,
       "object_position": null,
       "order": null,
       "overflow": null,
       "overflow_x": null,
       "overflow_y": null,
       "padding": null,
       "right": null,
       "top": null,
       "visibility": null,
       "width": null
      }
     },
     "130a728f49614296ab80cedbc78325cc": {
      "model_module": "@jupyter-widgets/controls",
      "model_module_version": "1.5.0",
      "model_name": "ProgressStyleModel",
      "state": {
       "_model_module": "@jupyter-widgets/controls",
       "_model_module_version": "1.5.0",
       "_model_name": "ProgressStyleModel",
       "_view_count": null,
       "_view_module": "@jupyter-widgets/base",
       "_view_module_version": "1.2.0",
       "_view_name": "StyleView",
       "bar_color": null,
       "description_width": ""
      }
     },
     "143d62e4f7cc475bb2a1869f30a2d83e": {
      "model_module": "@jupyter-widgets/controls",
      "model_module_version": "1.5.0",
      "model_name": "HBoxModel",
      "state": {
       "_dom_classes": [],
       "_model_module": "@jupyter-widgets/controls",
       "_model_module_version": "1.5.0",
       "_model_name": "HBoxModel",
       "_view_count": null,
       "_view_module": "@jupyter-widgets/controls",
       "_view_module_version": "1.5.0",
       "_view_name": "HBoxView",
       "box_style": "",
       "children": [
        "IPY_MODEL_34f1b4fa4b1b4d61b06ab610459298c1",
        "IPY_MODEL_60586ae1d3084291a7c5876fd4f3bdd8",
        "IPY_MODEL_26d545827258440497d74b318f11670c"
       ],
       "layout": "IPY_MODEL_3f1229393e144dbdba27a784e221e33e"
      }
     },
     "1456f07062d844708b897dcbff974a65": {
      "model_module": "@jupyter-widgets/controls",
      "model_module_version": "1.5.0",
      "model_name": "HTMLModel",
      "state": {
       "_dom_classes": [],
       "_model_module": "@jupyter-widgets/controls",
       "_model_module_version": "1.5.0",
       "_model_name": "HTMLModel",
       "_view_count": null,
       "_view_module": "@jupyter-widgets/controls",
       "_view_module_version": "1.5.0",
       "_view_name": "HTMLView",
       "description": "",
       "description_tooltip": null,
       "layout": "IPY_MODEL_ae6822df46134b15ab2721fe086e26f3",
       "placeholder": "​",
       "style": "IPY_MODEL_7a355e9a480a46858761d810fec12e8e",
       "value": " 1279463/1279463 [05:21&lt;00:00, 8395.56it/s]"
      }
     },
     "16f9f72a30e347009386f8fbc70b7a0b": {
      "model_module": "@jupyter-widgets/base",
      "model_module_version": "1.2.0",
      "model_name": "LayoutModel",
      "state": {
       "_model_module": "@jupyter-widgets/base",
       "_model_module_version": "1.2.0",
       "_model_name": "LayoutModel",
       "_view_count": null,
       "_view_module": "@jupyter-widgets/base",
       "_view_module_version": "1.2.0",
       "_view_name": "LayoutView",
       "align_content": null,
       "align_items": null,
       "align_self": null,
       "border": null,
       "bottom": null,
       "display": null,
       "flex": null,
       "flex_flow": null,
       "grid_area": null,
       "grid_auto_columns": null,
       "grid_auto_flow": null,
       "grid_auto_rows": null,
       "grid_column": null,
       "grid_gap": null,
       "grid_row": null,
       "grid_template_areas": null,
       "grid_template_columns": null,
       "grid_template_rows": null,
       "height": null,
       "justify_content": null,
       "justify_items": null,
       "left": null,
       "margin": null,
       "max_height": null,
       "max_width": null,
       "min_height": null,
       "min_width": null,
       "object_fit": null,
       "object_position": null,
       "order": null,
       "overflow": null,
       "overflow_x": null,
       "overflow_y": null,
       "padding": null,
       "right": null,
       "top": null,
       "visibility": null,
       "width": null
      }
     },
     "1f91d7c92cba403eb626fc3c524092a7": {
      "model_module": "@jupyter-widgets/controls",
      "model_module_version": "1.5.0",
      "model_name": "HTMLModel",
      "state": {
       "_dom_classes": [],
       "_model_module": "@jupyter-widgets/controls",
       "_model_module_version": "1.5.0",
       "_model_name": "HTMLModel",
       "_view_count": null,
       "_view_module": "@jupyter-widgets/controls",
       "_view_module_version": "1.5.0",
       "_view_name": "HTMLView",
       "description": "",
       "description_tooltip": null,
       "layout": "IPY_MODEL_9a44a1d01d1e47d7aa4b0590f578885d",
       "placeholder": "​",
       "style": "IPY_MODEL_7c30eab62ece45f5a00225e5f46d8ea7",
       "value": " 450/450 [00:00&lt;00:00, 3333.15it/s]"
      }
     },
     "20a22a89f4614281a19e6153b3851f89": {
      "model_module": "@jupyter-widgets/base",
      "model_module_version": "1.2.0",
      "model_name": "LayoutModel",
      "state": {
       "_model_module": "@jupyter-widgets/base",
       "_model_module_version": "1.2.0",
       "_model_name": "LayoutModel",
       "_view_count": null,
       "_view_module": "@jupyter-widgets/base",
       "_view_module_version": "1.2.0",
       "_view_name": "LayoutView",
       "align_content": null,
       "align_items": null,
       "align_self": null,
       "border": null,
       "bottom": null,
       "display": null,
       "flex": null,
       "flex_flow": null,
       "grid_area": null,
       "grid_auto_columns": null,
       "grid_auto_flow": null,
       "grid_auto_rows": null,
       "grid_column": null,
       "grid_gap": null,
       "grid_row": null,
       "grid_template_areas": null,
       "grid_template_columns": null,
       "grid_template_rows": null,
       "height": null,
       "justify_content": null,
       "justify_items": null,
       "left": null,
       "margin": null,
       "max_height": null,
       "max_width": null,
       "min_height": null,
       "min_width": null,
       "object_fit": null,
       "object_position": null,
       "order": null,
       "overflow": null,
       "overflow_x": null,
       "overflow_y": null,
       "padding": null,
       "right": null,
       "top": null,
       "visibility": null,
       "width": null
      }
     },
     "21a50fd18d6b4659816b206fa21d0dc6": {
      "model_module": "@jupyter-widgets/controls",
      "model_module_version": "1.5.0",
      "model_name": "DescriptionStyleModel",
      "state": {
       "_model_module": "@jupyter-widgets/controls",
       "_model_module_version": "1.5.0",
       "_model_name": "DescriptionStyleModel",
       "_view_count": null,
       "_view_module": "@jupyter-widgets/base",
       "_view_module_version": "1.2.0",
       "_view_name": "StyleView",
       "description_width": ""
      }
     },
     "26d545827258440497d74b318f11670c": {
      "model_module": "@jupyter-widgets/controls",
      "model_module_version": "1.5.0",
      "model_name": "HTMLModel",
      "state": {
       "_dom_classes": [],
       "_model_module": "@jupyter-widgets/controls",
       "_model_module_version": "1.5.0",
       "_model_name": "HTMLModel",
       "_view_count": null,
       "_view_module": "@jupyter-widgets/controls",
       "_view_module_version": "1.5.0",
       "_view_name": "HTMLView",
       "description": "",
       "description_tooltip": null,
       "layout": "IPY_MODEL_8feb123c214e44f8a5caea554d643f92",
       "placeholder": "​",
       "style": "IPY_MODEL_f6cb159a1d3340dd917b8b090a10776b",
       "value": " 678/678 [00:04&lt;00:00, 150.63it/s]"
      }
     },
     "2cc6b7f8482c421d9468bcce92a226aa": {
      "model_module": "@jupyter-widgets/base",
      "model_module_version": "1.2.0",
      "model_name": "LayoutModel",
      "state": {
       "_model_module": "@jupyter-widgets/base",
       "_model_module_version": "1.2.0",
       "_model_name": "LayoutModel",
       "_view_count": null,
       "_view_module": "@jupyter-widgets/base",
       "_view_module_version": "1.2.0",
       "_view_name": "LayoutView",
       "align_content": null,
       "align_items": null,
       "align_self": null,
       "border": null,
       "bottom": null,
       "display": null,
       "flex": null,
       "flex_flow": null,
       "grid_area": null,
       "grid_auto_columns": null,
       "grid_auto_flow": null,
       "grid_auto_rows": null,
       "grid_column": null,
       "grid_gap": null,
       "grid_row": null,
       "grid_template_areas": null,
       "grid_template_columns": null,
       "grid_template_rows": null,
       "height": null,
       "justify_content": null,
       "justify_items": null,
       "left": null,
       "margin": null,
       "max_height": null,
       "max_width": null,
       "min_height": null,
       "min_width": null,
       "object_fit": null,
       "object_position": null,
       "order": null,
       "overflow": null,
       "overflow_x": null,
       "overflow_y": null,
       "padding": null,
       "right": null,
       "top": null,
       "visibility": null,
       "width": null
      }
     },
     "2cff129f9056419e8eee0220d8c925a2": {
      "model_module": "@jupyter-widgets/base",
      "model_module_version": "1.2.0",
      "model_name": "LayoutModel",
      "state": {
       "_model_module": "@jupyter-widgets/base",
       "_model_module_version": "1.2.0",
       "_model_name": "LayoutModel",
       "_view_count": null,
       "_view_module": "@jupyter-widgets/base",
       "_view_module_version": "1.2.0",
       "_view_name": "LayoutView",
       "align_content": null,
       "align_items": null,
       "align_self": null,
       "border": null,
       "bottom": null,
       "display": null,
       "flex": null,
       "flex_flow": null,
       "grid_area": null,
       "grid_auto_columns": null,
       "grid_auto_flow": null,
       "grid_auto_rows": null,
       "grid_column": null,
       "grid_gap": null,
       "grid_row": null,
       "grid_template_areas": null,
       "grid_template_columns": null,
       "grid_template_rows": null,
       "height": null,
       "justify_content": null,
       "justify_items": null,
       "left": null,
       "margin": null,
       "max_height": null,
       "max_width": null,
       "min_height": null,
       "min_width": null,
       "object_fit": null,
       "object_position": null,
       "order": null,
       "overflow": null,
       "overflow_x": null,
       "overflow_y": null,
       "padding": null,
       "right": null,
       "top": null,
       "visibility": null,
       "width": null
      }
     },
     "3059a946943647d4b79958e000840ac3": {
      "model_module": "@jupyter-widgets/controls",
      "model_module_version": "1.5.0",
      "model_name": "HBoxModel",
      "state": {
       "_dom_classes": [],
       "_model_module": "@jupyter-widgets/controls",
       "_model_module_version": "1.5.0",
       "_model_name": "HBoxModel",
       "_view_count": null,
       "_view_module": "@jupyter-widgets/controls",
       "_view_module_version": "1.5.0",
       "_view_name": "HBoxView",
       "box_style": "",
       "children": [
        "IPY_MODEL_c0e94145694e41aabfd0dd5ae1646649",
        "IPY_MODEL_f7d12e3f73924ab59216bb31921e604a",
        "IPY_MODEL_6235b3da0650499eb8dac54fc5d447ae"
       ],
       "layout": "IPY_MODEL_16f9f72a30e347009386f8fbc70b7a0b"
      }
     },
     "32601ec39b3749da91d06cab803e211b": {
      "model_module": "@jupyter-widgets/controls",
      "model_module_version": "1.5.0",
      "model_name": "HTMLModel",
      "state": {
       "_dom_classes": [],
       "_model_module": "@jupyter-widgets/controls",
       "_model_module_version": "1.5.0",
       "_model_name": "HTMLModel",
       "_view_count": null,
       "_view_module": "@jupyter-widgets/controls",
       "_view_module_version": "1.5.0",
       "_view_name": "HTMLView",
       "description": "",
       "description_tooltip": null,
       "layout": "IPY_MODEL_5815e4320bb142539e7fcfd17dc8ef57",
       "placeholder": "​",
       "style": "IPY_MODEL_396ffbe971984b6e98aa8e9433a97a1b",
       "value": "Processing Data: 100%"
      }
     },
     "336c04b069d64119b0c39bff7c680bd1": {
      "model_module": "@jupyter-widgets/base",
      "model_module_version": "1.2.0",
      "model_name": "LayoutModel",
      "state": {
       "_model_module": "@jupyter-widgets/base",
       "_model_module_version": "1.2.0",
       "_model_name": "LayoutModel",
       "_view_count": null,
       "_view_module": "@jupyter-widgets/base",
       "_view_module_version": "1.2.0",
       "_view_name": "LayoutView",
       "align_content": null,
       "align_items": null,
       "align_self": null,
       "border": null,
       "bottom": null,
       "display": null,
       "flex": null,
       "flex_flow": null,
       "grid_area": null,
       "grid_auto_columns": null,
       "grid_auto_flow": null,
       "grid_auto_rows": null,
       "grid_column": null,
       "grid_gap": null,
       "grid_row": null,
       "grid_template_areas": null,
       "grid_template_columns": null,
       "grid_template_rows": null,
       "height": null,
       "justify_content": null,
       "justify_items": null,
       "left": null,
       "margin": null,
       "max_height": null,
       "max_width": null,
       "min_height": null,
       "min_width": null,
       "object_fit": null,
       "object_position": null,
       "order": null,
       "overflow": null,
       "overflow_x": null,
       "overflow_y": null,
       "padding": null,
       "right": null,
       "top": null,
       "visibility": null,
       "width": null
      }
     },
     "34f1b4fa4b1b4d61b06ab610459298c1": {
      "model_module": "@jupyter-widgets/controls",
      "model_module_version": "1.5.0",
      "model_name": "HTMLModel",
      "state": {
       "_dom_classes": [],
       "_model_module": "@jupyter-widgets/controls",
       "_model_module_version": "1.5.0",
       "_model_name": "HTMLModel",
       "_view_count": null,
       "_view_module": "@jupyter-widgets/controls",
       "_view_module_version": "1.5.0",
       "_view_name": "HTMLView",
       "description": "",
       "description_tooltip": null,
       "layout": "IPY_MODEL_7e1355d0ecf5491691f46df0c372b002",
       "placeholder": "​",
       "style": "IPY_MODEL_a216e02dcd9c4cfe8769ad5be9beebed",
       "value": "Processing Dates: 100%"
      }
     },
     "36d5b399eb48430a9303078b2fc556fa": {
      "model_module": "@jupyter-widgets/controls",
      "model_module_version": "1.5.0",
      "model_name": "ProgressStyleModel",
      "state": {
       "_model_module": "@jupyter-widgets/controls",
       "_model_module_version": "1.5.0",
       "_model_name": "ProgressStyleModel",
       "_view_count": null,
       "_view_module": "@jupyter-widgets/base",
       "_view_module_version": "1.2.0",
       "_view_name": "StyleView",
       "bar_color": null,
       "description_width": ""
      }
     },
     "396ffbe971984b6e98aa8e9433a97a1b": {
      "model_module": "@jupyter-widgets/controls",
      "model_module_version": "1.5.0",
      "model_name": "DescriptionStyleModel",
      "state": {
       "_model_module": "@jupyter-widgets/controls",
       "_model_module_version": "1.5.0",
       "_model_name": "DescriptionStyleModel",
       "_view_count": null,
       "_view_module": "@jupyter-widgets/base",
       "_view_module_version": "1.2.0",
       "_view_name": "StyleView",
       "description_width": ""
      }
     },
     "3f1229393e144dbdba27a784e221e33e": {
      "model_module": "@jupyter-widgets/base",
      "model_module_version": "1.2.0",
      "model_name": "LayoutModel",
      "state": {
       "_model_module": "@jupyter-widgets/base",
       "_model_module_version": "1.2.0",
       "_model_name": "LayoutModel",
       "_view_count": null,
       "_view_module": "@jupyter-widgets/base",
       "_view_module_version": "1.2.0",
       "_view_name": "LayoutView",
       "align_content": null,
       "align_items": null,
       "align_self": null,
       "border": null,
       "bottom": null,
       "display": null,
       "flex": null,
       "flex_flow": null,
       "grid_area": null,
       "grid_auto_columns": null,
       "grid_auto_flow": null,
       "grid_auto_rows": null,
       "grid_column": null,
       "grid_gap": null,
       "grid_row": null,
       "grid_template_areas": null,
       "grid_template_columns": null,
       "grid_template_rows": null,
       "height": null,
       "justify_content": null,
       "justify_items": null,
       "left": null,
       "margin": null,
       "max_height": null,
       "max_width": null,
       "min_height": null,
       "min_width": null,
       "object_fit": null,
       "object_position": null,
       "order": null,
       "overflow": null,
       "overflow_x": null,
       "overflow_y": null,
       "padding": null,
       "right": null,
       "top": null,
       "visibility": null,
       "width": null
      }
     },
     "425b81d683844079904eb40276bc111d": {
      "model_module": "@jupyter-widgets/base",
      "model_module_version": "1.2.0",
      "model_name": "LayoutModel",
      "state": {
       "_model_module": "@jupyter-widgets/base",
       "_model_module_version": "1.2.0",
       "_model_name": "LayoutModel",
       "_view_count": null,
       "_view_module": "@jupyter-widgets/base",
       "_view_module_version": "1.2.0",
       "_view_name": "LayoutView",
       "align_content": null,
       "align_items": null,
       "align_self": null,
       "border": null,
       "bottom": null,
       "display": null,
       "flex": null,
       "flex_flow": null,
       "grid_area": null,
       "grid_auto_columns": null,
       "grid_auto_flow": null,
       "grid_auto_rows": null,
       "grid_column": null,
       "grid_gap": null,
       "grid_row": null,
       "grid_template_areas": null,
       "grid_template_columns": null,
       "grid_template_rows": null,
       "height": null,
       "justify_content": null,
       "justify_items": null,
       "left": null,
       "margin": null,
       "max_height": null,
       "max_width": null,
       "min_height": null,
       "min_width": null,
       "object_fit": null,
       "object_position": null,
       "order": null,
       "overflow": null,
       "overflow_x": null,
       "overflow_y": null,
       "padding": null,
       "right": null,
       "top": null,
       "visibility": null,
       "width": null
      }
     },
     "4279cab527bb475ba3e956171bf52302": {
      "model_module": "@jupyter-widgets/base",
      "model_module_version": "1.2.0",
      "model_name": "LayoutModel",
      "state": {
       "_model_module": "@jupyter-widgets/base",
       "_model_module_version": "1.2.0",
       "_model_name": "LayoutModel",
       "_view_count": null,
       "_view_module": "@jupyter-widgets/base",
       "_view_module_version": "1.2.0",
       "_view_name": "LayoutView",
       "align_content": null,
       "align_items": null,
       "align_self": null,
       "border": null,
       "bottom": null,
       "display": null,
       "flex": null,
       "flex_flow": null,
       "grid_area": null,
       "grid_auto_columns": null,
       "grid_auto_flow": null,
       "grid_auto_rows": null,
       "grid_column": null,
       "grid_gap": null,
       "grid_row": null,
       "grid_template_areas": null,
       "grid_template_columns": null,
       "grid_template_rows": null,
       "height": null,
       "justify_content": null,
       "justify_items": null,
       "left": null,
       "margin": null,
       "max_height": null,
       "max_width": null,
       "min_height": null,
       "min_width": null,
       "object_fit": null,
       "object_position": null,
       "order": null,
       "overflow": null,
       "overflow_x": null,
       "overflow_y": null,
       "padding": null,
       "right": null,
       "top": null,
       "visibility": null,
       "width": null
      }
     },
     "462ec4474bfa4d6987751f21880c72a2": {
      "model_module": "@jupyter-widgets/controls",
      "model_module_version": "1.5.0",
      "model_name": "ProgressStyleModel",
      "state": {
       "_model_module": "@jupyter-widgets/controls",
       "_model_module_version": "1.5.0",
       "_model_name": "ProgressStyleModel",
       "_view_count": null,
       "_view_module": "@jupyter-widgets/base",
       "_view_module_version": "1.2.0",
       "_view_name": "StyleView",
       "bar_color": null,
       "description_width": ""
      }
     },
     "49c869290c1545569c4bce0bcf41912a": {
      "model_module": "@jupyter-widgets/base",
      "model_module_version": "1.2.0",
      "model_name": "LayoutModel",
      "state": {
       "_model_module": "@jupyter-widgets/base",
       "_model_module_version": "1.2.0",
       "_model_name": "LayoutModel",
       "_view_count": null,
       "_view_module": "@jupyter-widgets/base",
       "_view_module_version": "1.2.0",
       "_view_name": "LayoutView",
       "align_content": null,
       "align_items": null,
       "align_self": null,
       "border": null,
       "bottom": null,
       "display": null,
       "flex": null,
       "flex_flow": null,
       "grid_area": null,
       "grid_auto_columns": null,
       "grid_auto_flow": null,
       "grid_auto_rows": null,
       "grid_column": null,
       "grid_gap": null,
       "grid_row": null,
       "grid_template_areas": null,
       "grid_template_columns": null,
       "grid_template_rows": null,
       "height": null,
       "justify_content": null,
       "justify_items": null,
       "left": null,
       "margin": null,
       "max_height": null,
       "max_width": null,
       "min_height": null,
       "min_width": null,
       "object_fit": null,
       "object_position": null,
       "order": null,
       "overflow": null,
       "overflow_x": null,
       "overflow_y": null,
       "padding": null,
       "right": null,
       "top": null,
       "visibility": null,
       "width": null
      }
     },
     "545e361f1c9c4c2cbb68c44f7541ff4f": {
      "model_module": "@jupyter-widgets/controls",
      "model_module_version": "1.5.0",
      "model_name": "DescriptionStyleModel",
      "state": {
       "_model_module": "@jupyter-widgets/controls",
       "_model_module_version": "1.5.0",
       "_model_name": "DescriptionStyleModel",
       "_view_count": null,
       "_view_module": "@jupyter-widgets/base",
       "_view_module_version": "1.2.0",
       "_view_name": "StyleView",
       "description_width": ""
      }
     },
     "55ac107253ab41b89b0920e790d18a27": {
      "model_module": "@jupyter-widgets/controls",
      "model_module_version": "1.5.0",
      "model_name": "FloatProgressModel",
      "state": {
       "_dom_classes": [],
       "_model_module": "@jupyter-widgets/controls",
       "_model_module_version": "1.5.0",
       "_model_name": "FloatProgressModel",
       "_view_count": null,
       "_view_module": "@jupyter-widgets/controls",
       "_view_module_version": "1.5.0",
       "_view_name": "ProgressView",
       "bar_style": "success",
       "description": "",
       "description_tooltip": null,
       "layout": "IPY_MODEL_49c869290c1545569c4bce0bcf41912a",
       "max": 1279463.0,
       "min": 0.0,
       "orientation": "horizontal",
       "style": "IPY_MODEL_df85f9f50ece41dfaf9d0752bd9a991b",
       "value": 1279463.0
      }
     },
     "5815e4320bb142539e7fcfd17dc8ef57": {
      "model_module": "@jupyter-widgets/base",
      "model_module_version": "1.2.0",
      "model_name": "LayoutModel",
      "state": {
       "_model_module": "@jupyter-widgets/base",
       "_model_module_version": "1.2.0",
       "_model_name": "LayoutModel",
       "_view_count": null,
       "_view_module": "@jupyter-widgets/base",
       "_view_module_version": "1.2.0",
       "_view_name": "LayoutView",
       "align_content": null,
       "align_items": null,
       "align_self": null,
       "border": null,
       "bottom": null,
       "display": null,
       "flex": null,
       "flex_flow": null,
       "grid_area": null,
       "grid_auto_columns": null,
       "grid_auto_flow": null,
       "grid_auto_rows": null,
       "grid_column": null,
       "grid_gap": null,
       "grid_row": null,
       "grid_template_areas": null,
       "grid_template_columns": null,
       "grid_template_rows": null,
       "height": null,
       "justify_content": null,
       "justify_items": null,
       "left": null,
       "margin": null,
       "max_height": null,
       "max_width": null,
       "min_height": null,
       "min_width": null,
       "object_fit": null,
       "object_position": null,
       "order": null,
       "overflow": null,
       "overflow_x": null,
       "overflow_y": null,
       "padding": null,
       "right": null,
       "top": null,
       "visibility": null,
       "width": null
      }
     },
     "5e04dc530c264900978de21409407909": {
      "model_module": "@jupyter-widgets/controls",
      "model_module_version": "1.5.0",
      "model_name": "HBoxModel",
      "state": {
       "_dom_classes": [],
       "_model_module": "@jupyter-widgets/controls",
       "_model_module_version": "1.5.0",
       "_model_name": "HBoxModel",
       "_view_count": null,
       "_view_module": "@jupyter-widgets/controls",
       "_view_module_version": "1.5.0",
       "_view_name": "HBoxView",
       "box_style": "",
       "children": [
        "IPY_MODEL_9774866c307b42908ae3f46dd279d7b3",
        "IPY_MODEL_0df3685eeadd44bd82425c5888d75606",
        "IPY_MODEL_1f91d7c92cba403eb626fc3c524092a7"
       ],
       "layout": "IPY_MODEL_336c04b069d64119b0c39bff7c680bd1"
      }
     },
     "60586ae1d3084291a7c5876fd4f3bdd8": {
      "model_module": "@jupyter-widgets/controls",
      "model_module_version": "1.5.0",
      "model_name": "FloatProgressModel",
      "state": {
       "_dom_classes": [],
       "_model_module": "@jupyter-widgets/controls",
       "_model_module_version": "1.5.0",
       "_model_name": "FloatProgressModel",
       "_view_count": null,
       "_view_module": "@jupyter-widgets/controls",
       "_view_module_version": "1.5.0",
       "_view_name": "ProgressView",
       "bar_style": "success",
       "description": "",
       "description_tooltip": null,
       "layout": "IPY_MODEL_6c80b52b31a94dad9c6fb4b5765f3203",
       "max": 678.0,
       "min": 0.0,
       "orientation": "horizontal",
       "style": "IPY_MODEL_6ec27c766b2b42309957517755c6c06d",
       "value": 678.0
      }
     },
     "6235b3da0650499eb8dac54fc5d447ae": {
      "model_module": "@jupyter-widgets/controls",
      "model_module_version": "1.5.0",
      "model_name": "HTMLModel",
      "state": {
       "_dom_classes": [],
       "_model_module": "@jupyter-widgets/controls",
       "_model_module_version": "1.5.0",
       "_model_name": "HTMLModel",
       "_view_count": null,
       "_view_module": "@jupyter-widgets/controls",
       "_view_module_version": "1.5.0",
       "_view_name": "HTMLView",
       "description": "",
       "description_tooltip": null,
       "layout": "IPY_MODEL_ffb2aa1a5dc8489ab9c244091422d150",
       "placeholder": "​",
       "style": "IPY_MODEL_a413fd4d2ef746b6b6db8d2537a6046b",
       "value": " 1279463/1279463 [00:02&lt;00:00, 510029.15it/s]"
      }
     },
     "625e3613d8ee4acb869ea96b7fa842fe": {
      "model_module": "@jupyter-widgets/controls",
      "model_module_version": "1.5.0",
      "model_name": "FloatProgressModel",
      "state": {
       "_dom_classes": [],
       "_model_module": "@jupyter-widgets/controls",
       "_model_module_version": "1.5.0",
       "_model_name": "FloatProgressModel",
       "_view_count": null,
       "_view_module": "@jupyter-widgets/controls",
       "_view_module_version": "1.5.0",
       "_view_name": "ProgressView",
       "bar_style": "success",
       "description": "",
       "description_tooltip": null,
       "layout": "IPY_MODEL_bfc98937055c48b09f5071ef46e2e49a",
       "max": 1279463.0,
       "min": 0.0,
       "orientation": "horizontal",
       "style": "IPY_MODEL_462ec4474bfa4d6987751f21880c72a2",
       "value": 1279463.0
      }
     },
     "69c1183a660a44788bf6fe4059b5d1a4": {
      "model_module": "@jupyter-widgets/controls",
      "model_module_version": "1.5.0",
      "model_name": "FloatProgressModel",
      "state": {
       "_dom_classes": [],
       "_model_module": "@jupyter-widgets/controls",
       "_model_module_version": "1.5.0",
       "_model_name": "FloatProgressModel",
       "_view_count": null,
       "_view_module": "@jupyter-widgets/controls",
       "_view_module_version": "1.5.0",
       "_view_name": "ProgressView",
       "bar_style": "success",
       "description": "",
       "description_tooltip": null,
       "layout": "IPY_MODEL_b7a10f2953a34c48ba5eee6a4354f732",
       "max": 1279463.0,
       "min": 0.0,
       "orientation": "horizontal",
       "style": "IPY_MODEL_b470f0e981684d208a3691a6cc4b57ba",
       "value": 1279463.0
      }
     },
     "6c80b52b31a94dad9c6fb4b5765f3203": {
      "model_module": "@jupyter-widgets/base",
      "model_module_version": "1.2.0",
      "model_name": "LayoutModel",
      "state": {
       "_model_module": "@jupyter-widgets/base",
       "_model_module_version": "1.2.0",
       "_model_name": "LayoutModel",
       "_view_count": null,
       "_view_module": "@jupyter-widgets/base",
       "_view_module_version": "1.2.0",
       "_view_name": "LayoutView",
       "align_content": null,
       "align_items": null,
       "align_self": null,
       "border": null,
       "bottom": null,
       "display": null,
       "flex": null,
       "flex_flow": null,
       "grid_area": null,
       "grid_auto_columns": null,
       "grid_auto_flow": null,
       "grid_auto_rows": null,
       "grid_column": null,
       "grid_gap": null,
       "grid_row": null,
       "grid_template_areas": null,
       "grid_template_columns": null,
       "grid_template_rows": null,
       "height": null,
       "justify_content": null,
       "justify_items": null,
       "left": null,
       "margin": null,
       "max_height": null,
       "max_width": null,
       "min_height": null,
       "min_width": null,
       "object_fit": null,
       "object_position": null,
       "order": null,
       "overflow": null,
       "overflow_x": null,
       "overflow_y": null,
       "padding": null,
       "right": null,
       "top": null,
       "visibility": null,
       "width": null
      }
     },
     "6ec27c766b2b42309957517755c6c06d": {
      "model_module": "@jupyter-widgets/controls",
      "model_module_version": "1.5.0",
      "model_name": "ProgressStyleModel",
      "state": {
       "_model_module": "@jupyter-widgets/controls",
       "_model_module_version": "1.5.0",
       "_model_name": "ProgressStyleModel",
       "_view_count": null,
       "_view_module": "@jupyter-widgets/base",
       "_view_module_version": "1.2.0",
       "_view_name": "StyleView",
       "bar_color": null,
       "description_width": ""
      }
     },
     "7a355e9a480a46858761d810fec12e8e": {
      "model_module": "@jupyter-widgets/controls",
      "model_module_version": "1.5.0",
      "model_name": "DescriptionStyleModel",
      "state": {
       "_model_module": "@jupyter-widgets/controls",
       "_model_module_version": "1.5.0",
       "_model_name": "DescriptionStyleModel",
       "_view_count": null,
       "_view_module": "@jupyter-widgets/base",
       "_view_module_version": "1.2.0",
       "_view_name": "StyleView",
       "description_width": ""
      }
     },
     "7c30eab62ece45f5a00225e5f46d8ea7": {
      "model_module": "@jupyter-widgets/controls",
      "model_module_version": "1.5.0",
      "model_name": "DescriptionStyleModel",
      "state": {
       "_model_module": "@jupyter-widgets/controls",
       "_model_module_version": "1.5.0",
       "_model_name": "DescriptionStyleModel",
       "_view_count": null,
       "_view_module": "@jupyter-widgets/base",
       "_view_module_version": "1.2.0",
       "_view_name": "StyleView",
       "description_width": ""
      }
     },
     "7e1355d0ecf5491691f46df0c372b002": {
      "model_module": "@jupyter-widgets/base",
      "model_module_version": "1.2.0",
      "model_name": "LayoutModel",
      "state": {
       "_model_module": "@jupyter-widgets/base",
       "_model_module_version": "1.2.0",
       "_model_name": "LayoutModel",
       "_view_count": null,
       "_view_module": "@jupyter-widgets/base",
       "_view_module_version": "1.2.0",
       "_view_name": "LayoutView",
       "align_content": null,
       "align_items": null,
       "align_self": null,
       "border": null,
       "bottom": null,
       "display": null,
       "flex": null,
       "flex_flow": null,
       "grid_area": null,
       "grid_auto_columns": null,
       "grid_auto_flow": null,
       "grid_auto_rows": null,
       "grid_column": null,
       "grid_gap": null,
       "grid_row": null,
       "grid_template_areas": null,
       "grid_template_columns": null,
       "grid_template_rows": null,
       "height": null,
       "justify_content": null,
       "justify_items": null,
       "left": null,
       "margin": null,
       "max_height": null,
       "max_width": null,
       "min_height": null,
       "min_width": null,
       "object_fit": null,
       "object_position": null,
       "order": null,
       "overflow": null,
       "overflow_x": null,
       "overflow_y": null,
       "padding": null,
       "right": null,
       "top": null,
       "visibility": null,
       "width": null
      }
     },
     "7fba1a860d064db990df3fa658ad06cc": {
      "model_module": "@jupyter-widgets/controls",
      "model_module_version": "1.5.0",
      "model_name": "HBoxModel",
      "state": {
       "_dom_classes": [],
       "_model_module": "@jupyter-widgets/controls",
       "_model_module_version": "1.5.0",
       "_model_name": "HBoxModel",
       "_view_count": null,
       "_view_module": "@jupyter-widgets/controls",
       "_view_module_version": "1.5.0",
       "_view_name": "HBoxView",
       "box_style": "",
       "children": [
        "IPY_MODEL_044bb3c84daa4399b93938244b079dd3",
        "IPY_MODEL_69c1183a660a44788bf6fe4059b5d1a4",
        "IPY_MODEL_1456f07062d844708b897dcbff974a65"
       ],
       "layout": "IPY_MODEL_f264621c210b483c9f41bd2735f4d471"
      }
     },
     "8405d141303d4ba29e671ac9ece1a6ae": {
      "model_module": "@jupyter-widgets/controls",
      "model_module_version": "1.5.0",
      "model_name": "DescriptionStyleModel",
      "state": {
       "_model_module": "@jupyter-widgets/controls",
       "_model_module_version": "1.5.0",
       "_model_name": "DescriptionStyleModel",
       "_view_count": null,
       "_view_module": "@jupyter-widgets/base",
       "_view_module_version": "1.2.0",
       "_view_name": "StyleView",
       "description_width": ""
      }
     },
     "86ec8cc767864349a39048a5e4f0b611": {
      "model_module": "@jupyter-widgets/controls",
      "model_module_version": "1.5.0",
      "model_name": "DescriptionStyleModel",
      "state": {
       "_model_module": "@jupyter-widgets/controls",
       "_model_module_version": "1.5.0",
       "_model_name": "DescriptionStyleModel",
       "_view_count": null,
       "_view_module": "@jupyter-widgets/base",
       "_view_module_version": "1.2.0",
       "_view_name": "StyleView",
       "description_width": ""
      }
     },
     "8c47b8c927fc43db9022a2bd16aec3f1": {
      "model_module": "@jupyter-widgets/controls",
      "model_module_version": "1.5.0",
      "model_name": "HTMLModel",
      "state": {
       "_dom_classes": [],
       "_model_module": "@jupyter-widgets/controls",
       "_model_module_version": "1.5.0",
       "_model_name": "HTMLModel",
       "_view_count": null,
       "_view_module": "@jupyter-widgets/controls",
       "_view_module_version": "1.5.0",
       "_view_name": "HTMLView",
       "description": "",
       "description_tooltip": null,
       "layout": "IPY_MODEL_20a22a89f4614281a19e6153b3851f89",
       "placeholder": "​",
       "style": "IPY_MODEL_86ec8cc767864349a39048a5e4f0b611",
       "value": " 1279463/1279463 [02:41&lt;00:00, 8139.14it/s]"
      }
     },
     "8feb123c214e44f8a5caea554d643f92": {
      "model_module": "@jupyter-widgets/base",
      "model_module_version": "1.2.0",
      "model_name": "LayoutModel",
      "state": {
       "_model_module": "@jupyter-widgets/base",
       "_model_module_version": "1.2.0",
       "_model_name": "LayoutModel",
       "_view_count": null,
       "_view_module": "@jupyter-widgets/base",
       "_view_module_version": "1.2.0",
       "_view_name": "LayoutView",
       "align_content": null,
       "align_items": null,
       "align_self": null,
       "border": null,
       "bottom": null,
       "display": null,
       "flex": null,
       "flex_flow": null,
       "grid_area": null,
       "grid_auto_columns": null,
       "grid_auto_flow": null,
       "grid_auto_rows": null,
       "grid_column": null,
       "grid_gap": null,
       "grid_row": null,
       "grid_template_areas": null,
       "grid_template_columns": null,
       "grid_template_rows": null,
       "height": null,
       "justify_content": null,
       "justify_items": null,
       "left": null,
       "margin": null,
       "max_height": null,
       "max_width": null,
       "min_height": null,
       "min_width": null,
       "object_fit": null,
       "object_position": null,
       "order": null,
       "overflow": null,
       "overflow_x": null,
       "overflow_y": null,
       "padding": null,
       "right": null,
       "top": null,
       "visibility": null,
       "width": null
      }
     },
     "95a19ac4c1fa4f78ba40225709bd5c47": {
      "model_module": "@jupyter-widgets/controls",
      "model_module_version": "1.5.0",
      "model_name": "HTMLModel",
      "state": {
       "_dom_classes": [],
       "_model_module": "@jupyter-widgets/controls",
       "_model_module_version": "1.5.0",
       "_model_name": "HTMLModel",
       "_view_count": null,
       "_view_module": "@jupyter-widgets/controls",
       "_view_module_version": "1.5.0",
       "_view_name": "HTMLView",
       "description": "",
       "description_tooltip": null,
       "layout": "IPY_MODEL_fa931cd362fd4679b554566d2862c306",
       "placeholder": "​",
       "style": "IPY_MODEL_cde5c1291dd84366b623372a1085512a",
       "value": " 450/450 [00:00&lt;00:00, 30332.45it/s]"
      }
     },
     "9774866c307b42908ae3f46dd279d7b3": {
      "model_module": "@jupyter-widgets/controls",
      "model_module_version": "1.5.0",
      "model_name": "HTMLModel",
      "state": {
       "_dom_classes": [],
       "_model_module": "@jupyter-widgets/controls",
       "_model_module_version": "1.5.0",
       "_model_name": "HTMLModel",
       "_view_count": null,
       "_view_module": "@jupyter-widgets/controls",
       "_view_module_version": "1.5.0",
       "_view_name": "HTMLView",
       "description": "",
       "description_tooltip": null,
       "layout": "IPY_MODEL_e954d132091044f0aff4101925994c55",
       "placeholder": "​",
       "style": "IPY_MODEL_d82ea3d7c17145a1a316c5f64e074c40",
       "value": "One-Hot Encoding: 100%"
      }
     },
     "9a44a1d01d1e47d7aa4b0590f578885d": {
      "model_module": "@jupyter-widgets/base",
      "model_module_version": "1.2.0",
      "model_name": "LayoutModel",
      "state": {
       "_model_module": "@jupyter-widgets/base",
       "_model_module_version": "1.2.0",
       "_model_name": "LayoutModel",
       "_view_count": null,
       "_view_module": "@jupyter-widgets/base",
       "_view_module_version": "1.2.0",
       "_view_name": "LayoutView",
       "align_content": null,
       "align_items": null,
       "align_self": null,
       "border": null,
       "bottom": null,
       "display": null,
       "flex": null,
       "flex_flow": null,
       "grid_area": null,
       "grid_auto_columns": null,
       "grid_auto_flow": null,
       "grid_auto_rows": null,
       "grid_column": null,
       "grid_gap": null,
       "grid_row": null,
       "grid_template_areas": null,
       "grid_template_columns": null,
       "grid_template_rows": null,
       "height": null,
       "justify_content": null,
       "justify_items": null,
       "left": null,
       "margin": null,
       "max_height": null,
       "max_width": null,
       "min_height": null,
       "min_width": null,
       "object_fit": null,
       "object_position": null,
       "order": null,
       "overflow": null,
       "overflow_x": null,
       "overflow_y": null,
       "padding": null,
       "right": null,
       "top": null,
       "visibility": null,
       "width": null
      }
     },
     "9bb41b42c2ca4d359c965d0e674f643e": {
      "model_module": "@jupyter-widgets/controls",
      "model_module_version": "1.5.0",
      "model_name": "HTMLModel",
      "state": {
       "_dom_classes": [],
       "_model_module": "@jupyter-widgets/controls",
       "_model_module_version": "1.5.0",
       "_model_name": "HTMLModel",
       "_view_count": null,
       "_view_module": "@jupyter-widgets/controls",
       "_view_module_version": "1.5.0",
       "_view_name": "HTMLView",
       "description": "",
       "description_tooltip": null,
       "layout": "IPY_MODEL_ecc89f7516da40ca94e77bbc42b6710e",
       "placeholder": "​",
       "style": "IPY_MODEL_21a50fd18d6b4659816b206fa21d0dc6",
       "value": "Processing time features: 100%"
      }
     },
     "a216e02dcd9c4cfe8769ad5be9beebed": {
      "model_module": "@jupyter-widgets/controls",
      "model_module_version": "1.5.0",
      "model_name": "DescriptionStyleModel",
      "state": {
       "_model_module": "@jupyter-widgets/controls",
       "_model_module_version": "1.5.0",
       "_model_name": "DescriptionStyleModel",
       "_view_count": null,
       "_view_module": "@jupyter-widgets/base",
       "_view_module_version": "1.2.0",
       "_view_name": "StyleView",
       "description_width": ""
      }
     },
     "a413fd4d2ef746b6b6db8d2537a6046b": {
      "model_module": "@jupyter-widgets/controls",
      "model_module_version": "1.5.0",
      "model_name": "DescriptionStyleModel",
      "state": {
       "_model_module": "@jupyter-widgets/controls",
       "_model_module_version": "1.5.0",
       "_model_name": "DescriptionStyleModel",
       "_view_count": null,
       "_view_module": "@jupyter-widgets/base",
       "_view_module_version": "1.2.0",
       "_view_name": "StyleView",
       "description_width": ""
      }
     },
     "ab77d0b175364fdfaf4cd89d5e996afe": {
      "model_module": "@jupyter-widgets/controls",
      "model_module_version": "1.5.0",
      "model_name": "HBoxModel",
      "state": {
       "_dom_classes": [],
       "_model_module": "@jupyter-widgets/controls",
       "_model_module_version": "1.5.0",
       "_model_name": "HBoxModel",
       "_view_count": null,
       "_view_module": "@jupyter-widgets/controls",
       "_view_module_version": "1.5.0",
       "_view_name": "HBoxView",
       "box_style": "",
       "children": [
        "IPY_MODEL_32601ec39b3749da91d06cab803e211b",
        "IPY_MODEL_55ac107253ab41b89b0920e790d18a27",
        "IPY_MODEL_f33f586de0d3443fa9447922fc0c9f3f"
       ],
       "layout": "IPY_MODEL_dc1f47cb5dfb4ba3afe80584dd70296d"
      }
     },
     "abeaa9cf7d5d4da98df2050bedad320a": {
      "model_module": "@jupyter-widgets/base",
      "model_module_version": "1.2.0",
      "model_name": "LayoutModel",
      "state": {
       "_model_module": "@jupyter-widgets/base",
       "_model_module_version": "1.2.0",
       "_model_name": "LayoutModel",
       "_view_count": null,
       "_view_module": "@jupyter-widgets/base",
       "_view_module_version": "1.2.0",
       "_view_name": "LayoutView",
       "align_content": null,
       "align_items": null,
       "align_self": null,
       "border": null,
       "bottom": null,
       "display": null,
       "flex": null,
       "flex_flow": null,
       "grid_area": null,
       "grid_auto_columns": null,
       "grid_auto_flow": null,
       "grid_auto_rows": null,
       "grid_column": null,
       "grid_gap": null,
       "grid_row": null,
       "grid_template_areas": null,
       "grid_template_columns": null,
       "grid_template_rows": null,
       "height": null,
       "justify_content": null,
       "justify_items": null,
       "left": null,
       "margin": null,
       "max_height": null,
       "max_width": null,
       "min_height": null,
       "min_width": null,
       "object_fit": null,
       "object_position": null,
       "order": null,
       "overflow": null,
       "overflow_x": null,
       "overflow_y": null,
       "padding": null,
       "right": null,
       "top": null,
       "visibility": null,
       "width": null
      }
     },
     "ae6822df46134b15ab2721fe086e26f3": {
      "model_module": "@jupyter-widgets/base",
      "model_module_version": "1.2.0",
      "model_name": "LayoutModel",
      "state": {
       "_model_module": "@jupyter-widgets/base",
       "_model_module_version": "1.2.0",
       "_model_name": "LayoutModel",
       "_view_count": null,
       "_view_module": "@jupyter-widgets/base",
       "_view_module_version": "1.2.0",
       "_view_name": "LayoutView",
       "align_content": null,
       "align_items": null,
       "align_self": null,
       "border": null,
       "bottom": null,
       "display": null,
       "flex": null,
       "flex_flow": null,
       "grid_area": null,
       "grid_auto_columns": null,
       "grid_auto_flow": null,
       "grid_auto_rows": null,
       "grid_column": null,
       "grid_gap": null,
       "grid_row": null,
       "grid_template_areas": null,
       "grid_template_columns": null,
       "grid_template_rows": null,
       "height": null,
       "justify_content": null,
       "justify_items": null,
       "left": null,
       "margin": null,
       "max_height": null,
       "max_width": null,
       "min_height": null,
       "min_width": null,
       "object_fit": null,
       "object_position": null,
       "order": null,
       "overflow": null,
       "overflow_x": null,
       "overflow_y": null,
       "padding": null,
       "right": null,
       "top": null,
       "visibility": null,
       "width": null
      }
     },
     "b36ca95083ce4c07aaaf5574cab094f7": {
      "model_module": "@jupyter-widgets/base",
      "model_module_version": "1.2.0",
      "model_name": "LayoutModel",
      "state": {
       "_model_module": "@jupyter-widgets/base",
       "_model_module_version": "1.2.0",
       "_model_name": "LayoutModel",
       "_view_count": null,
       "_view_module": "@jupyter-widgets/base",
       "_view_module_version": "1.2.0",
       "_view_name": "LayoutView",
       "align_content": null,
       "align_items": null,
       "align_self": null,
       "border": null,
       "bottom": null,
       "display": null,
       "flex": null,
       "flex_flow": null,
       "grid_area": null,
       "grid_auto_columns": null,
       "grid_auto_flow": null,
       "grid_auto_rows": null,
       "grid_column": null,
       "grid_gap": null,
       "grid_row": null,
       "grid_template_areas": null,
       "grid_template_columns": null,
       "grid_template_rows": null,
       "height": null,
       "justify_content": null,
       "justify_items": null,
       "left": null,
       "margin": null,
       "max_height": null,
       "max_width": null,
       "min_height": null,
       "min_width": null,
       "object_fit": null,
       "object_position": null,
       "order": null,
       "overflow": null,
       "overflow_x": null,
       "overflow_y": null,
       "padding": null,
       "right": null,
       "top": null,
       "visibility": null,
       "width": null
      }
     },
     "b470f0e981684d208a3691a6cc4b57ba": {
      "model_module": "@jupyter-widgets/controls",
      "model_module_version": "1.5.0",
      "model_name": "ProgressStyleModel",
      "state": {
       "_model_module": "@jupyter-widgets/controls",
       "_model_module_version": "1.5.0",
       "_model_name": "ProgressStyleModel",
       "_view_count": null,
       "_view_module": "@jupyter-widgets/base",
       "_view_module_version": "1.2.0",
       "_view_name": "StyleView",
       "bar_color": null,
       "description_width": ""
      }
     },
     "b7a10f2953a34c48ba5eee6a4354f732": {
      "model_module": "@jupyter-widgets/base",
      "model_module_version": "1.2.0",
      "model_name": "LayoutModel",
      "state": {
       "_model_module": "@jupyter-widgets/base",
       "_model_module_version": "1.2.0",
       "_model_name": "LayoutModel",
       "_view_count": null,
       "_view_module": "@jupyter-widgets/base",
       "_view_module_version": "1.2.0",
       "_view_name": "LayoutView",
       "align_content": null,
       "align_items": null,
       "align_self": null,
       "border": null,
       "bottom": null,
       "display": null,
       "flex": null,
       "flex_flow": null,
       "grid_area": null,
       "grid_auto_columns": null,
       "grid_auto_flow": null,
       "grid_auto_rows": null,
       "grid_column": null,
       "grid_gap": null,
       "grid_row": null,
       "grid_template_areas": null,
       "grid_template_columns": null,
       "grid_template_rows": null,
       "height": null,
       "justify_content": null,
       "justify_items": null,
       "left": null,
       "margin": null,
       "max_height": null,
       "max_width": null,
       "min_height": null,
       "min_width": null,
       "object_fit": null,
       "object_position": null,
       "order": null,
       "overflow": null,
       "overflow_x": null,
       "overflow_y": null,
       "padding": null,
       "right": null,
       "top": null,
       "visibility": null,
       "width": null
      }
     },
     "bfc98937055c48b09f5071ef46e2e49a": {
      "model_module": "@jupyter-widgets/base",
      "model_module_version": "1.2.0",
      "model_name": "LayoutModel",
      "state": {
       "_model_module": "@jupyter-widgets/base",
       "_model_module_version": "1.2.0",
       "_model_name": "LayoutModel",
       "_view_count": null,
       "_view_module": "@jupyter-widgets/base",
       "_view_module_version": "1.2.0",
       "_view_name": "LayoutView",
       "align_content": null,
       "align_items": null,
       "align_self": null,
       "border": null,
       "bottom": null,
       "display": null,
       "flex": null,
       "flex_flow": null,
       "grid_area": null,
       "grid_auto_columns": null,
       "grid_auto_flow": null,
       "grid_auto_rows": null,
       "grid_column": null,
       "grid_gap": null,
       "grid_row": null,
       "grid_template_areas": null,
       "grid_template_columns": null,
       "grid_template_rows": null,
       "height": null,
       "justify_content": null,
       "justify_items": null,
       "left": null,
       "margin": null,
       "max_height": null,
       "max_width": null,
       "min_height": null,
       "min_width": null,
       "object_fit": null,
       "object_position": null,
       "order": null,
       "overflow": null,
       "overflow_x": null,
       "overflow_y": null,
       "padding": null,
       "right": null,
       "top": null,
       "visibility": null,
       "width": null
      }
     },
     "c0e94145694e41aabfd0dd5ae1646649": {
      "model_module": "@jupyter-widgets/controls",
      "model_module_version": "1.5.0",
      "model_name": "HTMLModel",
      "state": {
       "_dom_classes": [],
       "_model_module": "@jupyter-widgets/controls",
       "_model_module_version": "1.5.0",
       "_model_name": "HTMLModel",
       "_view_count": null,
       "_view_module": "@jupyter-widgets/controls",
       "_view_module_version": "1.5.0",
       "_view_name": "HTMLView",
       "description": "",
       "description_tooltip": null,
       "layout": "IPY_MODEL_2cc6b7f8482c421d9468bcce92a226aa",
       "placeholder": "​",
       "style": "IPY_MODEL_8405d141303d4ba29e671ac9ece1a6ae",
       "value": "Mapping Seasons: 100%"
      }
     },
     "cde5c1291dd84366b623372a1085512a": {
      "model_module": "@jupyter-widgets/controls",
      "model_module_version": "1.5.0",
      "model_name": "DescriptionStyleModel",
      "state": {
       "_model_module": "@jupyter-widgets/controls",
       "_model_module_version": "1.5.0",
       "_model_name": "DescriptionStyleModel",
       "_view_count": null,
       "_view_module": "@jupyter-widgets/base",
       "_view_module_version": "1.2.0",
       "_view_name": "StyleView",
       "description_width": ""
      }
     },
     "d6889f1cbfe942149c4736c7f3003d44": {
      "model_module": "@jupyter-widgets/controls",
      "model_module_version": "1.5.0",
      "model_name": "DescriptionStyleModel",
      "state": {
       "_model_module": "@jupyter-widgets/controls",
       "_model_module_version": "1.5.0",
       "_model_name": "DescriptionStyleModel",
       "_view_count": null,
       "_view_module": "@jupyter-widgets/base",
       "_view_module_version": "1.2.0",
       "_view_name": "StyleView",
       "description_width": ""
      }
     },
     "d82ea3d7c17145a1a316c5f64e074c40": {
      "model_module": "@jupyter-widgets/controls",
      "model_module_version": "1.5.0",
      "model_name": "DescriptionStyleModel",
      "state": {
       "_model_module": "@jupyter-widgets/controls",
       "_model_module_version": "1.5.0",
       "_model_name": "DescriptionStyleModel",
       "_view_count": null,
       "_view_module": "@jupyter-widgets/base",
       "_view_module_version": "1.2.0",
       "_view_name": "StyleView",
       "description_width": ""
      }
     },
     "dc1f47cb5dfb4ba3afe80584dd70296d": {
      "model_module": "@jupyter-widgets/base",
      "model_module_version": "1.2.0",
      "model_name": "LayoutModel",
      "state": {
       "_model_module": "@jupyter-widgets/base",
       "_model_module_version": "1.2.0",
       "_model_name": "LayoutModel",
       "_view_count": null,
       "_view_module": "@jupyter-widgets/base",
       "_view_module_version": "1.2.0",
       "_view_name": "LayoutView",
       "align_content": null,
       "align_items": null,
       "align_self": null,
       "border": null,
       "bottom": null,
       "display": null,
       "flex": null,
       "flex_flow": null,
       "grid_area": null,
       "grid_auto_columns": null,
       "grid_auto_flow": null,
       "grid_auto_rows": null,
       "grid_column": null,
       "grid_gap": null,
       "grid_row": null,
       "grid_template_areas": null,
       "grid_template_columns": null,
       "grid_template_rows": null,
       "height": null,
       "justify_content": null,
       "justify_items": null,
       "left": null,
       "margin": null,
       "max_height": null,
       "max_width": null,
       "min_height": null,
       "min_width": null,
       "object_fit": null,
       "object_position": null,
       "order": null,
       "overflow": null,
       "overflow_x": null,
       "overflow_y": null,
       "padding": null,
       "right": null,
       "top": null,
       "visibility": null,
       "width": null
      }
     },
     "df85f9f50ece41dfaf9d0752bd9a991b": {
      "model_module": "@jupyter-widgets/controls",
      "model_module_version": "1.5.0",
      "model_name": "ProgressStyleModel",
      "state": {
       "_model_module": "@jupyter-widgets/controls",
       "_model_module_version": "1.5.0",
       "_model_name": "ProgressStyleModel",
       "_view_count": null,
       "_view_module": "@jupyter-widgets/base",
       "_view_module_version": "1.2.0",
       "_view_name": "StyleView",
       "bar_color": null,
       "description_width": ""
      }
     },
     "e55cb84f2a6b49b8a6e40694957d621c": {
      "model_module": "@jupyter-widgets/controls",
      "model_module_version": "1.5.0",
      "model_name": "HBoxModel",
      "state": {
       "_dom_classes": [],
       "_model_module": "@jupyter-widgets/controls",
       "_model_module_version": "1.5.0",
       "_model_name": "HBoxModel",
       "_view_count": null,
       "_view_module": "@jupyter-widgets/controls",
       "_view_module_version": "1.5.0",
       "_view_name": "HBoxView",
       "box_style": "",
       "children": [
        "IPY_MODEL_014d37173e2f481fb306a41fb5d0226c",
        "IPY_MODEL_eeea25e001fd4b5684407d6144043ec6",
        "IPY_MODEL_95a19ac4c1fa4f78ba40225709bd5c47"
       ],
       "layout": "IPY_MODEL_4279cab527bb475ba3e956171bf52302"
      }
     },
     "e954d132091044f0aff4101925994c55": {
      "model_module": "@jupyter-widgets/base",
      "model_module_version": "1.2.0",
      "model_name": "LayoutModel",
      "state": {
       "_model_module": "@jupyter-widgets/base",
       "_model_module_version": "1.2.0",
       "_model_name": "LayoutModel",
       "_view_count": null,
       "_view_module": "@jupyter-widgets/base",
       "_view_module_version": "1.2.0",
       "_view_name": "LayoutView",
       "align_content": null,
       "align_items": null,
       "align_self": null,
       "border": null,
       "bottom": null,
       "display": null,
       "flex": null,
       "flex_flow": null,
       "grid_area": null,
       "grid_auto_columns": null,
       "grid_auto_flow": null,
       "grid_auto_rows": null,
       "grid_column": null,
       "grid_gap": null,
       "grid_row": null,
       "grid_template_areas": null,
       "grid_template_columns": null,
       "grid_template_rows": null,
       "height": null,
       "justify_content": null,
       "justify_items": null,
       "left": null,
       "margin": null,
       "max_height": null,
       "max_width": null,
       "min_height": null,
       "min_width": null,
       "object_fit": null,
       "object_position": null,
       "order": null,
       "overflow": null,
       "overflow_x": null,
       "overflow_y": null,
       "padding": null,
       "right": null,
       "top": null,
       "visibility": null,
       "width": null
      }
     },
     "ecc89f7516da40ca94e77bbc42b6710e": {
      "model_module": "@jupyter-widgets/base",
      "model_module_version": "1.2.0",
      "model_name": "LayoutModel",
      "state": {
       "_model_module": "@jupyter-widgets/base",
       "_model_module_version": "1.2.0",
       "_model_name": "LayoutModel",
       "_view_count": null,
       "_view_module": "@jupyter-widgets/base",
       "_view_module_version": "1.2.0",
       "_view_name": "LayoutView",
       "align_content": null,
       "align_items": null,
       "align_self": null,
       "border": null,
       "bottom": null,
       "display": null,
       "flex": null,
       "flex_flow": null,
       "grid_area": null,
       "grid_auto_columns": null,
       "grid_auto_flow": null,
       "grid_auto_rows": null,
       "grid_column": null,
       "grid_gap": null,
       "grid_row": null,
       "grid_template_areas": null,
       "grid_template_columns": null,
       "grid_template_rows": null,
       "height": null,
       "justify_content": null,
       "justify_items": null,
       "left": null,
       "margin": null,
       "max_height": null,
       "max_width": null,
       "min_height": null,
       "min_width": null,
       "object_fit": null,
       "object_position": null,
       "order": null,
       "overflow": null,
       "overflow_x": null,
       "overflow_y": null,
       "padding": null,
       "right": null,
       "top": null,
       "visibility": null,
       "width": null
      }
     },
     "eeea25e001fd4b5684407d6144043ec6": {
      "model_module": "@jupyter-widgets/controls",
      "model_module_version": "1.5.0",
      "model_name": "FloatProgressModel",
      "state": {
       "_dom_classes": [],
       "_model_module": "@jupyter-widgets/controls",
       "_model_module_version": "1.5.0",
       "_model_name": "FloatProgressModel",
       "_view_count": null,
       "_view_module": "@jupyter-widgets/controls",
       "_view_module_version": "1.5.0",
       "_view_name": "ProgressView",
       "bar_style": "success",
       "description": "",
       "description_tooltip": null,
       "layout": "IPY_MODEL_0e66e9793089476d97f9aad27909655f",
       "max": 450.0,
       "min": 0.0,
       "orientation": "horizontal",
       "style": "IPY_MODEL_fed9355445094fef933bb4abf40d25b3",
       "value": 450.0
      }
     },
     "f1d1460d06b94490b5f11148f0618745": {
      "model_module": "@jupyter-widgets/base",
      "model_module_version": "1.2.0",
      "model_name": "LayoutModel",
      "state": {
       "_model_module": "@jupyter-widgets/base",
       "_model_module_version": "1.2.0",
       "_model_name": "LayoutModel",
       "_view_count": null,
       "_view_module": "@jupyter-widgets/base",
       "_view_module_version": "1.2.0",
       "_view_name": "LayoutView",
       "align_content": null,
       "align_items": null,
       "align_self": null,
       "border": null,
       "bottom": null,
       "display": null,
       "flex": null,
       "flex_flow": null,
       "grid_area": null,
       "grid_auto_columns": null,
       "grid_auto_flow": null,
       "grid_auto_rows": null,
       "grid_column": null,
       "grid_gap": null,
       "grid_row": null,
       "grid_template_areas": null,
       "grid_template_columns": null,
       "grid_template_rows": null,
       "height": null,
       "justify_content": null,
       "justify_items": null,
       "left": null,
       "margin": null,
       "max_height": null,
       "max_width": null,
       "min_height": null,
       "min_width": null,
       "object_fit": null,
       "object_position": null,
       "order": null,
       "overflow": null,
       "overflow_x": null,
       "overflow_y": null,
       "padding": null,
       "right": null,
       "top": null,
       "visibility": null,
       "width": null
      }
     },
     "f264621c210b483c9f41bd2735f4d471": {
      "model_module": "@jupyter-widgets/base",
      "model_module_version": "1.2.0",
      "model_name": "LayoutModel",
      "state": {
       "_model_module": "@jupyter-widgets/base",
       "_model_module_version": "1.2.0",
       "_model_name": "LayoutModel",
       "_view_count": null,
       "_view_module": "@jupyter-widgets/base",
       "_view_module_version": "1.2.0",
       "_view_name": "LayoutView",
       "align_content": null,
       "align_items": null,
       "align_self": null,
       "border": null,
       "bottom": null,
       "display": null,
       "flex": null,
       "flex_flow": null,
       "grid_area": null,
       "grid_auto_columns": null,
       "grid_auto_flow": null,
       "grid_auto_rows": null,
       "grid_column": null,
       "grid_gap": null,
       "grid_row": null,
       "grid_template_areas": null,
       "grid_template_columns": null,
       "grid_template_rows": null,
       "height": null,
       "justify_content": null,
       "justify_items": null,
       "left": null,
       "margin": null,
       "max_height": null,
       "max_width": null,
       "min_height": null,
       "min_width": null,
       "object_fit": null,
       "object_position": null,
       "order": null,
       "overflow": null,
       "overflow_x": null,
       "overflow_y": null,
       "padding": null,
       "right": null,
       "top": null,
       "visibility": null,
       "width": null
      }
     },
     "f33f586de0d3443fa9447922fc0c9f3f": {
      "model_module": "@jupyter-widgets/controls",
      "model_module_version": "1.5.0",
      "model_name": "HTMLModel",
      "state": {
       "_dom_classes": [],
       "_model_module": "@jupyter-widgets/controls",
       "_model_module_version": "1.5.0",
       "_model_name": "HTMLModel",
       "_view_count": null,
       "_view_module": "@jupyter-widgets/controls",
       "_view_module_version": "1.5.0",
       "_view_name": "HTMLView",
       "description": "",
       "description_tooltip": null,
       "layout": "IPY_MODEL_f49fe5ef7a17471da034bce6936a4f61",
       "placeholder": "​",
       "style": "IPY_MODEL_545e361f1c9c4c2cbb68c44f7541ff4f",
       "value": " 1279463/1279463 [03:09&lt;00:00, 6882.40it/s]"
      }
     },
     "f49fe5ef7a17471da034bce6936a4f61": {
      "model_module": "@jupyter-widgets/base",
      "model_module_version": "1.2.0",
      "model_name": "LayoutModel",
      "state": {
       "_model_module": "@jupyter-widgets/base",
       "_model_module_version": "1.2.0",
       "_model_name": "LayoutModel",
       "_view_count": null,
       "_view_module": "@jupyter-widgets/base",
       "_view_module_version": "1.2.0",
       "_view_name": "LayoutView",
       "align_content": null,
       "align_items": null,
       "align_self": null,
       "border": null,
       "bottom": null,
       "display": null,
       "flex": null,
       "flex_flow": null,
       "grid_area": null,
       "grid_auto_columns": null,
       "grid_auto_flow": null,
       "grid_auto_rows": null,
       "grid_column": null,
       "grid_gap": null,
       "grid_row": null,
       "grid_template_areas": null,
       "grid_template_columns": null,
       "grid_template_rows": null,
       "height": null,
       "justify_content": null,
       "justify_items": null,
       "left": null,
       "margin": null,
       "max_height": null,
       "max_width": null,
       "min_height": null,
       "min_width": null,
       "object_fit": null,
       "object_position": null,
       "order": null,
       "overflow": null,
       "overflow_x": null,
       "overflow_y": null,
       "padding": null,
       "right": null,
       "top": null,
       "visibility": null,
       "width": null
      }
     },
     "f6cb159a1d3340dd917b8b090a10776b": {
      "model_module": "@jupyter-widgets/controls",
      "model_module_version": "1.5.0",
      "model_name": "DescriptionStyleModel",
      "state": {
       "_model_module": "@jupyter-widgets/controls",
       "_model_module_version": "1.5.0",
       "_model_name": "DescriptionStyleModel",
       "_view_count": null,
       "_view_module": "@jupyter-widgets/base",
       "_view_module_version": "1.2.0",
       "_view_name": "StyleView",
       "description_width": ""
      }
     },
     "f7d12e3f73924ab59216bb31921e604a": {
      "model_module": "@jupyter-widgets/controls",
      "model_module_version": "1.5.0",
      "model_name": "FloatProgressModel",
      "state": {
       "_dom_classes": [],
       "_model_module": "@jupyter-widgets/controls",
       "_model_module_version": "1.5.0",
       "_model_name": "FloatProgressModel",
       "_view_count": null,
       "_view_module": "@jupyter-widgets/controls",
       "_view_module_version": "1.5.0",
       "_view_name": "ProgressView",
       "bar_style": "success",
       "description": "",
       "description_tooltip": null,
       "layout": "IPY_MODEL_abeaa9cf7d5d4da98df2050bedad320a",
       "max": 1279463.0,
       "min": 0.0,
       "orientation": "horizontal",
       "style": "IPY_MODEL_130a728f49614296ab80cedbc78325cc",
       "value": 1279463.0
      }
     },
     "fa931cd362fd4679b554566d2862c306": {
      "model_module": "@jupyter-widgets/base",
      "model_module_version": "1.2.0",
      "model_name": "LayoutModel",
      "state": {
       "_model_module": "@jupyter-widgets/base",
       "_model_module_version": "1.2.0",
       "_model_name": "LayoutModel",
       "_view_count": null,
       "_view_module": "@jupyter-widgets/base",
       "_view_module_version": "1.2.0",
       "_view_name": "LayoutView",
       "align_content": null,
       "align_items": null,
       "align_self": null,
       "border": null,
       "bottom": null,
       "display": null,
       "flex": null,
       "flex_flow": null,
       "grid_area": null,
       "grid_auto_columns": null,
       "grid_auto_flow": null,
       "grid_auto_rows": null,
       "grid_column": null,
       "grid_gap": null,
       "grid_row": null,
       "grid_template_areas": null,
       "grid_template_columns": null,
       "grid_template_rows": null,
       "height": null,
       "justify_content": null,
       "justify_items": null,
       "left": null,
       "margin": null,
       "max_height": null,
       "max_width": null,
       "min_height": null,
       "min_width": null,
       "object_fit": null,
       "object_position": null,
       "order": null,
       "overflow": null,
       "overflow_x": null,
       "overflow_y": null,
       "padding": null,
       "right": null,
       "top": null,
       "visibility": null,
       "width": null
      }
     },
     "fed9355445094fef933bb4abf40d25b3": {
      "model_module": "@jupyter-widgets/controls",
      "model_module_version": "1.5.0",
      "model_name": "ProgressStyleModel",
      "state": {
       "_model_module": "@jupyter-widgets/controls",
       "_model_module_version": "1.5.0",
       "_model_name": "ProgressStyleModel",
       "_view_count": null,
       "_view_module": "@jupyter-widgets/base",
       "_view_module_version": "1.2.0",
       "_view_name": "StyleView",
       "bar_color": null,
       "description_width": ""
      }
     },
     "ffb2aa1a5dc8489ab9c244091422d150": {
      "model_module": "@jupyter-widgets/base",
      "model_module_version": "1.2.0",
      "model_name": "LayoutModel",
      "state": {
       "_model_module": "@jupyter-widgets/base",
       "_model_module_version": "1.2.0",
       "_model_name": "LayoutModel",
       "_view_count": null,
       "_view_module": "@jupyter-widgets/base",
       "_view_module_version": "1.2.0",
       "_view_name": "LayoutView",
       "align_content": null,
       "align_items": null,
       "align_self": null,
       "border": null,
       "bottom": null,
       "display": null,
       "flex": null,
       "flex_flow": null,
       "grid_area": null,
       "grid_auto_columns": null,
       "grid_auto_flow": null,
       "grid_auto_rows": null,
       "grid_column": null,
       "grid_gap": null,
       "grid_row": null,
       "grid_template_areas": null,
       "grid_template_columns": null,
       "grid_template_rows": null,
       "height": null,
       "justify_content": null,
       "justify_items": null,
       "left": null,
       "margin": null,
       "max_height": null,
       "max_width": null,
       "min_height": null,
       "min_width": null,
       "object_fit": null,
       "object_position": null,
       "order": null,
       "overflow": null,
       "overflow_x": null,
       "overflow_y": null,
       "padding": null,
       "right": null,
       "top": null,
       "visibility": null,
       "width": null
      }
     }
    },
    "version_major": 2,
    "version_minor": 0
   }
  }
 },
 "nbformat": 4,
 "nbformat_minor": 5
}
